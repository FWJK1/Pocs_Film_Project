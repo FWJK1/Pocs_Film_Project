{
 "cells": [
  {
   "cell_type": "code",
   "execution_count": 3,
   "metadata": {},
   "outputs": [
    {
     "ename": "ModuleNotFoundError",
     "evalue": "No module named 'letterboxdpy'",
     "output_type": "error",
     "traceback": [
      "\u001b[1;31m---------------------------------------------------------------------------\u001b[0m",
      "\u001b[1;31mModuleNotFoundError\u001b[0m                       Traceback (most recent call last)",
      "Cell \u001b[1;32mIn[3], line 1\u001b[0m\n\u001b[1;32m----> 1\u001b[0m \u001b[38;5;28;01mimport\u001b[39;00m \u001b[38;5;21;01mletterboxdpy\u001b[39;00m \u001b[38;5;28;01mas\u001b[39;00m \u001b[38;5;21;01mlbd\u001b[39;00m\n",
      "\u001b[1;31mModuleNotFoundError\u001b[0m: No module named 'letterboxdpy'"
     ]
    }
   ],
   "source": [
    "import letterboxdpy as lbd"
   ]
  },
  {
   "cell_type": "code",
   "execution_count": 30,
   "metadata": {},
   "outputs": [
    {
     "name": "stdout",
     "output_type": "stream",
     "text": [
      "{\n",
      "    \"title\": \"v-for-vendetta\",\n",
      "    \"url\": \"https://letterboxd.com/film/v-for-vendetta/\",\n",
      "    \"directors\": [\n",
      "        \"James McTeigue\"\n",
      "    ],\n",
      "    \"rating\": \"3.85 out of 5\",\n",
      "    \"year\": \"2005\",\n",
      "    \"genres\": [\n",
      "        \"Thriller\",\n",
      "        \"Science Fiction\",\n",
      "        \"Action\"\n",
      "    ]\n",
      "}\n"
     ]
    },
    {
     "data": {
      "text/plain": [
       "[{'reviewer': 'zoey luke',\n",
       "  'rating': ' ★★★★½ ',\n",
       "  'review': 'I love natalie Portman and I hate the government'},\n",
       " {'reviewer': 'andie',\n",
       "  'rating': ' ★★★★ ',\n",
       "  'review': 'Someone: *says any word starting with the letter V*Me: ah, nice V for Vendetta reference'},\n",
       " {'reviewer': 'shay',\n",
       "  'rating': ' ★★★★★ ',\n",
       "  'review': \"i'm like natalie portman in this film because after watching this i, too, became bald.\"},\n",
       " {'reviewer': 'Ellie ✨',\n",
       "  'rating': ' ★★★★★ ',\n",
       "  'review': 'according to the imdb trivia, keira knightley auditioned for this. actual english person keira knightley, who is often mistaken for natalie portman, auditioned for the role of evey, and then lost to her american lookalike'},\n",
       " {'reviewer': 'Ayo Edebiri',\n",
       "  'rating': ' ★★★ ',\n",
       "  'review': 'if you were on tumblr in 2008 and reblogged a gif of Natalie Portman crying while her head got shaved you’re a leftist now'},\n",
       " {'reviewer': 'miranda todd',\n",
       "  'rating': ' ★★★★½ ',\n",
       "  'review': 'This review may contain spoilers. I can handle the truth.'},\n",
       " {'reviewer': 'Evan',\n",
       "  'rating': ' ★★★★½ ',\n",
       "  'review': \"When people tell me Marvel comic book movies are better than DC comic book movies, I can't help but to laugh. Then I tell them to go watch: V for Vendetta, Watchmen, and The Dark Knight Trilogy. QUALITY over quantity, people. \"},\n",
       " {'reviewer': 'cinemacl🎃wn',\n",
       "  'rating': ' ★★★★½ ',\n",
       "  'review': \"A vehemently crafted, voraciously told & vigorously acted cinematic vessel with a valuable & vivified voice that's as veracious as it is vengeful, V for Vendetta visualises an uncompromising vision of a vile & vexatious future our increasingly venomous world is visibly veering towards, and is by all means a valorous & victorious effort.\"},\n",
       " {'reviewer': 'Madi',\n",
       "  'rating': ' ★★★★ ',\n",
       "  'review': 'I hate,\\xa0HATE that I’m so attracted to V'},\n",
       " {'reviewer': 'Paul',\n",
       "  'rating': ' ★★★★ ',\n",
       "  'review': \"Anonymous hacker man with a slightly above average vocabulary blows up buildings, terrorizes politicians with riddles, and M'lady's his way into Natalie Portman's heart. I'm not even joking.\"},\n",
       " {'reviewer': 'James Healey',\n",
       "  'rating': ' ★★½ ',\n",
       "  'review': 'Remember, remember, on the 5th of November, that this movie is overrated as fuck.'},\n",
       " {'reviewer': 'p e r s i a 🍒',\n",
       "  'rating': ' ★★★½ ',\n",
       "  'review': 'This review may contain spoilers. I can handle the truth.'}]"
      ]
     },
     "execution_count": 30,
     "metadata": {},
     "output_type": "execute_result"
    }
   ],
   "source": [
    "from letterboxdpy.movie import Movie\n",
    "movie_instance = Movie(\"v-for-vendetta\")\n",
    "print(movie_instance)\n",
    "\n",
    "lbd.movie.movie_popular_reviews(movie_instance)\n",
    "\n",
    "##Hello "
   ]
  },
  {
   "cell_type": "code",
   "execution_count": 18,
   "metadata": {},
   "outputs": [],
   "source": [
    "from letterboxdpy.members import top_users\n",
    "a = top_users(100)"
   ]
  },
  {
   "cell_type": "code",
   "execution_count": 22,
   "metadata": {},
   "outputs": [
    {
     "name": "stdout",
     "output_type": "stream",
     "text": [
      "{\n",
      "    \"username\": \"schaffrillas\",\n",
      "    \"watchlist_length\": \"114\",\n",
      "    \"favorites\": [\n",
      "        [\n",
      "            \"Whiplash\",\n",
      "            \"whiplash-2014\"\n",
      "        ],\n",
      "        [\n",
      "            \"Lady Bird\",\n",
      "            \"lady-bird\"\n",
      "        ],\n",
      "        [\n",
      "            \"Whisper of the Heart\",\n",
      "            \"whisper-of-the-heart\"\n",
      "        ],\n",
      "        [\n",
      "            \"RRR\",\n",
      "            \"rrr\"\n",
      "        ]\n",
      "    ],\n",
      "    \"stats\": {\n",
      "        \"Films\": \"1,090\",\n",
      "        \"This year\": \"146\",\n",
      "        \"Lists\": \"22\",\n",
      "        \"Following\": \"24\",\n",
      "        \"Followers\": \"123,792\"\n",
      "    }\n",
      "}\n"
     ]
    }
   ],
   "source": [
    "a_1 = User(a[1])\n",
    "print(a_1)"
   ]
  }
 ],
 "metadata": {
  "kernelspec": {
   "display_name": "base",
   "language": "python",
   "name": "python3"
  },
  "language_info": {
   "codemirror_mode": {
    "name": "ipython",
    "version": 3
   },
   "file_extension": ".py",
   "mimetype": "text/x-python",
   "name": "python",
   "nbconvert_exporter": "python",
   "pygments_lexer": "ipython3",
   "version": "3.12.4"
  }
 },
 "nbformat": 4,
 "nbformat_minor": 2
}
