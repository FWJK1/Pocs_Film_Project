{
 "cells": [
  {
   "cell_type": "markdown",
   "metadata": {},
   "source": [
    "# Import libraries and setup git root"
   ]
  },
  {
   "cell_type": "code",
   "execution_count": 1,
   "metadata": {},
   "outputs": [],
   "source": [
    "from transformers import DistilBertTokenizer, DistilBertModel\n",
    "from sklearn.cluster import KMeans\n",
    "import torch\n",
    "import numpy as np\n",
    "import pandas as pd\n",
    "import fastparquet ## make sure environment has fastparquet and NOT pyarrow\n",
    "import itertools\n"
   ]
  },
  {
   "cell_type": "code",
   "execution_count": 2,
   "metadata": {},
   "outputs": [
    {
     "name": "stdout",
     "output_type": "stream",
     "text": [
      "c:/Users/fitsl/Documents/Programming/UVM Programming Classes/PoCS/pocs_project\n"
     ]
    }
   ],
   "source": [
    "import os\n",
    "\n",
    "def find_repo_root(start_path):\n",
    "    \"\"\"\n",
    "    useful general function for finding the (first, closest) repo root so github file paths work the same on different machines \n",
    "    \"\"\"\n",
    "    current_path = os.path.abspath(start_path)\n",
    "    \n",
    "    while True:\n",
    "        # Check for the existence of the .git directory or other indicators\n",
    "        if os.path.isdir(os.path.join(current_path, '.git')) or \\\n",
    "           os.path.isfile(os.path.join(current_path, 'README.md')):\n",
    "            return current_path\n",
    "        \n",
    "        parent_path = os.path.dirname(current_path)\n",
    "        \n",
    "        # Stop if we reach the root directory\n",
    "        if parent_path == current_path:\n",
    "            break\n",
    "        \n",
    "        current_path = parent_path\n",
    "\n",
    "    return None  # Return None if not found\n",
    "\n",
    "root = find_repo_root(os.getcwd())\n",
    "root = root.replace('\\\\', '/')\n",
    "print(root)\n"
   ]
  },
  {
   "cell_type": "markdown",
   "metadata": {},
   "source": [
    "# Import the comments data"
   ]
  },
  {
   "cell_type": "code",
   "execution_count": 3,
   "metadata": {},
   "outputs": [],
   "source": [
    "df = pd.read_parquet(f\"{root}/Data/Whole_sets/merged_tropes_comments.parquet\")"
   ]
  },
  {
   "cell_type": "markdown",
   "metadata": {},
   "source": [
    "Now, we pick say "
   ]
  },
  {
   "cell_type": "code",
   "execution_count": 4,
   "metadata": {},
   "outputs": [
    {
     "data": {
      "text/plain": [
       "[\"this fucking guy took a shower with socks on and it still wasn't the weirdest thing in the movie\",\n",
       " 'Maybe the greatest film of all time.',\n",
       " 'God I forgot how absurdist and charming this is... Feels more like a series of sketches than a cohesive movie, but some of those,man, aregoddamn awesome. A stop motion hamburger rocking to Van Halen, dude skiing down a mountain withone ski, using a Hall and Oates song at the most opportune time. Besides, how can you hate a movie that ends with a kiss on top of a black camaro with John Cusack holding a saxophone?',\n",
       " '\"gee, i\\'m real sorry your mom blew up, ricky\"',\n",
       " 'So I finally got offered a great job yesterday and accepted it! To celebrate “operation: get life back on track” I decided to revisit a favorite!Life’s pretty good sometimes! :)',\n",
       " 'We can just pretend Dan Schneider isn’t in this right',\n",
       " \"One of the moreclever teen comediesof the 1980s. I love how absurd and cartoon-like this is from the get-go. The movie is filled to the brim with colourful characters and wacky situations. I'm a big fan of Cusack and he's great here. I still got a little crush on Diane Franklin/Monique. The kid brother will always be my hero. Fuck Stalin, man. What a dick!It was a lot of fun watching this with a Better off Dead first-timer(Michelle).\",\n",
       " \"If you get dumped and then get challenged to a ski competition, you're gonna have a bad time.\",\n",
       " '65Very Gen-X. John Cusack as a romantic lead is one of the main reasons why I go to the movies, though.',\n",
       " 'The most exciting thing a movie could possibly do is have a cheeseburger shred on an electric guitar. This is the only movie that had the guts to try it.',\n",
       " '\"I know it\\'s bacon.... what have you done to it?!?\"I fuckingLOVEBetter Off Dead.It still manages to make me laugh and I still manage to quote it after all these years.\"Gee, I\\'m real sorry your mom blew up, Ricky\"Savage Steve Holland\\'s writing/directorial is filled with black humor and surrealist comedy and boasts an extremely lovable cast. Over the years this has become one of my most sacred movie experiences—it’s easily my favorite entry in the 80\\'s \\'coming of age teen comedy romance\\' genre.After the credits finished rolling, I simply just hit play again. It just feels natural.',\n",
       " \"“Man, you're the hottest thing since sunburns!“\",\n",
       " 'Surrealist Cusak 80s Nightmare Slapstick',\n",
       " \"The 1980s Teen Comedy Weekend!Suddenly the Asspen episode of South Park makes so much more sense now.Better Off Dead is a very weird film indeed. For the most part it seems like a very familiar teen romantic comedy - John Cusack's dumped by his girlfriend who opts for the captain of the ski team instead and a tomboy-ish alternative appears on the horizon in the form of French exchange student Diane Franklin while his weird best mate, Curtis…\",\n",
       " \"Lane cares not about his well-being,Gets dumped by the girl that he's seeing.Hoping for death,Life after Beth,Means he's reckless when he goes skiing.\",\n",
       " 'Why is this film available like no where? It’s so good!!!My older brother: 10/10My younger brother: 10/10My dad: 10/10My cousin: 10/10🔙 Star Trek: The Motion Picture🔜 Police Story',\n",
       " \"Imma need to borrow that kid's book about trashy women.\",\n",
       " 'Everybody’s pickLook, all I’m going to say is how the cuss does like nobody know about this? It’s a laugh riot. Seriously one of the funniest movies I’ve ever seen.My dad: 10/10My cousin: 10/10My little brother: 10/10Top 57 favorite films of all time🔙 Scream 2022🔜 Liz and the Blue Bird',\n",
       " \"Full of offensive stereotypes and John Cusack, but surprisingly, overwhelmingly fun. Why do I dislike John Cusack so much? It's one of the great mysteries of my life. I have no idea. Maybe he wants to be in on the joke too much, in those 80s films he did especially he appears as the modern-day hipster, too cool to care, and I kind of want to smack him. Still, as far as John Cusack movies-that-aren't-'High Fidelity' go, this one is…\",\n",
       " \"TANDEM TITLE MAZEFollowing:Dead ManNext Up: The Quick and the DeadOh, thanks to everyone who recommended this film to me (Joel R., Sutter Cane, surely others)... I didn't even know it existed but it's quite a hidden gem and antithesis of the typical 80s teen movie.It's ahead of its time on the always timely topics of sexism, objectification, entitlement, consent and the reality of unrequited love... And from such an awkward and impressionable age.Cusack's charismatic…\",\n",
       " 'I can’t write a review right nowbecause my little brother got his arm caught in the microwave, and my grandmother dropped acid, and she hijacked a school bus full of penguins, so it’s kind of a family crisis.',\n",
       " '\"My mother got her arm caught in the microwave, and she dropped acid, and freaked out and hijacked a school bus full of penguins, so it\\'s KIND OF a family crisis.\"Today consisted of a dope breakfast, watching Better of Dead, a 5 mile run, Cops rolling right past me (and waving!), and a great dinner with the fam.I gotta say, it was a good day.',\n",
       " \"“What's a little boy like you doing with big boy smut like this?”Taylor Negron was such a treasure\",\n",
       " '\"Look Charles, I gotta do this. If I don\\'t, I\\'ll be nothing. I\\'ll end up like my neighbor Ricky Smith. He just sits around crocheting all day and snorting nasal spray.\"Even though I\\'ve seen more films overall, my wife somehow continues to introduce me to [mostly 80\\'s] cult films I had no idea existed before setting eyes on them. I wanna know how the hell I missed this one, it being probably theMost 80\\'s Filmby quite a…',\n",
       " 'Guess this is one of those instances where I can say “he’s just like me fr.”',\n",
       " 'If my sixteen year old self hadn’t been so hell-bent on writing the nextPoint BreakI can almost assure you this is the exact film I would have tried to write. From skiing, to self-loathing, to Van Halen;Better Off Dead…has everything I wanted at sixteen and honestly everything I still want at twenty-two.God, if I could go back in time and show myself this I really would because it truly is everything I was looking for at…',\n",
       " \"I really only watch these 80's teen flicks to see Curtis Armstrong.\",\n",
       " \"It's kinda, like, one of thoseJohn Hughesteen comedies — onhallucinogenic shrooms.Curtis Armstrong's character snortingeverythingin sight willneverget old fer me.John Cusack has famouslydisownedthis movie.Guess he wasn't in on the joke.Pairs well with 'One Crazy Summer'.Ps. The lil' brother in this gives off huge Barry Keoghan vibes.\",\n",
       " 'The idea to imbue this movie with the snark and surrealism of a comic strip is inspired and fun, but oftentimes stilted and awkward in its delivery. The more it leans into that style the less grounded it feels and the less invested I become in the characters as they fade into cartoon. A good enough corny 80s time no less!',\n",
       " 'Absolute madness but fun, and sweet.',\n",
       " '“Lane, listen. I’m gonna help you. I’ve been going to this high school for seven and a half years. I’m no dummy.”80’s classic. Absurdity. The scariest paperboy, and a guitar playing hamburger doing Van Halen. Porky is in it, as is Booger from theNerdsand Winchester from M*A*S*H. Barney Rubble has a bit too.“Gee, I’m really sorry your mom blew up, Ricky.”Savage Steve should have kept on making his movies instead of doing salaried tv work.“Two dollars!!! Two dollars! I want my two dollars!”',\n",
       " 'Everyone has their favourite 80s teen film, mine is Better Off Dead. Have you ever seen it? A suicide obsessed John Cusack (before he was famous for being love-sick) gets dumped and must conquer a deadly ski competition to win his ex-girlfriend back. Pretty simple plot, right? But from the very start this is something completely different, Better off Dead takes you on a surreal journey, an abstract consciousness of ideas and skits that have no need to be thrown…',\n",
       " '\"Sometimes things do not go the way one wanted them to go... At times like this, one would wish that one had not dreamt so much. Just hang in there... destination is just a mile away.\"- Hari Kumar K',\n",
       " 'I really wanted to like this more than I did but I just could not get into it. The plot is basically nonexistent, the comedy wasn’t really my type though I chuckled a few times, and I didn’t connect to the characters or situations at all. Maybe this is better if you’re a high school student or have fond teenage memories but for me those years meant virtually nothing. Too bad.',\n",
       " 'What a funny movie! Another shown to the kids, one said, \"That\\'s the most ridiculous movie I\\'ve seen.\" Although the other reminded him ofAirplane!, so maybe not the most, but certainly ridiculous. And very 1980s. That was great for me. He bought the Camaro for $200, nowdays you couldn\\'t buy the SS badges off the fender for that. And the owner\\'s manual! Good night, don\\'t get grease on it!Some things had to be explained to the kids, like…',\n",
       " \"I can't believe that they wouldn't pay the kid two dollars. What, is that like two thousand dollars in 2022 money?\",\n",
       " \"it's unfortunate how formative this was to my sense of humor growing up\",\n",
       " 'A pretty good 80s teen movie. I think I liked the side gags better than the actual story itself.',\n",
       " 'Had a birthday.Wasn’t feeling great.This made it better.Thanks, Better Off Dead.',\n",
       " \"Yeah, I remember being infuriated with my brother who recorded over this accidentally. I was in the mood for it and whattya know, just white noise. I was sick with anger. Anyway, skiing that nasty slope on one ski just to get away from the kid wanting his 2 dollars was one such way to do something crazy without focusing too much on winning.Perhaps that many pictures of Amanda Wyss in Cusack's bedroom was just a wee bit excessive,…\",\n",
       " '\"Man. That\\'s a real shame when people be throwing away a perfectly good white boy like that.\"This is another case ofIf I had seen this as a teenager it would\\'ve been my favorite movie ever.',\n",
       " 'Actually a pretty awesome 80s “romcom” of sorts that is wholly unique in its presentation.My dad threw this on after we watched the less-than-stellarUnder the Rainbowand this was avastimprovement.I really liked this and I’m even going to say it’s now one of my favorite 80s films. I think it deserves to be talked about a lot more.Like another reviewer mentioned, it sometimes plays like a bunch of sketches stitched together, but I found…',\n",
       " 'Never would have expected to see John Cusack and Dan Schneider have a ski fight in my life',\n",
       " 'This caught me by surprise, as I was not expecting it to completely eschew the realism/seriousness of John Hughes-style teen angst films. Instead this is essentially a cartoon, with (almost) pure silliness from beginning to end. Whether you like this or not may depend on how much you can tolerate a stop-motion hamburger singing Van Halen\\'s \"Everybody Wants Some\" to a crowd of swimming french fries.',\n",
       " 'between 1985 - 1992 there was nothing sexier a man could do than play the sax',\n",
       " 'Better Off Dead… is quite brilliant. It quite literally sums up teenage life, even if they are exaggerated to the max. I think as a teenager, everything is exaggerated. Everything is a big deal and it always is the end of the world. \\xa0I remember being served random things, that as teen, it might as well have been kraken stew. I serve my own teenager hamburgers and she looks at me as if I’m trying to make her eat bugs.\\xa0…',\n",
       " 'The editing in this was so bad. Too much is happening at once and the shots are always in your face. Possibly the most 80s movie ever made.',\n",
       " \"It's hard to capture in words the exact tone of Better Off Dead, depressing if it weren't so bizarrely funny. Heightened reality, silly and somehow maintaining a sort of off-kilter tonal balance, like if the Zucker Brothers made Three O'clock High. From the jump you get an idea of the film's sensibilities, Lane's bedroom plastered with photos of his girlfriend Beth She dumps him for the captain of the ski team after Lane doesn't make the team.He makes a…\",\n",
       " 'The basic motions of an 80s high school romcom are satisfied (you can put it in a fortune cookie: “you will find love was in front of you the whole time”),andthere’s also a “beat the jock at his own game” ski contest, but BETTER OFF DEAD is strangely subversive in the John Hughes dominated decade. Not exactly satire, there’s a cynicism and skewed perspective to the whole thing that doesn’t wink so much as shrugs at the more…',\n",
       " 'Thanks to a bonkers sense of humor anchored by John Cusack\\'s always-charismatic performance, \"Better Off Dead...\" is a consistently weird, charming, hilarious comedy that always entertains.',\n",
       " 'This was such a ‘what the fuck’ movie and I loved every minute of it. John Cusack was so young here, yet he still looks like he does now, it’s crazy. Im surprised that I’ve never heard of this sooner and that I never hear anyone talking about it, it’s really great.',\n",
       " \"Merrily anarchic 80s teen coming of ager that channels much more of the ZAZ Airplane! surrealistic buffoonery than its more staid peers.John Cusack is terrible at attempting suicide. Forget its all because NOES' Amanda Wyss has dumped him because of his failure to get on the high school ski team (really? They were a thing?) by two seconds...and revel in the hilarity of his many attempts at trying to off himself. But of course, suicide is wrong kids...all you…\",\n",
       " 'The humor did not work for me, apart from one scene: All the students are 100% having a good time learning in geometry class. That was hilarious. Other than that, this was pretty cringy.',\n",
       " 'This cracked me up from start to finish! Clever dialogue, hilarious running jokes, and the most persistent paper boy I’ve ever seen. So glad I could watch this withLou!Shout out to the fact that I bought this brand new DVD a few weeks ago for exactly TWO DOLLARS (cash). 🚴\\u200d♀️🗞',\n",
       " 'Back in 2010, I had some roommates and one of them brought home a big basket of candy from her aunt for Christmas. The strange thing was, my aunt gave me an identical basket of candy. However, I dislike candy. I’ve never cared for it and I didn’t even look inside the basket to see what kind of candy was in there. I just put the basket next to my roommate’s on the kitchen table and went on with my…',\n",
       " 'A talking burger sings Van Halen in this.Allow me to repeat,A talking burger sings Van Halen in this.',\n",
       " 'I may be biased because I grew up on this but this is painfully underrated(I found out today that Dan Schneider played Ricky. Somehow never put two and two together… Ew.)',\n",
       " '\"Go that way, really fast. If something gets in your way, turn.\"Ohhh.. that saxophone!🎷',\n",
       " \"I want my two dollars!!! I love it. It was everything I'd imagined a cartoonist would make given the chance to make an 80s live action movie.\",\n",
       " 'Has a “hamburger comes to life and rips a guitar solo” scene that rivals any of the “hamburger comes to life and rips a guitar solo” scenes you might see in The Godfather or Casablanca.Barney Rubble also has a small speaking role in this, so you guessed it: 5 stars. Put “One Way Love” on Spotify, you quislings!!!',\n",
       " \"1985 RankedPhysically Owned FilmsFar and away the BEST of the 80s ski comedies,Better Off Deadhits a lot of sweet spots. Ridiculous 80's cheese, real darkness, absurd humor, and a real pesky paperboy. So much fun.\",\n",
       " 'Really hilarious with a really wacky and bizarre sense of humor but also one that\\'s oddly charming, surprisingly sweet and quite heartwarming. \"Better Off Dead...\" is definitely one of the more underrated teen films of the 1980\\'s with one of my favorite John Cusack performances. His character is just so likable here and he shares a really nice romance and chemistry with Diane Franklin. The soundtrack is great and it\\'s full of memorable supporting characters. Definitely seek this out if you\\'ve yet to see it.',\n",
       " 'I\\'ve seen this movie eleventy billion times but somehow I just noticed Charles De Mar holding whip cream while talking about how they can\\'t find \"any real drugs in this town.\"',\n",
       " 'this movie is so random /pos',\n",
       " 'Man, if you don\\'t know then you don\\'t know. Stupid fun! Love it. Perfect.\"You\\'ll make a fine little helper. What\\'s your name?\"\"Charles Del Mar\"\"Shut up geek',\n",
       " \"Underrated and overlooked gem.This is the ultimate off-the-wall 80's teen-comedy that often gets lost in the shuffle.An extremely young-looking Cusack plays Lane, a teenager who's world comes crashing down when the object of his obsession dumps his ass for the captain of the ski team. Lane is torn between two courses of action; Proving himself on the ski slopes, or committing suicide.The film is occasionally dark but for the most part it's light and whimsical. There are…\",\n",
       " 'I would give this another star but there were too many Dan Schneider jump scares.',\n",
       " 'Roy Stalin is a strong contender for best shithead of 80\\'s cinema. I am incapable of being objective with this beautiful, perfect movie, and because of this, I will include 2 quotes for the first godam motherfucking time im high. Also, follow @hadleyp22 because he put me onto this movie and this app. He is a total badass with a gorgeous and awesome family and decent taste in film. Tell him I sent you in the comments. Love you all!\"For god\\'s sake, Lane, would you relax? It\\'s just our virginity.\"\"Get outta the car!\"',\n",
       " 'Such a funny 80s comedy yet it felt so original. Staring a 17 year old John Cusack and Buger from Revenge of the Nerds. Had some Airplane vibes at times , oddly enough the romance seemed authentic too.Some of my favorite parts were-The nose touching flashback scene.-The younger brother said nothing the whole movie.-Two dollars!- The mom prepares a dinner for the foreign exchange student from France consisting of; French Fries, French Dressing, French Bread…',\n",
       " 'One of the most bizarre comedy films from the 1980s. Frequently delving into surrealism and nonsensical slapstick, it’s a highly creative film, almost like a cartoon. The stop motion burger doing Van Halen was the one that solidified this as a new favorite for me.',\n",
       " 'Only in the 80s would you have someone in roller skates and blue leggings doing skate spins across a High School cafeteria.\\xa0\\xa0Ahh, what a different time.I watched Savage Steve Holland’s directorial (and screenwriting) debut,Better Off Dead, after his follow-upOne Crazy Summerand I’m not sure if that was a good thing or bad thing. Perhaps had I watched this first, I would’ve likedOne Crazy Summereven\\xa0less or I actually enjoyed this more because I watched it…',\n",
       " 'An extra half-star for John Cusack playing romantic sax on his candlelit date.',\n",
       " 'Savage Steve Holland\\'s BETTER OFF DEAD has been ingrained in my psyche since it came out, so much so that it is always within reach. Anytime $2 comes up I think of the paperboy and I can guarantee that I am not the only one in the world that still calls them \"fraunch fries.\"Taking the absurdist style of comedy from the AIRPLANE! movies but grounding it in a typical \\'80\\'s boy tries to win back girl but realizes his…',\n",
       " \"[1985 ACADEMY AWARDS]ME: *have time traveled to the event, walked onstage wearing a tuxedo, and joined legendary filmmakers John Huston, Akira Kurosawa, & Billy Wilder at the microphone to present Best Picture, all of whom are staring at me in confusion*ME: *grabs the mic*ME: I know you all are expecting the World War 1 romantic drama OUT OF AFRICA to pick up a seventh Oscar and win this year's award for Best Picture, but-LIVE AUDIENCE: *Murmurs nervously*…\",\n",
       " '80s/90s Cusack is my spirit animal! The love I have for this man, is more than I can express through mere words. High Fidelity. Grosse Pointe Blank. Sixteen Candles. Say Anything... Pushing Tin. Not to mention all his gems in the early 2000s. Another actor Hollywood forced out because he wasn\\'t afraid to speak up on certain traits of the industry. Such a shame to see him only getting parts in straight to DVD mumbo jumbo.Anyway, I digress...\"Better…',\n",
       " 'This. Is. Bizarre.On one hand, you\\'ve got a cheesy teen comedy. On the other hand,John Cusacktries to kill himself every five minutes because his girlfriend broke up with him.In all fairness, once you get past the initial shock and get used to the film\\'s dark brand of comedy, it gets pretty confortable and funny. I\\'ll go as far as saying this is an undiscovered classic, and a new-found favorite of mine.\"I want my two dollars!\"',\n",
       " \"Well honk my hooter... Many kudos to Paulette for telling me about this. Watched it with her and Steve, with an open fb chat.was kind of expecting an 80s teen riff on Harold and maude but this is its own thing. A nigh perfect cult comedy, full of hilarious non sequiturs, quotables, and underrated performances. More characters should be named Stalin, because it seems inherently funny. Mercy buckets.The review's over... You can go now.\",\n",
       " \"You may think when I write, a comedy that's cringe worthy, I'm talking about the gags, but I'm wincing more at the walk down memory lane. High school again? How far in my past it is and yet I can't escape its reach. Sitting with Lane in that math class, I swear I'm about to hyperventilate, for taking geometry as a senior, I just knew it was going to be the class that would keep me from graduating. Now there's…\",\n",
       " 'As a pre-teen in the 1980’s, and being hugely influenced by my older sister, I was dead keen to become a teenager. And I wanted to do all those wacky things teenagers were supposed to do. I didn’t really know what those were – all I had to go on was the bullshit my sister used to tell me and the content from teen films of the time. And because my folks didn’t let me watch those, I could only…',\n",
       " '\"My Grandmother dropped acid and she freaked out, and hijacked a school bus full of... penguins\"The Eighties will always be the definitive decade for teen filmsfor me.This one is dark,has plenty of laughs and was consistently engaging! Also has perhaps the best homage to Frankenstein ever.',\n",
       " \"ok, imagine you've got a fever, temperature and in your head you're thinking up a plot for a film from the '80s. that's the only way to explain this plot to somebody.every action and/or character is so random, but even so, everything is in its place\",\n",
       " 'Exhausting despite some charming absurdity and John Cusack best efforts. It is interesting how the two Cusack/Holland mid 80s comedies have a similar likable anything for a joke mentality, but the slight more disciplined One Crazy Summer make it pay off better.',\n",
       " 'Absurd and sweet.',\n",
       " 'Christmas Eve 2023 #2 of 4The comedy isn’t as funny all these years later and the suicide bits in the first half are cringy, but it’s a lot of fun overall and does mostly take place at the holidays. \\xa0Savage Steve Holland throws animation, claymation, a pair of Japanese street racers (one of whom only speaks in Howard Cosell quotes), a boy genius brother who assembles space shuttles and picks up trashy women, and a memorably vindictive paper boy…',\n",
       " '\"Man, now thats a real shame when folks be throwing away a perfectly good white boy like that.\"The plot is barebones. Boy loses girl. Boy contemplates suicide. Boy tries to get girl back. Boy finds new girl. Resolution. The reason he doesn\\'t end it is because he\\'s never been to NYC and that\\'s a very valid point.But between all of that is a ridiculous level of sketches and gags that make this run of the mill \\'80s teen…',\n",
       " \"My second Savage Steve Holland film. The first was for the Lara Flynn Boyle marathon, and this time it's for Diane Franklin. I'm surprised to see such high ratings and popularity for a film I never heard of before until going through Diane Franklin's filmography.Wow, that's Tina fromA Nightmare on Elm Street!God Dammit, that fat boy is exactly who I thought it was!Wow, that's E.G. Daily!Enjoyed the first several minutes, but then I couldn't wait until the credits rolled. Diane Franklin isn't in it too much until much later.How I Got Into Collegeis better.\",\n",
       " 'john cusack wearing socks in the shower was the most normal part of this movie',\n",
       " \"Getting old sucks! Whenever I dust off a favorite comedy from my youth, I worry I'll find it too sexist, racist or otherwise ignorant to stand behind nowadays. I'm therefore relieved to confirm this junior high banger holds up, since even in its jokey jabs at teen suicide, Savage Steve Holland's brand of 1980s edginess still doesn't bother me any more than, say,UHF's. John Cusack essays a nicer sort of self-involved douche than he does in companion filmOne…\",\n",
       " 'I would love it if more comedies existed in an inexplicable hyper reality. Reasoning is overrated. Mixed with the cutest Chicago boy next door makesBetter Off Deadinnocently magical. Any scene where the jokes don’t work is immediately followed by sentient goo, an over sexed 8 year old or EG Daily. Plus the movie makes suicide adorable! What a time.',\n",
       " \"During my film watching voyage of discovery I thought I'd seen the majority of John Cusack's many eighties vehicles where he's a loveable high-schooler with attitude. Better Off Dead however was a film I'd only ever heard of through other LB members who'd been impressed by Savage Steve Holland's Northern California set comedy. Having picked up a Blu-Ray of this a few weeks ago at a reasonable price, I was looking forward to notching up my 30+ Cusack film since…\",\n",
       " 'new drinking game:watch any 80s movie with my dad and take a shot every time he says “i miss those days!” or “things were just different back then” (you will be hospitalized)',\n",
       " 'TWO DOLLARS!!',\n",
       " 'quintessential ‘80s breakup cinema. soundtrack is a slap’n. animation is wild. half-star increase. Lane is me, I am him.i’d fall in love with a french girl so fast 🥐',\n",
       " 'Watched this movie so many times growing up it’s practically part of my DNA. No wonder I have such a weird sense of humor!Watching my entire collection in alphabetical order: Movie #98',\n",
       " 'Better Off Dead ---- 1985Better Off Dead is a teen comedy from the 1980\\'s from Savage Steve Holland. Earlier this year I got around to watching one of Holland\\'s later works \"How I Got Into College\" another teen comedy that I liked quite a bit. So when I found out that this movie was playing on cable I decided to take a chance on it and perhaps have some fun.And overall I\\'d say that this movie was really…',\n",
       " 'When I was in the sixth grade I was randomly cast as a sports announcer in a play about legendary Notre Dame football coach, Knute Rockne. At the time, my biggest reference point to a sports announcer was through this film, so I decided to use the Howard Cosell impersonation (furnished by Rich Little) as the template for my performance.The night the play opened, I stepped up to the mike and belted my lines with Cosell’s trademark gusto. To…']"
      ]
     },
     "execution_count": 4,
     "metadata": {},
     "output_type": "execute_result"
    }
   ],
   "source": [
    "df['reviews_extracted'].iloc[1]"
   ]
  },
  {
   "cell_type": "code",
   "execution_count": null,
   "metadata": {},
   "outputs": [],
   "source": [
    "#### Schema idea from chatgpt #### \n",
    "\n",
    "# Example sets of actors, directors, and films\n",
    "actors_list = ['Leonardo DiCaprio', 'Meryl Streep', 'Brad Pitt']  # You can expand this list\n",
    "directors_list = ['Quentin Tarantino', 'Steven Spielberg', 'Martin Scorsese']  # Expand as needed\n",
    "films_list = ['Inception', 'The Matrix', 'Pulp Fiction', 'Forrest Gump']  # Expand as needed\n",
    "\n",
    "def replace_named_entities_with_keywords(text, actors, directors, films):\n",
    "    # First, replace known actors, directors, and films with tags\n",
    "    for actor in actors:\n",
    "        text = re.sub(r'\\b' + re.escape(actor) + r'\\b', '[ACTOR]', text)\n",
    "        \n",
    "    for director in directors:\n",
    "        text = re.sub(r'\\b' + re.escape(director) + r'\\b', '[DIRECTOR]', text)\n",
    "        \n",
    "    for film in films:\n",
    "        text = re.sub(r'\\b' + re.escape(film) + r'\\b', '[FILM]', text)\n",
    "    \n",
    "    return text\n",
    "\n",
    "def replace_named_entities_with_bert(text, nlp_ner):\n",
    "    # Use BERT NER pipeline to extract named entities\n",
    "    entities = nlp_ner(text)\n",
    "    \n",
    "    # Replace each recognized entity with a placeholder (except for those already tagged by the keyword pass)\n",
    "    for entity in sorted(entities, key=lambda x: x['start'], reverse=True):\n",
    "        entity_text = text[entity['start']:entity['end']]\n",
    "        \n",
    "        # General NER replacement (skip already tagged entities like [ACTOR], [DIRECTOR], [FILM])\n",
    "        if '[ACTOR]' not in entity_text and '[DIRECTOR]' not in entity_text and '[FILM]' not in entity_text:\n",
    "            text = text[:entity['start']] + f\"[{entity['entity']}]\"+ text[entity['end']:]\n",
    "    \n",
    "    # Clean up tags by replacing 'B-' and 'I-' labels into a single tag\n",
    "    text = re.sub(r'\\[B-([A-Z]+)\\](\\s*\\[I-\\1\\])+', r'[\\1]', text)\n",
    "    text = re.sub(r'\\[[BI]-(\\w+)\\]', r'[\\1]', text)\n",
    "\n",
    "    return text\n",
    "\n",
    "def process_review(text, nlp_ner):\n",
    "    # Step 1: Keyword-based pass to tag actors, directors, and films\n",
    "    text = replace_named_entities_with_keywords(text, actors_list, directors_list, films_list)\n",
    "    \n",
    "    # Step 2: Apply BERT NER pass to identify and tag other entities\n",
    "    text = replace_named_entities_with_bert(text, nlp_ner)\n",
    "    \n",
    "    return text\n"
   ]
  }
 ],
 "metadata": {
  "kernelspec": {
   "display_name": "bertopic",
   "language": "python",
   "name": "python3"
  },
  "language_info": {
   "codemirror_mode": {
    "name": "ipython",
    "version": 3
   },
   "file_extension": ".py",
   "mimetype": "text/x-python",
   "name": "python",
   "nbconvert_exporter": "python",
   "pygments_lexer": "ipython3",
   "version": "3.8.20"
  }
 },
 "nbformat": 4,
 "nbformat_minor": 2
}
