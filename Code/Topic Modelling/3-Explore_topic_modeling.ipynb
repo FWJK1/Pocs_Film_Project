{
 "cells": [
  {
   "cell_type": "code",
   "execution_count": 1,
   "metadata": {},
   "outputs": [],
   "source": [
    "from transformers import DistilBertTokenizer, DistilBertModel\n",
    "from sklearn.cluster import KMeans\n",
    "import torch\n",
    "import numpy as np\n",
    "import pandas as pd\n",
    "import re\n",
    "# import fastparquet ## make sure environment has fastparquet and NOT pyarrow\n",
    "from itertools import chain\n",
    "import ast\n",
    "import pickle "
   ]
  },
  {
   "cell_type": "code",
   "execution_count": null,
   "metadata": {},
   "outputs": [],
   "source": []
  },
  {
   "cell_type": "code",
   "execution_count": 2,
   "metadata": {},
   "outputs": [
    {
     "name": "stdout",
     "output_type": "stream",
     "text": [
      "c:/Users/fitsl/Documents/Programming/UVM Programming Classes/PoCS/pocs_project\n"
     ]
    }
   ],
   "source": [
    "import os\n",
    "\n",
    "def find_repo_root(start_path):\n",
    "    \"\"\"\n",
    "    useful general function for finding the (first, closest) repo root so github file paths work the same on different machines \n",
    "    \"\"\"\n",
    "    current_path = os.path.abspath(start_path)\n",
    "    \n",
    "    while True:\n",
    "        # Check for the existence of the .git directory or other indicators\n",
    "        if os.path.isdir(os.path.join(current_path, '.git')) or \\\n",
    "           os.path.isfile(os.path.join(current_path, 'README.md')):\n",
    "            return current_path\n",
    "        \n",
    "        parent_path = os.path.dirname(current_path)\n",
    "        \n",
    "        # Stop if we reach the root directory\n",
    "        if parent_path == current_path:\n",
    "            break\n",
    "        \n",
    "        current_path = parent_path\n",
    "\n",
    "    return None  # Return None if not found\n",
    "\n",
    "root = find_repo_root(os.getcwd())\n",
    "root = root.replace('\\\\', '/')\n",
    "print(root)\n"
   ]
  },
  {
   "cell_type": "code",
   "execution_count": 14,
   "metadata": {},
   "outputs": [
    {
     "data": {
      "application/vnd.jupyter.widget-view+json": {
       "model_id": "d7d5b2bc91d449f3a780d4c7b9b5a7bc",
       "version_major": 2,
       "version_minor": 0
      },
      "text/plain": [
       "topics.json:   0%|          | 0.00/15.3M [00:00<?, ?B/s]"
      ]
     },
     "metadata": {},
     "output_type": "display_data"
    },
    {
     "data": {
      "application/vnd.jupyter.widget-view+json": {
       "model_id": "ba0b53a86d11478b9785c9a070892035",
       "version_major": 2,
       "version_minor": 0
      },
      "text/plain": [
       "config.json:   0%|          | 0.00/317 [00:00<?, ?B/s]"
      ]
     },
     "metadata": {},
     "output_type": "display_data"
    },
    {
     "data": {
      "application/vnd.jupyter.widget-view+json": {
       "model_id": "db3c004d60fc4257a05faceb5fbfa0ba",
       "version_major": 2,
       "version_minor": 0
      },
      "text/plain": [
       "topic_embeddings.safetensors:   0%|          | 0.00/10.8M [00:00<?, ?B/s]"
      ]
     },
     "metadata": {},
     "output_type": "display_data"
    },
    {
     "data": {
      "application/vnd.jupyter.widget-view+json": {
       "model_id": "97cc18a74fae46998a8207fdb0889402",
       "version_major": 2,
       "version_minor": 0
      },
      "text/plain": [
       "ctfidf_config.json:   0%|          | 0.00/24.6M [00:00<?, ?B/s]"
      ]
     },
     "metadata": {},
     "output_type": "display_data"
    },
    {
     "data": {
      "application/vnd.jupyter.widget-view+json": {
       "model_id": "e6975caeb5b8479091aeb46cd49575f4",
       "version_major": 2,
       "version_minor": 0
      },
      "text/plain": [
       "ctfidf.safetensors:   0%|          | 0.00/66.1M [00:00<?, ?B/s]"
      ]
     },
     "metadata": {},
     "output_type": "display_data"
    },
    {
     "name": "stderr",
     "output_type": "stream",
     "text": [
      "2024-12-09 22:28:04,945 - BERTopic - WARNING: You are loading a BERTopic model without explicitly defining an embedding model. If you want to also load in an embedding model, make sure to use `BERTopic.load(my_model, embedding_model=my_embedding_model)`.\n"
     ]
    },
    {
     "data": {
      "text/html": [
       "<div>\n",
       "<style scoped>\n",
       "    .dataframe tbody tr th:only-of-type {\n",
       "        vertical-align: middle;\n",
       "    }\n",
       "\n",
       "    .dataframe tbody tr th {\n",
       "        vertical-align: top;\n",
       "    }\n",
       "\n",
       "    .dataframe thead th {\n",
       "        text-align: right;\n",
       "    }\n",
       "</style>\n",
       "<table border=\"1\" class=\"dataframe\">\n",
       "  <thead>\n",
       "    <tr style=\"text-align: right;\">\n",
       "      <th></th>\n",
       "      <th>Topic</th>\n",
       "      <th>Count</th>\n",
       "      <th>Name</th>\n",
       "      <th>Representation</th>\n",
       "      <th>Representative_Docs</th>\n",
       "    </tr>\n",
       "  </thead>\n",
       "  <tbody>\n",
       "    <tr>\n",
       "      <th>0</th>\n",
       "      <td>-1</td>\n",
       "      <td>533130</td>\n",
       "      <td>-1_her_his_he_she</td>\n",
       "      <td>[her, his, he, she, and, director, it, but, to...</td>\n",
       "      <td>NaN</td>\n",
       "    </tr>\n",
       "    <tr>\n",
       "      <th>1</th>\n",
       "      <td>0</td>\n",
       "      <td>17121</td>\n",
       "      <td>0_und_der_ist_ein</td>\n",
       "      <td>[und, der, ist, ein, ich, mit, zu, nicht, den,...</td>\n",
       "      <td>NaN</td>\n",
       "    </tr>\n",
       "    <tr>\n",
       "      <th>2</th>\n",
       "      <td>1</td>\n",
       "      <td>6742</td>\n",
       "      <td>1_filme_uma_um_em</td>\n",
       "      <td>[filme, uma, um, em, mas, muito, os, esse, eu,...</td>\n",
       "      <td>NaN</td>\n",
       "    </tr>\n",
       "    <tr>\n",
       "      <th>3</th>\n",
       "      <td>2</td>\n",
       "      <td>5437</td>\n",
       "      <td>2_et_cest_qui_les</td>\n",
       "      <td>[et, cest, qui, les, pas, dans, je, une, ce, le]</td>\n",
       "      <td>NaN</td>\n",
       "    </tr>\n",
       "    <tr>\n",
       "      <th>4</th>\n",
       "      <td>3</td>\n",
       "      <td>4358</td>\n",
       "      <td>3_horror_scares_scary_jump</td>\n",
       "      <td>[horror, scares, scary, jump, gothic, scariest...</td>\n",
       "      <td>NaN</td>\n",
       "    </tr>\n",
       "    <tr>\n",
       "      <th>...</th>\n",
       "      <td>...</td>\n",
       "      <td>...</td>\n",
       "      <td>...</td>\n",
       "      <td>...</td>\n",
       "      <td>...</td>\n",
       "    </tr>\n",
       "    <tr>\n",
       "      <th>7026</th>\n",
       "      <td>7025</td>\n",
       "      <td>10</td>\n",
       "      <td>7025_weitzvaudeville_goldstein_festival_tcm</td>\n",
       "      <td>[weitzvaudeville, goldstein, festival, tcm, le...</td>\n",
       "      <td>NaN</td>\n",
       "    </tr>\n",
       "    <tr>\n",
       "      <th>7027</th>\n",
       "      <td>7026</td>\n",
       "      <td>10</td>\n",
       "      <td>7026_seetonsof_sillyyyy_favoriteeeee_lovedpitch</td>\n",
       "      <td>[seetonsof, sillyyyy, favoriteeeee, lovedpitch...</td>\n",
       "      <td>NaN</td>\n",
       "    </tr>\n",
       "    <tr>\n",
       "      <th>7028</th>\n",
       "      <td>7027</td>\n",
       "      <td>10</td>\n",
       "      <td>7027_understands_understand_capacity_involved</td>\n",
       "      <td>[understands, understand, capacity, involved, ...</td>\n",
       "      <td>NaN</td>\n",
       "    </tr>\n",
       "    <tr>\n",
       "      <th>7029</th>\n",
       "      <td>7028</td>\n",
       "      <td>10</td>\n",
       "      <td>7028_superman_batman_128also_d23pp7etereskip</td>\n",
       "      <td>[superman, batman, 128also, d23pp7etereskip, e...</td>\n",
       "      <td>NaN</td>\n",
       "    </tr>\n",
       "    <tr>\n",
       "      <th>7030</th>\n",
       "      <td>7029</td>\n",
       "      <td>10</td>\n",
       "      <td>7029_2010_mainstream_directedjokermade_writer</td>\n",
       "      <td>[2010, mainstream, directedjokermade, writer, ...</td>\n",
       "      <td>NaN</td>\n",
       "    </tr>\n",
       "  </tbody>\n",
       "</table>\n",
       "<p>7031 rows × 5 columns</p>\n",
       "</div>"
      ],
      "text/plain": [
       "      Topic   Count                                             Name  \\\n",
       "0        -1  533130                                -1_her_his_he_she   \n",
       "1         0   17121                                0_und_der_ist_ein   \n",
       "2         1    6742                                1_filme_uma_um_em   \n",
       "3         2    5437                                2_et_cest_qui_les   \n",
       "4         3    4358                       3_horror_scares_scary_jump   \n",
       "...     ...     ...                                              ...   \n",
       "7026   7025      10      7025_weitzvaudeville_goldstein_festival_tcm   \n",
       "7027   7026      10  7026_seetonsof_sillyyyy_favoriteeeee_lovedpitch   \n",
       "7028   7027      10    7027_understands_understand_capacity_involved   \n",
       "7029   7028      10     7028_superman_batman_128also_d23pp7etereskip   \n",
       "7030   7029      10    7029_2010_mainstream_directedjokermade_writer   \n",
       "\n",
       "                                         Representation  Representative_Docs  \n",
       "0     [her, his, he, she, and, director, it, but, to...                  NaN  \n",
       "1     [und, der, ist, ein, ich, mit, zu, nicht, den,...                  NaN  \n",
       "2     [filme, uma, um, em, mas, muito, os, esse, eu,...                  NaN  \n",
       "3      [et, cest, qui, les, pas, dans, je, une, ce, le]                  NaN  \n",
       "4     [horror, scares, scary, jump, gothic, scariest...                  NaN  \n",
       "...                                                 ...                  ...  \n",
       "7026  [weitzvaudeville, goldstein, festival, tcm, le...                  NaN  \n",
       "7027  [seetonsof, sillyyyy, favoriteeeee, lovedpitch...                  NaN  \n",
       "7028  [understands, understand, capacity, involved, ...                  NaN  \n",
       "7029  [superman, batman, 128also, d23pp7etereskip, e...                  NaN  \n",
       "7030  [2010, mainstream, directedjokermade, writer, ...                  NaN  \n",
       "\n",
       "[7031 rows x 5 columns]"
      ]
     },
     "execution_count": 14,
     "metadata": {},
     "output_type": "execute_result"
    }
   ],
   "source": [
    "from bertopic import BERTopic\n",
    "topic_model = BERTopic.load(\"fitzlikeglove/FJK_letterboxd_review_vers1\")\n",
    "\n",
    "topic_model.get_topic_info()"
   ]
  },
  {
   "cell_type": "code",
   "execution_count": 13,
   "metadata": {},
   "outputs": [
    {
     "ename": "EOFError",
     "evalue": "Ran out of input",
     "output_type": "error",
     "traceback": [
      "\u001b[1;31m---------------------------------------------------------------------------\u001b[0m",
      "\u001b[1;31mEOFError\u001b[0m                                  Traceback (most recent call last)",
      "Cell \u001b[1;32mIn[13], line 9\u001b[0m\n\u001b[0;32m      7\u001b[0m \u001b[38;5;28;01mwith\u001b[39;00m \u001b[38;5;28mopen\u001b[39m(topic_model_path, \u001b[38;5;124m'\u001b[39m\u001b[38;5;124mrb\u001b[39m\u001b[38;5;124m'\u001b[39m) \u001b[38;5;28;01mas\u001b[39;00m f:\n\u001b[0;32m      8\u001b[0m     f\u001b[38;5;241m.\u001b[39mseek(\u001b[38;5;241m0\u001b[39m)\n\u001b[1;32m----> 9\u001b[0m     \u001b[38;5;28mprint\u001b[39m(\u001b[43mpickle\u001b[49m\u001b[38;5;241;43m.\u001b[39;49m\u001b[43mload\u001b[49m\u001b[43m(\u001b[49m\u001b[43mf\u001b[49m\u001b[43m)\u001b[49m)\n\u001b[0;32m     10\u001b[0m     \u001b[38;5;66;03m# topic_model = pickle.load(f)\u001b[39;00m\n\u001b[0;32m     11\u001b[0m \n\u001b[0;32m     12\u001b[0m \u001b[38;5;66;03m# Load the embedding model (optional, if used)\u001b[39;00m\n\u001b[0;32m     13\u001b[0m \u001b[38;5;28;01mwith\u001b[39;00m \u001b[38;5;28mopen\u001b[39m(embedding_model_path, \u001b[38;5;124m'\u001b[39m\u001b[38;5;124mrb\u001b[39m\u001b[38;5;124m'\u001b[39m) \u001b[38;5;28;01mas\u001b[39;00m f:\n",
      "\u001b[1;31mEOFError\u001b[0m: Ran out of input"
     ]
    }
   ],
   "source": [
    "\n",
    "# File paths\n",
    "topic_model_path = f'{root}/Data/Models/bertopic_model_500.pkl'\n",
    "embedding_model_path = f'{root}/Data/Models/embedding_model_500.pkl'\n",
    "vectorizer_model_path = f'{root}/Data/Models/vectorizer_model_500.pkl'\n",
    "\n",
    "# Load the topic model\n",
    "with open(topic_model_path, 'rb') as f:\n",
    "    f.seek(0)\n",
    "    print(pickle.load(f))\n",
    "    # topic_model = pickle.load(f)\n",
    "\n",
    "# Load the embedding model (optional, if used)\n",
    "with open(embedding_model_path, 'rb') as f:\n",
    "    embedding_model = pickle.load(f)\n",
    "\n",
    "# Load the vectorizer model (optional, if used)\n",
    "with open(vectorizer_model_path, 'rb') as f:\n",
    "    vectorizer_model = pickle.load(f)\n",
    "\n"
   ]
  },
  {
   "cell_type": "code",
   "execution_count": null,
   "metadata": {},
   "outputs": [],
   "source": [
    "topic_model.embedding_model = embedding_model\n",
    "topic_model.vectorizer_model = vectorizer_model\n"
   ]
  },
  {
   "cell_type": "code",
   "execution_count": null,
   "metadata": {},
   "outputs": [
    {
     "data": {
      "text/plain": [
       "['Really happy with this movie Im a sucker for the father son stories [ACTOR] is of course the GOAT and he had an excellent supporting cast The music is awful as is typical of the early 2000 Other than that, the production and direction were well done I think they copped out with the ending Felt a little too feel good, when it could have had a powerful somber ending It a political movie, which isnt a bad thing For',\n",
       " 'The thing that I never understand in these movies is the scenario in which the killer enlists the help of another person in getting rid of someone who knows too much Wouldnt [ROLE] make you, dear reader, just the tiniest bit suspicious that if you help him or her in this evil deed, that you are putting yourself in the exact same position as the person you are helping to kill?oh yeah, and this movie looks amazing and has great atmosphere [ROLE] slow burns from a pitch black noir story to a crazy Japanese ghost jam in its final third',\n",
       " 'What a nice surprise [TITLE] turned out to be Amazing performances, equally stunning cinematography I commend it for the effort to be original I thought [ACTOR] was underutilized And the script can be demanding at times The middle lingered on a bit but overall really entertaining, and very smart for the genre Very gritty, and that ending I actually liked this a lot I have to watch this again soon, Im pretty sure Ill like it more Im not gonna say much about what it about just you watch it, dive in without any knowledge of it and see what you think']"
      ]
     },
     "execution_count": 5,
     "metadata": {},
     "output_type": "execute_result"
    }
   ],
   "source": [
    "df_topics = topic_model.get_topic_info()\n",
    "df_topics['Representative_Docs'].iloc[0]\n",
    "# if topic_model.umap_model is None or topic_model.hdbscan_model is None:\n"
   ]
  },
  {
   "cell_type": "code",
   "execution_count": null,
   "metadata": {},
   "outputs": [
    {
     "data": {
      "text/html": [
       "<div>\n",
       "<style scoped>\n",
       "    .dataframe tbody tr th:only-of-type {\n",
       "        vertical-align: middle;\n",
       "    }\n",
       "\n",
       "    .dataframe tbody tr th {\n",
       "        vertical-align: top;\n",
       "    }\n",
       "\n",
       "    .dataframe thead th {\n",
       "        text-align: right;\n",
       "    }\n",
       "</style>\n",
       "<table border=\"1\" class=\"dataframe\">\n",
       "  <thead>\n",
       "    <tr style=\"text-align: right;\">\n",
       "      <th></th>\n",
       "      <th>Topic</th>\n",
       "      <th>Count</th>\n",
       "      <th>Name</th>\n",
       "      <th>Representation</th>\n",
       "      <th>Representative_Docs</th>\n",
       "    </tr>\n",
       "  </thead>\n",
       "  <tbody>\n",
       "    <tr>\n",
       "      <th>0</th>\n",
       "      <td>-1</td>\n",
       "      <td>584620</td>\n",
       "      <td>-1_woman_life_director_work</td>\n",
       "      <td>[woman, life, director, work, beautiful, comed...</td>\n",
       "      <td>[Really happy with this movie Im a sucker for ...</td>\n",
       "    </tr>\n",
       "    <tr>\n",
       "      <th>1</th>\n",
       "      <td>0</td>\n",
       "      <td>17057</td>\n",
       "      <td>0_und_der_ist_ich</td>\n",
       "      <td>[und, der, ist, ich, ein, zu, mit, nicht, auch...</td>\n",
       "      <td>[Aus meiner Sicht ist No Exit eine spannende G...</td>\n",
       "    </tr>\n",
       "    <tr>\n",
       "      <th>2</th>\n",
       "      <td>1</td>\n",
       "      <td>5928</td>\n",
       "      <td>1_filme_uma_mas_um</td>\n",
       "      <td>[filme, uma, mas, um, em, na, mais, com, da, c...</td>\n",
       "      <td>[Fui com zero expectativas para assistir o fil...</td>\n",
       "    </tr>\n",
       "    <tr>\n",
       "      <th>3</th>\n",
       "      <td>2</td>\n",
       "      <td>5886</td>\n",
       "      <td>2_et_les_je_le</td>\n",
       "      <td>[et, les, je, le, est, mais, des, plus, la, si]</td>\n",
       "      <td>[Ma seule dception dans tout a, cest que je tr...</td>\n",
       "    </tr>\n",
       "    <tr>\n",
       "      <th>4</th>\n",
       "      <td>3</td>\n",
       "      <td>5787</td>\n",
       "      <td>3_role_fuck_mr_hey</td>\n",
       "      <td>[role, fuck, mr, hey, oh, sorry, fucking, want...</td>\n",
       "      <td>[61CBNH [ROLE] 8Delta 5Budget 25 MBox 0ffice 1...</td>\n",
       "    </tr>\n",
       "    <tr>\n",
       "      <th>...</th>\n",
       "      <td>...</td>\n",
       "      <td>...</td>\n",
       "      <td>...</td>\n",
       "      <td>...</td>\n",
       "      <td>...</td>\n",
       "    </tr>\n",
       "    <tr>\n",
       "      <th>6101</th>\n",
       "      <td>6100</td>\n",
       "      <td>10</td>\n",
       "      <td>6100_ghost_predictable_aside_sound</td>\n",
       "      <td>[ghost, predictable, aside, sound, camera, slo...</td>\n",
       "      <td>[This is very stressful They didnt only use co...</td>\n",
       "    </tr>\n",
       "    <tr>\n",
       "      <th>6102</th>\n",
       "      <td>6101</td>\n",
       "      <td>10</td>\n",
       "      <td>6101_yeah_good_fantastic_pretty</td>\n",
       "      <td>[yeah, good, fantastic, pretty, really, , , , , ]</td>\n",
       "      <td>[It not good, folks, Good but not Fantastic!, ...</td>\n",
       "    </tr>\n",
       "    <tr>\n",
       "      <th>6103</th>\n",
       "      <td>6102</td>\n",
       "      <td>10</td>\n",
       "      <td>6102_typical_named_le_filmography</td>\n",
       "      <td>[typical, named, le, filmography, cinematic, j...</td>\n",
       "      <td>[JeanLuc [DIRECTOR] French new wave dramaVivre...</td>\n",
       "    </tr>\n",
       "    <tr>\n",
       "      <th>6104</th>\n",
       "      <td>6103</td>\n",
       "      <td>10</td>\n",
       "      <td>6103_filmed_silent_remake_shot</td>\n",
       "      <td>[filmed, silent, remake, shot, house, rewatch,...</td>\n",
       "      <td>[The Hollywood adaptation of the 2010 Uruguaya...</td>\n",
       "    </tr>\n",
       "    <tr>\n",
       "      <th>6105</th>\n",
       "      <td>6104</td>\n",
       "      <td>10</td>\n",
       "      <td>6104_rewatch_hey_dance_ended</td>\n",
       "      <td>[rewatch, hey, dance, ended, thanks, giving, r...</td>\n",
       "      <td>[This movie wasnt released! It escaped! MST3K ...</td>\n",
       "    </tr>\n",
       "  </tbody>\n",
       "</table>\n",
       "<p>6106 rows × 5 columns</p>\n",
       "</div>"
      ],
      "text/plain": [
       "      Topic   Count                                Name  \\\n",
       "0        -1  584620         -1_woman_life_director_work   \n",
       "1         0   17057                   0_und_der_ist_ich   \n",
       "2         1    5928                  1_filme_uma_mas_um   \n",
       "3         2    5886                      2_et_les_je_le   \n",
       "4         3    5787                  3_role_fuck_mr_hey   \n",
       "...     ...     ...                                 ...   \n",
       "6101   6100      10  6100_ghost_predictable_aside_sound   \n",
       "6102   6101      10     6101_yeah_good_fantastic_pretty   \n",
       "6103   6102      10   6102_typical_named_le_filmography   \n",
       "6104   6103      10      6103_filmed_silent_remake_shot   \n",
       "6105   6104      10        6104_rewatch_hey_dance_ended   \n",
       "\n",
       "                                         Representation  \\\n",
       "0     [woman, life, director, work, beautiful, comed...   \n",
       "1     [und, der, ist, ich, ein, zu, mit, nicht, auch...   \n",
       "2     [filme, uma, mas, um, em, na, mais, com, da, c...   \n",
       "3       [et, les, je, le, est, mais, des, plus, la, si]   \n",
       "4     [role, fuck, mr, hey, oh, sorry, fucking, want...   \n",
       "...                                                 ...   \n",
       "6101  [ghost, predictable, aside, sound, camera, slo...   \n",
       "6102  [yeah, good, fantastic, pretty, really, , , , , ]   \n",
       "6103  [typical, named, le, filmography, cinematic, j...   \n",
       "6104  [filmed, silent, remake, shot, house, rewatch,...   \n",
       "6105  [rewatch, hey, dance, ended, thanks, giving, r...   \n",
       "\n",
       "                                    Representative_Docs  \n",
       "0     [Really happy with this movie Im a sucker for ...  \n",
       "1     [Aus meiner Sicht ist No Exit eine spannende G...  \n",
       "2     [Fui com zero expectativas para assistir o fil...  \n",
       "3     [Ma seule dception dans tout a, cest que je tr...  \n",
       "4     [61CBNH [ROLE] 8Delta 5Budget 25 MBox 0ffice 1...  \n",
       "...                                                 ...  \n",
       "6101  [This is very stressful They didnt only use co...  \n",
       "6102  [It not good, folks, Good but not Fantastic!, ...  \n",
       "6103  [JeanLuc [DIRECTOR] French new wave dramaVivre...  \n",
       "6104  [The Hollywood adaptation of the 2010 Uruguaya...  \n",
       "6105  [This movie wasnt released! It escaped! MST3K ...  \n",
       "\n",
       "[6106 rows x 5 columns]"
      ]
     },
     "execution_count": 6,
     "metadata": {},
     "output_type": "execute_result"
    }
   ],
   "source": [
    "df_topics"
   ]
  },
  {
   "cell_type": "code",
   "execution_count": null,
   "metadata": {},
   "outputs": [
    {
     "name": "stdout",
     "output_type": "stream",
     "text": [
      "3\n",
      "[[ 0.00329201 -0.00730939 -0.01407404 ... -0.00305052  0.01218159\n",
      "   0.00250233]\n",
      " [-0.04832536  0.01292178 -0.02524082 ... -0.01703274  0.03450315\n",
      "  -0.02888659]\n",
      " [-0.13129039  0.02739259  0.00536908 ...  0.06304423 -0.07271639\n",
      "   0.00499278]]\n"
     ]
    }
   ],
   "source": [
    "# Preprocess new data\n",
    "new_documents = df_topics['Representative_Docs'].iloc[0]\n",
    "print(len(new_documents))\n",
    "# Generate embeddings for new data\n",
    "embeddings = topic_model.embedding_model.encode(new_documents)\n",
    "\n",
    "print(embeddings)\n",
    "topics, probabilities = topic_model.transform(new_documents, embeddings=embeddings)\n",
    "\n",
    "print(topics)"
   ]
  },
  {
   "cell_type": "code",
   "execution_count": null,
   "metadata": {},
   "outputs": [
    {
     "name": "stdout",
     "output_type": "stream",
     "text": [
      "[np.int64(-1), np.int64(-1), np.int64(-1)]\n"
     ]
    }
   ],
   "source": [
    "topic_model.visualize_topics([i for i in range(200)])\n"
   ]
  }
 ],
 "metadata": {
  "kernelspec": {
   "display_name": "fjk_bertopic",
   "language": "python",
   "name": "python3"
  },
  "language_info": {
   "codemirror_mode": {
    "name": "ipython",
    "version": 3
   },
   "file_extension": ".py",
   "mimetype": "text/x-python",
   "name": "python",
   "nbconvert_exporter": "python",
   "pygments_lexer": "ipython3",
   "version": "3.9.20"
  }
 },
 "nbformat": 4,
 "nbformat_minor": 2
}
