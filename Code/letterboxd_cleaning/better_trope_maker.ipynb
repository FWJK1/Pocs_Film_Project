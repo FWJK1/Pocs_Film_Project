{
 "cells": [
  {
   "cell_type": "code",
   "execution_count": 12,
   "metadata": {},
   "outputs": [],
   "source": [
    "import pandas as pd\n",
    "import ast"
   ]
  },
  {
   "cell_type": "code",
   "execution_count": 4,
   "metadata": {},
   "outputs": [
    {
     "name": "stdout",
     "output_type": "stream",
     "text": [
      "c:\\Users\\fitsl\\Documents\\Programming\\UVM Programming Classes\\PoCS\\pocs_project\n"
     ]
    }
   ],
   "source": [
    "import os\n",
    "\n",
    "def find_repo_root(start_path):\n",
    "    \"\"\"\n",
    "    useful general function for finding the (first, closest) repo root so github file paths work the same on different machines \n",
    "    \"\"\"\n",
    "    current_path = os.path.abspath(start_path)\n",
    "    \n",
    "    while True:\n",
    "        # Check for the existence of the .git directory or other indicators\n",
    "        if os.path.isdir(os.path.join(current_path, '.git')) or \\\n",
    "           os.path.isfile(os.path.join(current_path, 'README.md')):\n",
    "            return current_path\n",
    "        \n",
    "        parent_path = os.path.dirname(current_path)\n",
    "        \n",
    "        # Stop if we reach the root directory\n",
    "        if parent_path == current_path:\n",
    "            break\n",
    "        \n",
    "        current_path = parent_path\n",
    "\n",
    "    return None  # Return None if not found\n",
    "\n",
    "root = find_repo_root(os.getcwd())\n",
    "print(root)"
   ]
  },
  {
   "cell_type": "code",
   "execution_count": 13,
   "metadata": {},
   "outputs": [
    {
     "data": {
      "text/plain": [
       "Index(['Movie', 'Tropes', 'Movie_strip', 'year', 'imdb_', 'letterboxd_search'], dtype='object')"
      ]
     },
     "execution_count": 13,
     "metadata": {},
     "output_type": "execute_result"
    }
   ],
   "source": [
    "df = pd.read_csv(f\"{root}/Data/letterboxd_search.csv\", index_col=0)\n",
    "df.columns"
   ]
  },
  {
   "cell_type": "code",
   "execution_count": 14,
   "metadata": {},
   "outputs": [],
   "source": [
    "df['nu_tropes'] = df['Tropes'].apply(lambda x: x.split(\",\"))"
   ]
  },
  {
   "cell_type": "code",
   "execution_count": 15,
   "metadata": {},
   "outputs": [
    {
     "data": {
      "text/html": [
       "<div>\n",
       "<style scoped>\n",
       "    .dataframe tbody tr th:only-of-type {\n",
       "        vertical-align: middle;\n",
       "    }\n",
       "\n",
       "    .dataframe tbody tr th {\n",
       "        vertical-align: top;\n",
       "    }\n",
       "\n",
       "    .dataframe thead th {\n",
       "        text-align: right;\n",
       "    }\n",
       "</style>\n",
       "<table border=\"1\" class=\"dataframe\">\n",
       "  <thead>\n",
       "    <tr style=\"text-align: right;\">\n",
       "      <th></th>\n",
       "      <th>trope</th>\n",
       "    </tr>\n",
       "  </thead>\n",
       "  <tbody>\n",
       "    <tr>\n",
       "      <th>0</th>\n",
       "      <td>ArgentineMedia</td>\n",
       "    </tr>\n",
       "    <tr>\n",
       "      <th>1</th>\n",
       "      <td>BlackMagic</td>\n",
       "    </tr>\n",
       "    <tr>\n",
       "      <th>2</th>\n",
       "      <td>ChekhovsGun</td>\n",
       "    </tr>\n",
       "    <tr>\n",
       "      <th>3</th>\n",
       "      <td>ChekhovsGunman</td>\n",
       "    </tr>\n",
       "    <tr>\n",
       "      <th>4</th>\n",
       "      <td>DramaticThunder</td>\n",
       "    </tr>\n",
       "    <tr>\n",
       "      <th>...</th>\n",
       "      <td>...</td>\n",
       "    </tr>\n",
       "    <tr>\n",
       "      <th>38275</th>\n",
       "      <td>Primordial</td>\n",
       "    </tr>\n",
       "    <tr>\n",
       "      <th>38276</th>\n",
       "      <td>MultiTaskedConversation</td>\n",
       "    </tr>\n",
       "    <tr>\n",
       "      <th>38277</th>\n",
       "      <td>NelsonMandela</td>\n",
       "    </tr>\n",
       "    <tr>\n",
       "      <th>38278</th>\n",
       "      <td>TheRunningMan</td>\n",
       "    </tr>\n",
       "    <tr>\n",
       "      <th>38279</th>\n",
       "      <td>BullyHunter</td>\n",
       "    </tr>\n",
       "  </tbody>\n",
       "</table>\n",
       "<p>38280 rows × 1 columns</p>\n",
       "</div>"
      ],
      "text/plain": [
       "                         trope\n",
       "0               ArgentineMedia\n",
       "1                   BlackMagic\n",
       "2                  ChekhovsGun\n",
       "3               ChekhovsGunman\n",
       "4              DramaticThunder\n",
       "...                        ...\n",
       "38275               Primordial\n",
       "38276  MultiTaskedConversation\n",
       "38277            NelsonMandela\n",
       "38278            TheRunningMan\n",
       "38279              BullyHunter\n",
       "\n",
       "[38280 rows x 1 columns]"
      ]
     },
     "execution_count": 15,
     "metadata": {},
     "output_type": "execute_result"
    }
   ],
   "source": [
    "tropes = df['nu_tropes'].explode()\n",
    "tropes = tropes.unique().tolist()\n",
    "df_t = pd.DataFrame({'trope' : tropes})\n",
    "df_t\n"
   ]
  },
  {
   "cell_type": "code",
   "execution_count": 16,
   "metadata": {},
   "outputs": [
    {
     "data": {
      "text/plain": [
       "[' ArgentineMedia',\n",
       " 'BlackMagic',\n",
       " 'ChekhovsGun',\n",
       " 'ChekhovsGunman',\n",
       " 'DramaticThunder',\n",
       " 'DueToTheDead',\n",
       " 'EvilMentor',\n",
       " 'ExactWords',\n",
       " 'FilmsOf20102014',\n",
       " 'GrayRainOfDepression',\n",
       " 'GreatOffscreenWar',\n",
       " 'HesBack',\n",
       " 'HistoricalHeroUpgrade',\n",
       " 'HowWeGotHere',\n",
       " 'ItAlwaysRainsAtFunerals',\n",
       " 'OffscreenMomentOfAwesome',\n",
       " 'RightfulKingReturns',\n",
       " 'SexyDiscretionShot',\n",
       " 'TheExile',\n",
       " 'ThouShaltNotKill',\n",
       " 'VeryLooselyBasedOnATrueStory',\n",
       " 'WeWantOurJerkBack',\n",
       " 'WhatsUpKingDude']"
      ]
     },
     "execution_count": 16,
     "metadata": {},
     "output_type": "execute_result"
    }
   ],
   "source": [
    "df['nu_tropes'].iloc[0]"
   ]
  },
  {
   "cell_type": "code",
   "execution_count": 17,
   "metadata": {},
   "outputs": [],
   "source": [
    "def trope_grabber(trope, df):\n",
    "    movies = []\n",
    "    for index, row in df.iterrows():\n",
    "        if trope in row['Tropes']:\n",
    "            movies.append((row['Movie'], row['letterboxd_search']))\n",
    "    return movies\n",
    "    \n",
    "df_t_n = df_t.iloc[:10].copy()\n",
    "df_t_n['movie'] = df_t_n['trope'].apply(lambda x : trope_grabber(x, df))"
   ]
  },
  {
   "cell_type": "code",
   "execution_count": 18,
   "metadata": {},
   "outputs": [],
   "source": [
    "df_t_n = df_t.iloc[:10].copy()\n",
    "df_t_n['movie'] = df_t_n['trope'].apply(lambda x : trope_grabber(x, df))"
   ]
  },
  {
   "cell_type": "code",
   "execution_count": 19,
   "metadata": {},
   "outputs": [
    {
     "data": {
      "text/html": [
       "<div>\n",
       "<style scoped>\n",
       "    .dataframe tbody tr th:only-of-type {\n",
       "        vertical-align: middle;\n",
       "    }\n",
       "\n",
       "    .dataframe tbody tr th {\n",
       "        vertical-align: top;\n",
       "    }\n",
       "\n",
       "    .dataframe thead th {\n",
       "        text-align: right;\n",
       "    }\n",
       "</style>\n",
       "<table border=\"1\" class=\"dataframe\">\n",
       "  <thead>\n",
       "    <tr style=\"text-align: right;\">\n",
       "      <th></th>\n",
       "      <th>trope</th>\n",
       "      <th>movie</th>\n",
       "    </tr>\n",
       "  </thead>\n",
       "  <tbody>\n",
       "    <tr>\n",
       "      <th>0</th>\n",
       "      <td>ArgentineMedia</td>\n",
       "      <td>[(Puerta  De  Hierro, https://letterboxd.com/s...</td>\n",
       "    </tr>\n",
       "    <tr>\n",
       "      <th>1</th>\n",
       "      <td>BlackMagic</td>\n",
       "      <td>[(Puerta  De  Hierro, https://letterboxd.com/s...</td>\n",
       "    </tr>\n",
       "    <tr>\n",
       "      <th>2</th>\n",
       "      <td>ChekhovsGun</td>\n",
       "      <td>[(Puerta  De  Hierro, https://letterboxd.com/s...</td>\n",
       "    </tr>\n",
       "    <tr>\n",
       "      <th>3</th>\n",
       "      <td>ChekhovsGunman</td>\n",
       "      <td>[(Puerta  De  Hierro, https://letterboxd.com/s...</td>\n",
       "    </tr>\n",
       "    <tr>\n",
       "      <th>4</th>\n",
       "      <td>DramaticThunder</td>\n",
       "      <td>[(Puerta  De  Hierro, https://letterboxd.com/s...</td>\n",
       "    </tr>\n",
       "    <tr>\n",
       "      <th>5</th>\n",
       "      <td>DueToTheDead</td>\n",
       "      <td>[(Puerta  De  Hierro, https://letterboxd.com/s...</td>\n",
       "    </tr>\n",
       "    <tr>\n",
       "      <th>6</th>\n",
       "      <td>EvilMentor</td>\n",
       "      <td>[(Puerta  De  Hierro, https://letterboxd.com/s...</td>\n",
       "    </tr>\n",
       "    <tr>\n",
       "      <th>7</th>\n",
       "      <td>ExactWords</td>\n",
       "      <td>[(Puerta  De  Hierro, https://letterboxd.com/s...</td>\n",
       "    </tr>\n",
       "    <tr>\n",
       "      <th>8</th>\n",
       "      <td>FilmsOf20102014</td>\n",
       "      <td>[(Puerta  De  Hierro, https://letterboxd.com/s...</td>\n",
       "    </tr>\n",
       "    <tr>\n",
       "      <th>9</th>\n",
       "      <td>GrayRainOfDepression</td>\n",
       "      <td>[(Puerta  De  Hierro, https://letterboxd.com/s...</td>\n",
       "    </tr>\n",
       "  </tbody>\n",
       "</table>\n",
       "</div>"
      ],
      "text/plain": [
       "                  trope                                              movie\n",
       "0        ArgentineMedia  [(Puerta  De  Hierro, https://letterboxd.com/s...\n",
       "1            BlackMagic  [(Puerta  De  Hierro, https://letterboxd.com/s...\n",
       "2           ChekhovsGun  [(Puerta  De  Hierro, https://letterboxd.com/s...\n",
       "3        ChekhovsGunman  [(Puerta  De  Hierro, https://letterboxd.com/s...\n",
       "4       DramaticThunder  [(Puerta  De  Hierro, https://letterboxd.com/s...\n",
       "5          DueToTheDead  [(Puerta  De  Hierro, https://letterboxd.com/s...\n",
       "6            EvilMentor  [(Puerta  De  Hierro, https://letterboxd.com/s...\n",
       "7            ExactWords  [(Puerta  De  Hierro, https://letterboxd.com/s...\n",
       "8       FilmsOf20102014  [(Puerta  De  Hierro, https://letterboxd.com/s...\n",
       "9  GrayRainOfDepression  [(Puerta  De  Hierro, https://letterboxd.com/s..."
      ]
     },
     "execution_count": 19,
     "metadata": {},
     "output_type": "execute_result"
    }
   ],
   "source": [
    "df_t_n"
   ]
  },
  {
   "cell_type": "code",
   "execution_count": 20,
   "metadata": {},
   "outputs": [
    {
     "data": {
      "text/html": [
       "<div>\n",
       "<style scoped>\n",
       "    .dataframe tbody tr th:only-of-type {\n",
       "        vertical-align: middle;\n",
       "    }\n",
       "\n",
       "    .dataframe tbody tr th {\n",
       "        vertical-align: top;\n",
       "    }\n",
       "\n",
       "    .dataframe thead th {\n",
       "        text-align: right;\n",
       "    }\n",
       "</style>\n",
       "<table border=\"1\" class=\"dataframe\">\n",
       "  <thead>\n",
       "    <tr style=\"text-align: right;\">\n",
       "      <th></th>\n",
       "      <th>trope</th>\n",
       "      <th>movie</th>\n",
       "    </tr>\n",
       "  </thead>\n",
       "  <tbody>\n",
       "    <tr>\n",
       "      <th>0</th>\n",
       "      <td>ArgentineMedia</td>\n",
       "      <td>[[Puerta  De  Hierro, https://letterboxd.com/s...</td>\n",
       "    </tr>\n",
       "    <tr>\n",
       "      <th>1</th>\n",
       "      <td>BlackMagic</td>\n",
       "      <td>[[Puerta  De  Hierro, https://letterboxd.com/s...</td>\n",
       "    </tr>\n",
       "    <tr>\n",
       "      <th>2</th>\n",
       "      <td>ChekhovsGun</td>\n",
       "      <td>[[Puerta  De  Hierro, https://letterboxd.com/s...</td>\n",
       "    </tr>\n",
       "    <tr>\n",
       "      <th>3</th>\n",
       "      <td>ChekhovsGunman</td>\n",
       "      <td>[[Puerta  De  Hierro, https://letterboxd.com/s...</td>\n",
       "    </tr>\n",
       "    <tr>\n",
       "      <th>4</th>\n",
       "      <td>DramaticThunder</td>\n",
       "      <td>[[Puerta  De  Hierro, https://letterboxd.com/s...</td>\n",
       "    </tr>\n",
       "    <tr>\n",
       "      <th>...</th>\n",
       "      <td>...</td>\n",
       "      <td>...</td>\n",
       "    </tr>\n",
       "    <tr>\n",
       "      <th>38275</th>\n",
       "      <td>Primordial</td>\n",
       "      <td>[[The  Librarian, https://letterboxd.com/searc...</td>\n",
       "    </tr>\n",
       "    <tr>\n",
       "      <th>38276</th>\n",
       "      <td>MultiTaskedConversation</td>\n",
       "      <td>[[Matewan, https://letterboxd.com/search/Matew...</td>\n",
       "    </tr>\n",
       "    <tr>\n",
       "      <th>38277</th>\n",
       "      <td>NelsonMandela</td>\n",
       "      <td>[[The  Running  Man, https://letterboxd.com/se...</td>\n",
       "    </tr>\n",
       "    <tr>\n",
       "      <th>38278</th>\n",
       "      <td>TheRunningMan</td>\n",
       "      <td>[[The  Running  Man, https://letterboxd.com/se...</td>\n",
       "    </tr>\n",
       "    <tr>\n",
       "      <th>38279</th>\n",
       "      <td>BullyHunter</td>\n",
       "      <td>[[Nancy  Drew  And  The  Hidden  Staircase, ht...</td>\n",
       "    </tr>\n",
       "  </tbody>\n",
       "</table>\n",
       "<p>38280 rows × 2 columns</p>\n",
       "</div>"
      ],
      "text/plain": [
       "                         trope  \\\n",
       "0               ArgentineMedia   \n",
       "1                   BlackMagic   \n",
       "2                  ChekhovsGun   \n",
       "3               ChekhovsGunman   \n",
       "4              DramaticThunder   \n",
       "...                        ...   \n",
       "38275               Primordial   \n",
       "38276  MultiTaskedConversation   \n",
       "38277            NelsonMandela   \n",
       "38278            TheRunningMan   \n",
       "38279              BullyHunter   \n",
       "\n",
       "                                                   movie  \n",
       "0      [[Puerta  De  Hierro, https://letterboxd.com/s...  \n",
       "1      [[Puerta  De  Hierro, https://letterboxd.com/s...  \n",
       "2      [[Puerta  De  Hierro, https://letterboxd.com/s...  \n",
       "3      [[Puerta  De  Hierro, https://letterboxd.com/s...  \n",
       "4      [[Puerta  De  Hierro, https://letterboxd.com/s...  \n",
       "...                                                  ...  \n",
       "38275  [[The  Librarian, https://letterboxd.com/searc...  \n",
       "38276  [[Matewan, https://letterboxd.com/search/Matew...  \n",
       "38277  [[The  Running  Man, https://letterboxd.com/se...  \n",
       "38278  [[The  Running  Man, https://letterboxd.com/se...  \n",
       "38279  [[Nancy  Drew  And  The  Hidden  Staircase, ht...  \n",
       "\n",
       "[38280 rows x 2 columns]"
      ]
     },
     "execution_count": 20,
     "metadata": {},
     "output_type": "execute_result"
    }
   ],
   "source": [
    "def trope_grabber(trope, df):\n",
    "    mask = df['Tropes'].str.contains(trope, na=False)  # Boolean mask for matching tropes\n",
    "    movies = df[mask][['Movie', 'letterboxd_search']]  \n",
    "    return movies[['Movie', 'letterboxd_search']].values.tolist()  # Return list of tuples\n",
    "\n",
    "df_t['movie'] = df_t['trope'].apply(lambda trope: trope_grabber(trope, df))\n",
    "df_t"
   ]
  },
  {
   "cell_type": "code",
   "execution_count": 21,
   "metadata": {},
   "outputs": [
    {
     "data": {
      "text/plain": [
       "[['Puerta  De  Hierro',\n",
       "  'https://letterboxd.com/search/Puerta+De+Hierro+2013/'],\n",
       " ['Chinese  Takeaway', 'https://letterboxd.com/search/Chinese+Takeaway+2020/'],\n",
       " ['Corazon  Loco', 'https://letterboxd.com/search/Corazon+Loco+2020/'],\n",
       " ['The  Official  Story',\n",
       "  'https://letterboxd.com/search/The+Official+Story+1985/'],\n",
       " ['Nine  Queens', 'https://letterboxd.com/search/Nine+Queens+2000/']]"
      ]
     },
     "execution_count": 21,
     "metadata": {},
     "output_type": "execute_result"
    }
   ],
   "source": [
    "df_t['movie'].iloc[0]"
   ]
  },
  {
   "cell_type": "code",
   "execution_count": null,
   "metadata": {},
   "outputs": [],
   "source": [
    "df_t['Movie_Titles']  = df_t['movie'].apply(lambda x: [i[0] for i in x])\n",
    "df_t['letterboxd_searches'] = df_t['movie'].apply(lambda x: [i[1] for i in x])\n",
    "df_t.drop(columns=[\"movie\"], inplace=True)\n",
    "df_t.to_csv(f\"{root}/Data/Trope_storage/movies_by_trope_with_lettersearch.csv\")"
   ]
  },
  {
   "cell_type": "code",
   "execution_count": 17,
   "metadata": {},
   "outputs": [],
   "source": [
    "df = pd.read_csv(f\"{root}/Data/Trope_storage/movies_by_trope_with_lettersearch.csv\", index_col=0)\n",
    "df['Movie_Titles'] = df['Movie_Titles'].apply(ast.literal_eval)\n",
    "df['length'] = df['Movie_Titles'].apply(lambda x : len(x))\n",
    "df.to_csv(f\"{root}/Data/Trope_storage/movies_by_trope_with_lettersearch_and_length.csv\")"
   ]
  }
 ],
 "metadata": {
  "kernelspec": {
   "display_name": "spacy_env",
   "language": "python",
   "name": "python3"
  },
  "language_info": {
   "codemirror_mode": {
    "name": "ipython",
    "version": 3
   },
   "file_extension": ".py",
   "mimetype": "text/x-python",
   "name": "python",
   "nbconvert_exporter": "python",
   "pygments_lexer": "ipython3",
   "version": "3.9.20"
  }
 },
 "nbformat": 4,
 "nbformat_minor": 2
}
