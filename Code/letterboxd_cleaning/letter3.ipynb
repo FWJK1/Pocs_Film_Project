{
 "cells": [
  {
   "cell_type": "code",
   "execution_count": 1,
   "metadata": {},
   "outputs": [],
   "source": [
    "from bs4 import BeautifulSoup\n",
    "import requests\n",
    "import pandas as pd\n",
    "import numpy as np\n",
    "\n",
    "def get_parsed_page(url: str) -> None:\n",
    "    # This fixes a blocked by cloudflare error i've encountered\n",
    "    headers = {\n",
    "        \"referer\": \"https://letterboxd.com\",\n",
    "        \"user-agent\": \"Mozilla/5.0 (Windows NT 10.0; Win64; x64)\"\n",
    "    }\n",
    "\n",
    "    return BeautifulSoup(requests.get(url, headers=headers).text, \"lxml\")\n",
    "\n",
    "def fk_movie_popular_reviews(movie, n=None) -> dict:\n",
    "    try:\n",
    "        base = movie.get('url')\n",
    "    except Exception as e:\n",
    "        print(e, movie)\n",
    "        return None\n",
    "    urls = []\n",
    "    urls.append(base + \"/reviews/by/activity\")\n",
    "    if n:\n",
    "        for i in range(2, n+1): \n",
    "            urls.append(base + f\"/reviews/by/activity/page/{i}\")\n",
    "   \n",
    "\n",
    "    ret = []\n",
    "    for url in urls:\n",
    "        page = get_parsed_page(url) \n",
    "\n",
    "\n",
    "        film_details = page.find_all(class_='film-detail')\n",
    "        for detail in film_details:\n",
    "            curr = {}\n",
    "            try:\n",
    "                curr['stars'] = detail.select_one('.rating').get_text(strip=True)\n",
    "            except:\n",
    "                curr['stars'] = None\n",
    "\n",
    "            try: \n",
    "                curr['review'] = detail.select_one('.body-text').get_text(strip=True)\n",
    "            except:\n",
    "                curr['review'] = None\n",
    "\n",
    "            try:\n",
    "                curr['date'] = detail.select_one('.date ._nobr').get_text(strip=True)\n",
    "            except:\n",
    "                curr['review'] = None\n",
    "            ret.append(curr)\n",
    "    return ret"
   ]
  },
  {
   "cell_type": "code",
   "execution_count": null,
   "metadata": {},
   "outputs": [],
   "source": [
    "import os \n",
    "\n",
    "def find_repo_root(start_path):\n",
    "    \"\"\"\n",
    "    useful general function for finding the (first, closest) repo root so github file paths work the same on different machines \n",
    "    \"\"\"\n",
    "    current_path = os.path.abspath(start_path)\n",
    "    \n",
    "    while True:\n",
    "        # Check for the existence of the .git directory or other indicators\n",
    "        if os.path.isdir(os.path.join(current_path, '.git')) or \\\n",
    "           os.path.isfile(os.path.join(current_path, 'README.md')):\n",
    "            return current_path\n",
    "        \n",
    "        parent_path = os.path.dirname(current_path)\n",
    "        \n",
    "        # Stop if we reach the root directory\n",
    "        if parent_path == current_path:\n",
    "            break\n",
    "        \n",
    "        current_path = parent_path\n",
    "\n",
    "    return None  # Return None if not found\n",
    "\n",
    "root = find_repo_root(os.getcwd())"
   ]
  },
  {
   "cell_type": "code",
   "execution_count": 3,
   "metadata": {},
   "outputs": [
    {
     "name": "stdout",
     "output_type": "stream",
     "text": [
      "https://letterboxd.com/film/puerta-de-hierro-el-exilio-de-peron/\n"
     ]
    }
   ],
   "source": [
    "import ast\n",
    "\n",
    "def fk_apply_literal(x):\n",
    "    try:\n",
    "        return ast.literal_eval(x)\n",
    "    except: \n",
    "        return None\n",
    "\n",
    "\n",
    "\n",
    "movie_df = pd.read_csv(f\"{root}/Data/tropes_year_movie.csv\")\n",
    "movie_df = movie_df.dropna(subset=['Movie'])\n",
    "movie_df['Movie'] = movie_df['Movie'].apply(lambda x : fk_apply_literal(x))\n",
    "print(movie_df['Movie'][0].get('url'))"
   ]
  },
  {
   "cell_type": "code",
   "execution_count": 4,
   "metadata": {},
   "outputs": [],
   "source": [
    "from datetime import datetime\n",
    "def get_reviews_all(df, chunksize=50, begin=0, length=None, n=8, output_file=None): ## change the save name\n",
    "\n",
    "    # first clean the frame\n",
    "    df = df[df['Movie'] != 'Movie']\n",
    "    df = df.dropna(subset=['Movie'])\n",
    "    df = df.drop_duplicates(keep='first')\n",
    "    df['Movie'] = df['Movie'].apply(lambda x : fk_apply_literal(x))\n",
    "\n",
    "    if not output_file:\n",
    "        output_file = f'{root}/Data/movie_n={n}_comments.csv'\n",
    "\n",
    "    if not length:\n",
    "        length = len(df)\n",
    "    for start in range(begin, length, chunksize):\n",
    "        #print start time\n",
    "        current_time = datetime.now()\n",
    "        print(f\"started {start} to {start + chunksize}  at  \" + current_time.strftime(\"%Y-%m-%d %H:%M:%S\"))\n",
    "\n",
    "        # actual code \n",
    "        chunk = df.iloc[start : start + chunksize].copy()\n",
    "        chunk['comments'] = chunk['Movie'].apply(lambda x : fk_movie_popular_reviews(x, 8))\n",
    "        chunk.to_csv(output_file, mode='a', header=not pd.io.common.file_exists(output_file), index=False)\n",
    "\n",
    "        # print end time\n",
    "        current_time = datetime.now()\n",
    "        print(f\"finished {start} to {start + chunksize}  at  \" + current_time.strftime(\"%Y-%m-%d %H:%M:%S\"))\n"
   ]
  },
  {
   "cell_type": "code",
   "execution_count": 5,
   "metadata": {},
   "outputs": [
    {
     "data": {
      "text/plain": [
       "(14616, 2)"
      ]
     },
     "execution_count": 5,
     "metadata": {},
     "output_type": "execute_result"
    }
   ],
   "source": [
    "df = pd.read_csv(f\"{root}/Data/tropes_year_movie.csv\")\n",
    "df.shape"
   ]
  },
  {
   "cell_type": "code",
   "execution_count": 6,
   "metadata": {},
   "outputs": [],
   "source": [
    "# get_reviews_all(df = pd.read_csv(f\"{root}/Data/tropes_year_movie.csv\"), chunksize=25, begin=8550 )"
   ]
  },
  {
   "cell_type": "code",
   "execution_count": null,
   "metadata": {},
   "outputs": [],
   "source": []
  }
 ],
 "metadata": {
  "kernelspec": {
   "display_name": "FJK_1",
   "language": "python",
   "name": "python3"
  },
  "language_info": {
   "codemirror_mode": {
    "name": "ipython",
    "version": 3
   },
   "file_extension": ".py",
   "mimetype": "text/x-python",
   "name": "python",
   "nbconvert_exporter": "python",
   "pygments_lexer": "ipython3",
   "version": "3.13.0"
  }
 },
 "nbformat": 4,
 "nbformat_minor": 2
}
