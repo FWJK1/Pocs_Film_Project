{
 "cells": [
  {
   "cell_type": "code",
   "execution_count": 1,
   "metadata": {},
   "outputs": [],
   "source": [
    "import pandas as pd\n",
    "import re\n",
    "import os \n",
    "import ast\n",
    "import spacy\n",
    "\n",
    "nlp = spacy.load(\"en_core_web_sm\")"
   ]
  },
  {
   "cell_type": "code",
   "execution_count": 2,
   "metadata": {},
   "outputs": [],
   "source": [
    "\n",
    "\n",
    "def find_repo_root(start_path):\n",
    "    \"\"\"\n",
    "    useful general function for finding the (first, closest) repo root so github file paths work the same on different machines \n",
    "    \"\"\"\n",
    "    current_path = os.path.abspath(start_path)\n",
    "    \n",
    "    while True:\n",
    "        # Check for the existence of the .git directory or other indicators\n",
    "        if os.path.isdir(os.path.join(current_path, '.git')) or \\\n",
    "           os.path.isfile(os.path.join(current_path, 'README.md')):\n",
    "            return current_path\n",
    "        \n",
    "        parent_path = os.path.dirname(current_path)\n",
    "        \n",
    "        # Stop if we reach the root directory\n",
    "        if parent_path == current_path:\n",
    "            break\n",
    "        \n",
    "        current_path = parent_path\n",
    "\n",
    "    return None  # Return None if not found\n",
    "\n",
    "root = find_repo_root(os.getcwd())\n",
    "\n",
    "root = root.replace('\\\\', '/')\n",
    "\n",
    "def fk_apply_literal(x):\n",
    "    try:\n",
    "        return ast.literal_eval(x)\n",
    "    except Exception as e: \n",
    "        print(e, x)\n",
    "        return None\n",
    "\n",
    "\n"
   ]
  },
  {
   "cell_type": "code",
   "execution_count": 3,
   "metadata": {},
   "outputs": [
    {
     "ename": "FileNotFoundError",
     "evalue": "[Errno 2] No such file or directory: 'c:/Users/fitsl/Documents/Programming/UVM Programming Classes/PoCS/pocs_project/Data/movie_n=8_comments.csv'",
     "output_type": "error",
     "traceback": [
      "\u001b[1;31m---------------------------------------------------------------------------\u001b[0m",
      "\u001b[1;31mFileNotFoundError\u001b[0m                         Traceback (most recent call last)",
      "Cell \u001b[1;32mIn[3], line 1\u001b[0m\n\u001b[1;32m----> 1\u001b[0m df \u001b[38;5;241m=\u001b[39m \u001b[43mpd\u001b[49m\u001b[38;5;241;43m.\u001b[39;49m\u001b[43mread_csv\u001b[49m\u001b[43m(\u001b[49m\u001b[38;5;124;43mf\u001b[39;49m\u001b[38;5;124;43m\"\u001b[39;49m\u001b[38;5;132;43;01m{\u001b[39;49;00m\u001b[43mroot\u001b[49m\u001b[38;5;132;43;01m}\u001b[39;49;00m\u001b[38;5;124;43m/Data/movie_n=8_comments.csv\u001b[39;49m\u001b[38;5;124;43m\"\u001b[39;49m\u001b[43m)\u001b[49m\n\u001b[0;32m      2\u001b[0m df \u001b[38;5;241m=\u001b[39m df\u001b[38;5;241m.\u001b[39mdropna(subset\u001b[38;5;241m=\u001b[39m[\u001b[38;5;124m'\u001b[39m\u001b[38;5;124mMovie\u001b[39m\u001b[38;5;124m'\u001b[39m, \u001b[38;5;124m'\u001b[39m\u001b[38;5;124mcomments\u001b[39m\u001b[38;5;124m'\u001b[39m])\n\u001b[0;32m      3\u001b[0m df\u001b[38;5;241m.\u001b[39mdrop_duplicates(keep\u001b[38;5;241m=\u001b[39m\u001b[38;5;124m'\u001b[39m\u001b[38;5;124mfirst\u001b[39m\u001b[38;5;124m'\u001b[39m)\n",
      "File \u001b[1;32mc:\\Users\\fitsl\\anaconda3\\envs\\spacy_env\\lib\\site-packages\\pandas\\io\\parsers\\readers.py:1026\u001b[0m, in \u001b[0;36mread_csv\u001b[1;34m(filepath_or_buffer, sep, delimiter, header, names, index_col, usecols, dtype, engine, converters, true_values, false_values, skipinitialspace, skiprows, skipfooter, nrows, na_values, keep_default_na, na_filter, verbose, skip_blank_lines, parse_dates, infer_datetime_format, keep_date_col, date_parser, date_format, dayfirst, cache_dates, iterator, chunksize, compression, thousands, decimal, lineterminator, quotechar, quoting, doublequote, escapechar, comment, encoding, encoding_errors, dialect, on_bad_lines, delim_whitespace, low_memory, memory_map, float_precision, storage_options, dtype_backend)\u001b[0m\n\u001b[0;32m   1013\u001b[0m kwds_defaults \u001b[38;5;241m=\u001b[39m _refine_defaults_read(\n\u001b[0;32m   1014\u001b[0m     dialect,\n\u001b[0;32m   1015\u001b[0m     delimiter,\n\u001b[1;32m   (...)\u001b[0m\n\u001b[0;32m   1022\u001b[0m     dtype_backend\u001b[38;5;241m=\u001b[39mdtype_backend,\n\u001b[0;32m   1023\u001b[0m )\n\u001b[0;32m   1024\u001b[0m kwds\u001b[38;5;241m.\u001b[39mupdate(kwds_defaults)\n\u001b[1;32m-> 1026\u001b[0m \u001b[38;5;28;01mreturn\u001b[39;00m \u001b[43m_read\u001b[49m\u001b[43m(\u001b[49m\u001b[43mfilepath_or_buffer\u001b[49m\u001b[43m,\u001b[49m\u001b[43m \u001b[49m\u001b[43mkwds\u001b[49m\u001b[43m)\u001b[49m\n",
      "File \u001b[1;32mc:\\Users\\fitsl\\anaconda3\\envs\\spacy_env\\lib\\site-packages\\pandas\\io\\parsers\\readers.py:620\u001b[0m, in \u001b[0;36m_read\u001b[1;34m(filepath_or_buffer, kwds)\u001b[0m\n\u001b[0;32m    617\u001b[0m _validate_names(kwds\u001b[38;5;241m.\u001b[39mget(\u001b[38;5;124m\"\u001b[39m\u001b[38;5;124mnames\u001b[39m\u001b[38;5;124m\"\u001b[39m, \u001b[38;5;28;01mNone\u001b[39;00m))\n\u001b[0;32m    619\u001b[0m \u001b[38;5;66;03m# Create the parser.\u001b[39;00m\n\u001b[1;32m--> 620\u001b[0m parser \u001b[38;5;241m=\u001b[39m TextFileReader(filepath_or_buffer, \u001b[38;5;241m*\u001b[39m\u001b[38;5;241m*\u001b[39mkwds)\n\u001b[0;32m    622\u001b[0m \u001b[38;5;28;01mif\u001b[39;00m chunksize \u001b[38;5;129;01mor\u001b[39;00m iterator:\n\u001b[0;32m    623\u001b[0m     \u001b[38;5;28;01mreturn\u001b[39;00m parser\n",
      "File \u001b[1;32mc:\\Users\\fitsl\\anaconda3\\envs\\spacy_env\\lib\\site-packages\\pandas\\io\\parsers\\readers.py:1620\u001b[0m, in \u001b[0;36mTextFileReader.__init__\u001b[1;34m(self, f, engine, **kwds)\u001b[0m\n\u001b[0;32m   1617\u001b[0m     \u001b[38;5;28mself\u001b[39m\u001b[38;5;241m.\u001b[39moptions[\u001b[38;5;124m\"\u001b[39m\u001b[38;5;124mhas_index_names\u001b[39m\u001b[38;5;124m\"\u001b[39m] \u001b[38;5;241m=\u001b[39m kwds[\u001b[38;5;124m\"\u001b[39m\u001b[38;5;124mhas_index_names\u001b[39m\u001b[38;5;124m\"\u001b[39m]\n\u001b[0;32m   1619\u001b[0m \u001b[38;5;28mself\u001b[39m\u001b[38;5;241m.\u001b[39mhandles: IOHandles \u001b[38;5;241m|\u001b[39m \u001b[38;5;28;01mNone\u001b[39;00m \u001b[38;5;241m=\u001b[39m \u001b[38;5;28;01mNone\u001b[39;00m\n\u001b[1;32m-> 1620\u001b[0m \u001b[38;5;28mself\u001b[39m\u001b[38;5;241m.\u001b[39m_engine \u001b[38;5;241m=\u001b[39m \u001b[38;5;28;43mself\u001b[39;49m\u001b[38;5;241;43m.\u001b[39;49m\u001b[43m_make_engine\u001b[49m\u001b[43m(\u001b[49m\u001b[43mf\u001b[49m\u001b[43m,\u001b[49m\u001b[43m \u001b[49m\u001b[38;5;28;43mself\u001b[39;49m\u001b[38;5;241;43m.\u001b[39;49m\u001b[43mengine\u001b[49m\u001b[43m)\u001b[49m\n",
      "File \u001b[1;32mc:\\Users\\fitsl\\anaconda3\\envs\\spacy_env\\lib\\site-packages\\pandas\\io\\parsers\\readers.py:1880\u001b[0m, in \u001b[0;36mTextFileReader._make_engine\u001b[1;34m(self, f, engine)\u001b[0m\n\u001b[0;32m   1878\u001b[0m     \u001b[38;5;28;01mif\u001b[39;00m \u001b[38;5;124m\"\u001b[39m\u001b[38;5;124mb\u001b[39m\u001b[38;5;124m\"\u001b[39m \u001b[38;5;129;01mnot\u001b[39;00m \u001b[38;5;129;01min\u001b[39;00m mode:\n\u001b[0;32m   1879\u001b[0m         mode \u001b[38;5;241m+\u001b[39m\u001b[38;5;241m=\u001b[39m \u001b[38;5;124m\"\u001b[39m\u001b[38;5;124mb\u001b[39m\u001b[38;5;124m\"\u001b[39m\n\u001b[1;32m-> 1880\u001b[0m \u001b[38;5;28mself\u001b[39m\u001b[38;5;241m.\u001b[39mhandles \u001b[38;5;241m=\u001b[39m \u001b[43mget_handle\u001b[49m\u001b[43m(\u001b[49m\n\u001b[0;32m   1881\u001b[0m \u001b[43m    \u001b[49m\u001b[43mf\u001b[49m\u001b[43m,\u001b[49m\n\u001b[0;32m   1882\u001b[0m \u001b[43m    \u001b[49m\u001b[43mmode\u001b[49m\u001b[43m,\u001b[49m\n\u001b[0;32m   1883\u001b[0m \u001b[43m    \u001b[49m\u001b[43mencoding\u001b[49m\u001b[38;5;241;43m=\u001b[39;49m\u001b[38;5;28;43mself\u001b[39;49m\u001b[38;5;241;43m.\u001b[39;49m\u001b[43moptions\u001b[49m\u001b[38;5;241;43m.\u001b[39;49m\u001b[43mget\u001b[49m\u001b[43m(\u001b[49m\u001b[38;5;124;43m\"\u001b[39;49m\u001b[38;5;124;43mencoding\u001b[39;49m\u001b[38;5;124;43m\"\u001b[39;49m\u001b[43m,\u001b[49m\u001b[43m \u001b[49m\u001b[38;5;28;43;01mNone\u001b[39;49;00m\u001b[43m)\u001b[49m\u001b[43m,\u001b[49m\n\u001b[0;32m   1884\u001b[0m \u001b[43m    \u001b[49m\u001b[43mcompression\u001b[49m\u001b[38;5;241;43m=\u001b[39;49m\u001b[38;5;28;43mself\u001b[39;49m\u001b[38;5;241;43m.\u001b[39;49m\u001b[43moptions\u001b[49m\u001b[38;5;241;43m.\u001b[39;49m\u001b[43mget\u001b[49m\u001b[43m(\u001b[49m\u001b[38;5;124;43m\"\u001b[39;49m\u001b[38;5;124;43mcompression\u001b[39;49m\u001b[38;5;124;43m\"\u001b[39;49m\u001b[43m,\u001b[49m\u001b[43m \u001b[49m\u001b[38;5;28;43;01mNone\u001b[39;49;00m\u001b[43m)\u001b[49m\u001b[43m,\u001b[49m\n\u001b[0;32m   1885\u001b[0m \u001b[43m    \u001b[49m\u001b[43mmemory_map\u001b[49m\u001b[38;5;241;43m=\u001b[39;49m\u001b[38;5;28;43mself\u001b[39;49m\u001b[38;5;241;43m.\u001b[39;49m\u001b[43moptions\u001b[49m\u001b[38;5;241;43m.\u001b[39;49m\u001b[43mget\u001b[49m\u001b[43m(\u001b[49m\u001b[38;5;124;43m\"\u001b[39;49m\u001b[38;5;124;43mmemory_map\u001b[39;49m\u001b[38;5;124;43m\"\u001b[39;49m\u001b[43m,\u001b[49m\u001b[43m \u001b[49m\u001b[38;5;28;43;01mFalse\u001b[39;49;00m\u001b[43m)\u001b[49m\u001b[43m,\u001b[49m\n\u001b[0;32m   1886\u001b[0m \u001b[43m    \u001b[49m\u001b[43mis_text\u001b[49m\u001b[38;5;241;43m=\u001b[39;49m\u001b[43mis_text\u001b[49m\u001b[43m,\u001b[49m\n\u001b[0;32m   1887\u001b[0m \u001b[43m    \u001b[49m\u001b[43merrors\u001b[49m\u001b[38;5;241;43m=\u001b[39;49m\u001b[38;5;28;43mself\u001b[39;49m\u001b[38;5;241;43m.\u001b[39;49m\u001b[43moptions\u001b[49m\u001b[38;5;241;43m.\u001b[39;49m\u001b[43mget\u001b[49m\u001b[43m(\u001b[49m\u001b[38;5;124;43m\"\u001b[39;49m\u001b[38;5;124;43mencoding_errors\u001b[39;49m\u001b[38;5;124;43m\"\u001b[39;49m\u001b[43m,\u001b[49m\u001b[43m \u001b[49m\u001b[38;5;124;43m\"\u001b[39;49m\u001b[38;5;124;43mstrict\u001b[39;49m\u001b[38;5;124;43m\"\u001b[39;49m\u001b[43m)\u001b[49m\u001b[43m,\u001b[49m\n\u001b[0;32m   1888\u001b[0m \u001b[43m    \u001b[49m\u001b[43mstorage_options\u001b[49m\u001b[38;5;241;43m=\u001b[39;49m\u001b[38;5;28;43mself\u001b[39;49m\u001b[38;5;241;43m.\u001b[39;49m\u001b[43moptions\u001b[49m\u001b[38;5;241;43m.\u001b[39;49m\u001b[43mget\u001b[49m\u001b[43m(\u001b[49m\u001b[38;5;124;43m\"\u001b[39;49m\u001b[38;5;124;43mstorage_options\u001b[39;49m\u001b[38;5;124;43m\"\u001b[39;49m\u001b[43m,\u001b[49m\u001b[43m \u001b[49m\u001b[38;5;28;43;01mNone\u001b[39;49;00m\u001b[43m)\u001b[49m\u001b[43m,\u001b[49m\n\u001b[0;32m   1889\u001b[0m \u001b[43m\u001b[49m\u001b[43m)\u001b[49m\n\u001b[0;32m   1890\u001b[0m \u001b[38;5;28;01massert\u001b[39;00m \u001b[38;5;28mself\u001b[39m\u001b[38;5;241m.\u001b[39mhandles \u001b[38;5;129;01mis\u001b[39;00m \u001b[38;5;129;01mnot\u001b[39;00m \u001b[38;5;28;01mNone\u001b[39;00m\n\u001b[0;32m   1891\u001b[0m f \u001b[38;5;241m=\u001b[39m \u001b[38;5;28mself\u001b[39m\u001b[38;5;241m.\u001b[39mhandles\u001b[38;5;241m.\u001b[39mhandle\n",
      "File \u001b[1;32mc:\\Users\\fitsl\\anaconda3\\envs\\spacy_env\\lib\\site-packages\\pandas\\io\\common.py:873\u001b[0m, in \u001b[0;36mget_handle\u001b[1;34m(path_or_buf, mode, encoding, compression, memory_map, is_text, errors, storage_options)\u001b[0m\n\u001b[0;32m    868\u001b[0m \u001b[38;5;28;01melif\u001b[39;00m \u001b[38;5;28misinstance\u001b[39m(handle, \u001b[38;5;28mstr\u001b[39m):\n\u001b[0;32m    869\u001b[0m     \u001b[38;5;66;03m# Check whether the filename is to be opened in binary mode.\u001b[39;00m\n\u001b[0;32m    870\u001b[0m     \u001b[38;5;66;03m# Binary mode does not support 'encoding' and 'newline'.\u001b[39;00m\n\u001b[0;32m    871\u001b[0m     \u001b[38;5;28;01mif\u001b[39;00m ioargs\u001b[38;5;241m.\u001b[39mencoding \u001b[38;5;129;01mand\u001b[39;00m \u001b[38;5;124m\"\u001b[39m\u001b[38;5;124mb\u001b[39m\u001b[38;5;124m\"\u001b[39m \u001b[38;5;129;01mnot\u001b[39;00m \u001b[38;5;129;01min\u001b[39;00m ioargs\u001b[38;5;241m.\u001b[39mmode:\n\u001b[0;32m    872\u001b[0m         \u001b[38;5;66;03m# Encoding\u001b[39;00m\n\u001b[1;32m--> 873\u001b[0m         handle \u001b[38;5;241m=\u001b[39m \u001b[38;5;28;43mopen\u001b[39;49m\u001b[43m(\u001b[49m\n\u001b[0;32m    874\u001b[0m \u001b[43m            \u001b[49m\u001b[43mhandle\u001b[49m\u001b[43m,\u001b[49m\n\u001b[0;32m    875\u001b[0m \u001b[43m            \u001b[49m\u001b[43mioargs\u001b[49m\u001b[38;5;241;43m.\u001b[39;49m\u001b[43mmode\u001b[49m\u001b[43m,\u001b[49m\n\u001b[0;32m    876\u001b[0m \u001b[43m            \u001b[49m\u001b[43mencoding\u001b[49m\u001b[38;5;241;43m=\u001b[39;49m\u001b[43mioargs\u001b[49m\u001b[38;5;241;43m.\u001b[39;49m\u001b[43mencoding\u001b[49m\u001b[43m,\u001b[49m\n\u001b[0;32m    877\u001b[0m \u001b[43m            \u001b[49m\u001b[43merrors\u001b[49m\u001b[38;5;241;43m=\u001b[39;49m\u001b[43merrors\u001b[49m\u001b[43m,\u001b[49m\n\u001b[0;32m    878\u001b[0m \u001b[43m            \u001b[49m\u001b[43mnewline\u001b[49m\u001b[38;5;241;43m=\u001b[39;49m\u001b[38;5;124;43m\"\u001b[39;49m\u001b[38;5;124;43m\"\u001b[39;49m\u001b[43m,\u001b[49m\n\u001b[0;32m    879\u001b[0m \u001b[43m        \u001b[49m\u001b[43m)\u001b[49m\n\u001b[0;32m    880\u001b[0m     \u001b[38;5;28;01melse\u001b[39;00m:\n\u001b[0;32m    881\u001b[0m         \u001b[38;5;66;03m# Binary mode\u001b[39;00m\n\u001b[0;32m    882\u001b[0m         handle \u001b[38;5;241m=\u001b[39m \u001b[38;5;28mopen\u001b[39m(handle, ioargs\u001b[38;5;241m.\u001b[39mmode)\n",
      "\u001b[1;31mFileNotFoundError\u001b[0m: [Errno 2] No such file or directory: 'c:/Users/fitsl/Documents/Programming/UVM Programming Classes/PoCS/pocs_project/Data/movie_n=8_comments.csv'"
     ]
    }
   ],
   "source": [
    "df = pd.read_csv(f\"{root}/Data/movie_n=8_comments.csv\")\n",
    "df = df.dropna(subset=['Movie', 'comments'])\n",
    "df.drop_duplicates(keep='first')\n",
    "df['Movie'][0]"
   ]
  },
  {
   "cell_type": "code",
   "execution_count": null,
   "metadata": {},
   "outputs": [],
   "source": [
    "# import spacy\n",
    "# import pandas as pd\n",
    "# import time\n",
    "\n",
    "# # Load SpaCy model\n",
    "# nlp = spacy.load(\"en_core_web_sm\")\n",
    "\n",
    "# # Sample large DataFrame with a 'reviews' column\n",
    "# data = {\n",
    "#     'reviews': [\"This product is great! I love it.\" * 10] * 10000  # 10000 rows, repeating review\n",
    "# }\n",
    "# df = pd.DataFrame(data)\n",
    "\n",
    "# # Define the tokenization function\n",
    "# def tokenize_review(review):\n",
    "#     doc = nlp(review)\n",
    "#     return [token.text for token in doc if not token.is_punct and not token.is_space]\n",
    "\n",
    "# # Measure time for tokenizing the entire DataFrame column\n",
    "# start_time = time.time()\n",
    "# df['tokenized_reviews'] = df['reviews'].apply(tokenize_review)\n",
    "# end_time = time.time()\n",
    "\n",
    "# # Print elapsed time\n",
    "# print(f\"Tokenization took {end_time - start_time:.6f} seconds.\")\n",
    "\n",
    "\n",
    "\n",
    "def tokenize_reviews(reviews):\n",
    "    texts, lemmas = [],[]\n",
    "    for review in reviews:\n",
    "        doc = nlp(review)\n",
    "        text = [token.text for token in doc if not token.is_space]\n",
    "        lemma = [token.lemma_ for token in doc if not token.is_space]\n",
    "        text = [''.join(text[i:i+2]) if text[i] == \"I\" and text[i+1] == \"'m\" else text[i] for i in range(len(text)-1)]\n",
    "        lemmas = [''.join(lemma[i:i+2]) if lemma[i] == \"I\" and lemma[i+1] == \"'m\" else lemma[i] for i in range(len(lemma)-1)]\n",
    "        texts.append(text)\n",
    "        lemmas.append(lemma)\n",
    "    return (texts, lemmas)\n",
    "\n"
   ]
  },
  {
   "cell_type": "code",
   "execution_count": null,
   "metadata": {},
   "outputs": [
    {
     "name": "stdout",
     "output_type": "stream",
     "text": [
      "23846\n",
      "{'title': 'team-america-world-police', 'url': 'https://letterboxd.com/film/team-america-world-police/', 'directors': ['Trey Parker'], 'rating': '3.47 out of 5', 'year': '2004', 'genres': ['Action', 'Adventure', 'Comedy']}\n"
     ]
    }
   ],
   "source": [
    "def prune_spoilers(reviews):\n",
    "    return [review.replace(\"This review may contain spoilers.I can handle the truth.\", \"\") for review in reviews]\n",
    "\n",
    "def extract_reviews(reviews_str):\n",
    "    try:\n",
    "        # Convert the string representation of the list to an actual list\n",
    "        reviews_list = ast.literal_eval(reviews_str)\n",
    "        # Extract 'review' from each dictionary\n",
    "        return [review['review'] for review in reviews_list]\n",
    "    except (ValueError, SyntaxError):\n",
    "        return []\n",
    "    \n",
    "def convert_to_1_10(rating_str):\n",
    "    # Count full stars and check for half star\n",
    "    full_stars = 0 + rating_str.count('★')\n",
    "    half_star = 0.5 if '½' in rating_str else 0\n",
    "\n",
    "    # Combine the full stars and half star, then scale to 1-10\n",
    "    score = full_stars + half_star\n",
    "    score_1_10 = score * 2\n",
    "\n",
    "    return int(score_1_10)\n",
    "\n",
    "def extract_rating(reviews_str):\n",
    "   try:\n",
    "        # Convert the string representation of the list to an actual list\n",
    "        reviews_list = ast.literal_eval(reviews_str)\n",
    "        # Extract 'stars' from each dictionary\n",
    "        stars =  [review['stars'] for review in reviews_list]\n",
    "        return [convert_to_1_10(star) if star else pd.NA for star in stars]\n",
    "   except:\n",
    "       return []\n",
    "\n",
    "\n",
    "def extract_date(reviews_str):\n",
    "    reviews_list = ast.literal_eval(reviews_str)\n",
    "    return [review['date'] for review in reviews_list]\n",
    "\n",
    "\n",
    "df['reviews_extracted'] = df['comments'].apply(extract_reviews)\n",
    "df['reviews_extracted'] = df['reviews_extracted'].apply(lambda review: prune_spoilers(review))\n",
    "df['review_stars'] = df['comments'].apply(extract_rating)\n",
    "df['review_dates'] = df['comments'].apply(extract_date)\n",
    "# df['reviews_extracted_lower'] = df['reviews_extracted'].apply(lambda review: prune_spoilers(review))\n",
    "# df['reviews_mash'] = df['reviews_extracted'].apply(lambda x: '\\n'.join(x))\n",
    "\n",
    "\n",
    "# print(len(df['reviews_mash'][2]))\n",
    "print(df['Movie'][2])"
   ]
  },
  {
   "cell_type": "code",
   "execution_count": null,
   "metadata": {},
   "outputs": [
    {
     "data": {
      "text/plain": [
       "'[{\\'stars\\': \\'★★★★\\', \\'review\\': \\'Yo no entendí bien la película, Perón sabía que López Rega le tendía una trampa?\\', \\'date\\': \\'09 Nov 2020\\'}, {\\'stars\\': \\'★★★★½\\', \\'review\\': \\'Me pareció excelente. Impecable en términos históricos y con una forma de contar la historia bastante original y que funciona muy bien.Más que un Perón épico exiliado, está el Perón humano, que sufre la vil proscripción y sigue llorando por Eva. Increíblemente amena, maneja 18 años de historia muy bien explicados, sumado a la ambientación que está bien y la actuación de Víctor Laplace que está igualito al General.Tal vez pesa mucho que se haya hecho en pleno…\\', \\'date\\': \\'17 Jul 2020\\'}, {\\'stars\\': \\'★★\\', \\'review\\': \\'This review may contain spoilers.I can handle the truth.Esta película cuando la vi por primera vez me gustó mucho, pero volviéndola a ver siento que tiene muchísimos problemas. Es una película que no se calla nunca, todas las escenas tienen diálogos, es \"Perón pensando en voz alta\" y a veces diciéndole cosas muy profundas a gente random porque sí. Para obra de teatro funcionaria mejor, pero como película es mala. Una película política, sin política, y eso que el exilio de Perón es interesante históricamente hablando, su pelea…\\', \\'date\\': \\'08 Mar 2021\\'}, {\\'stars\\': \\'★★★★★\\', \\'review\\': \\'\"Eva querida, vuelvo. Vuelvo a nuestra tierra. Vuelvo con la muerte pisandome los talones. Sabés de qué se trata. No temblaste cuando la muerte pisaba tus talones. Seguir luchando aunque te consumas. Eso fue lo que hiciste. Y yo también. Es necesario que vuelva. ¿Y sabés qué, negrita? Voy a volver.\"~\"¿Acaso no le había dicho yo a él que por muy lejos que haya que ir en el sacrificio, no dejaría de estar a su lado hasta desfallecer?…\\', \\'date\\': \\'21 Aug 2022\\'}, {\\'stars\\': \\'★★★\\', \\'review\\': \\'Lanusse, marmotaPerón va a venir cuando le canten las pelotas\\', \\'date\\': \\'20 Apr 2024\\'}, {\\'stars\\': \\'★★½\\', \\'review\\': \"I don\\'t think this was a movie that was designed to travel well... but who knows, maybe there are a whole lot of people outside Argentina who vibe deeply to the day to day circumstances of Peron\\'s exile in Madrid. The opera ain\\'t over until the old man sings a tango.\", \\'date\\': \\'22 Jan 2020\\'}, {\\'stars\\': \\'½\\', \\'review\\': \\'Además de ser una película aburrida y cero atrapante, la historia se ve muy alterada en algunas partes mostrando hechos que nunca sucedieron o que fueron de una forma distinta. Además, todos los diálogos suenan poéticos como si todo lo que dice el personaje principal fuera patriótico. La película es utilizada como propaganda peronista.La única valoración que rescato de esta película es que utiliza frases que Perón escribió.\\', \\'date\\': \\'15 May 2023\\'}, {\\'stars\\': \\'★★★★★\\', \\'review\\': \\'Perón vuelve cuando se le cantan las pelotas\\', \\'date\\': \\'\\'}, {\\'stars\\': \\'★★★★\\', \\'review\\': \\'Durísima, cuantos años nos privaron de que gobierne semejante hombre.Durísimo las escenas que recuerdan a Evita.Emociona cuando le cantan la marcha en su cumpleaños.Emociona lo retrasada que la hacen a Isabelita y lo perverso que era el imbécil de López Rega.Gran actuación\\', \\'date\\': \\'07 Oct 2024\\'}, {\\'stars\\': \\'★★★★\\', \\'review\\': \\'perón\\', \\'date\\': \\'15 Jun 2024\\'}, {\\'stars\\': \\'★★★½\\', \\'review\\': \\'Puerta de Hierro: El Exilio de Perón> 71/100Poco antes de su regreso final a Argentina, Juan Domingo Perón graba sus recuerdos que vivió en el exilio.\"Puerta de Hierro\" nos transporta a una época poco explorada de la vida de Juan Domingo Perón: su exilio en Madrid tras el golpe militar de 1955. La película, dirigida y protagonizada por Víctor Laplace, nos sumerge en la intimidad de la residencia \"Puerta de Hierro\", donde el ex presidente argentino vivió momentos…\\', \\'date\\': \\'26 May 2024\\'}, {\\'stars\\': \\'★★★½\\', \\'review\\': \\'Que choto el personaje de Isabel, una pena. La muestran como una ilusa y no lo fué nunca.Piel de gallina con la marcha.Volveremos\\', \\'date\\': \\'11 Feb 2024\\'}, {\\'stars\\': \\'★★★\\', \\'review\\': \\'uno que te lea el martin fierro 🙏🙏\\', \\'date\\': \\'23 Oct 2023\\'}, {\\'stars\\': \\'★★★\\', \\'review\\': \\'GRACIAS MI GENERAL. LA POLENTA ES CADA VEZ MAS RICA. YA NO ALCANZA PARA EL QUESO PERO SEGUIMOS DEL LADO DEL PUEBLO✌️✌️✌️✌️🇧🇴🇧🇴🇧🇴\\', \\'date\\': \\'15 May 2023\\'}, {\\'stars\\': \\'★★★★★\\', \\'review\\': \\'Gracias a Juan Domingo, a Eva y al pueblo 💐\\', \\'date\\': \\'05 Feb 2023\\'}, {\\'stars\\': \\'★★★\\', \\'review\\': \\'Me esperaba un poco más pero es hasta ahora el mejor retrato de Perón que veo en una peli. Te quiero mucho, mi general\\', \\'date\\': \\'23 Oct 2022\\'}, {\\'stars\\': \\'★★★★\\', \\'review\\': \\'me ENLOQUECIÓ el Perón que -nuevamente- interpreta Víctor Laplace. pero este Perón está a años luz mejor de ese Perón un tanto estúpido y blandito que interpretó enEva Perón (1996).la voz, las expresiones, el tono, todo todo lo que comprende al General está logradísimo a la perfección. me agarré la cabeza un par de veces porque sentí que de verdad estaba viendo a literalmente Juan Domingo Perónmamita qué paquetes Isabelita y López Rega\\', \\'date\\': \\'12 Dec 2021\\'}, {\\'stars\\': \\'★★\\', \\'review\\': \\'peron y sus caniches\\', \\'date\\': \\'20 Sep 2021\\'}, {\\'stars\\': None, \\'review\\': \\'que esta sea para muchos la mejor pelicula sobre peron solo prueba que cuando se trata de alguien tan magnanimo, mas grande que la vida misma, es imposible hacer peliculas biograficas. dudo que algun cineasta capture la verdadera escencia atras del hombre mas importante de la historia argentina, alguien cuya toda vida fue una vida politica. cae en la falsedad, usa esos diálogos irrealistas sacando pedacitos de los libros del exilioa no terminan nunca de hablar para explicar un periodo…\\', \\'date\\': \\'29 Apr 2021\\'}, {\\'stars\\': None, \\'review\\': \\'LOPECITOPuerta de Hierro muestra un Perón edulcorado y chato, que cita texualmente al verdadero demasiado seguido y lo hace sonar artificial, una especie de juguetito de mcdonalds tipo Perón has 6 cool sayings. Además Laplace, que me parece buen actor, no logra muy bien la tonada del pocho y cada tanto le sale más parecido al sketch de yo no soy judio de Capusotto.La parte histórica, obviando el lavado de cara que le meten a Perón para hacerlo…\\', \\'date\\': \\'15 Jan 2021\\'}, {\\'stars\\': \\'★★\\', \\'review\\': \\'Una película sin política, sin rosca y sin intriga.\\', \\'date\\': \\'15 Dec 2020\\'}, {\\'stars\\': \\'★★★★★\\', \\'review\\': \\'Me dejó una buena sensación, por momentos me conmovió, sin dudas la volvería a ver. Me gusta como muestra a Perón en distintas facetas y lo bien caracterizado que está, Víctor Laplace hizo un re trabajo\\', \\'date\\': \\'09 Jul 2020\\'}, {\\'stars\\': \\'★★★★\\', \\'review\\': \\'No vi la pelicula pero el director fue mi profesor de escrituras audiovisuales. La materia la aprobe asi que como minimo tengo que dejarle unas estrellas\\', \\'date\\': \\'23 Oct 2021\\'}, {\\'stars\\': \\'★★\\', \\'review\\': \\'López Rega kjjjjj\\', \\'date\\': \\'30 Mar 2021\\'}, {\\'stars\\': \\'★★★★\\', \\'review\\': \\'usted sabe jugar al culo sucio?????\\', \\'date\\': \\'30 Sep 2024\\'}, {\\'stars\\': \\'★★★\\', \\'review\\': \\'Ni yankis, ni marxistas\\', \\'date\\': \\'16 Sep 2024\\'}, {\\'stars\\': \\'★★★★★\\', \\'review\\': \\'LOS MUCHACHOS PERONIIIISTAAAASSS🎶🎶\\', \\'date\\': \\'11 Sep 2024\\'}, {\\'stars\\': \\'★★★★★\\', \\'review\\': \\'Viva Perón, viva Perón !!!!! Laplace absolutamente fenomenal\\', \\'date\\': \\'25 Jul 2024\\'}, {\\'stars\\': \\'★\\', \\'review\\': \\'no se la vi en historia y casi me duermo\\', \\'date\\': \\'21 May 2024\\'}, {\\'stars\\': \\'★★★★\\', \\'review\\': \\'“Es más fácil variar el curso de un río que cambiar el carácter de un hombre”\\', \\'date\\': \\'03 Jan 2022\\'}, {\\'stars\\': None, \\'review\\': \\'espléndido, hasta se sumó mi viejo\\', \\'date\\': \\'04 May 2024\\'}, {\\'stars\\': \\'★★★½\\', \\'review\\': \\'Buena película.\\', \\'date\\': \\'04 Apr 2024\\'}, {\\'stars\\': \\'★★★\\', \\'review\\': \\'ame todo\\', \\'date\\': \\'31 Mar 2024\\'}, {\\'stars\\': \\'★★★½\\', \\'review\\': \\'me dió lástima don perón.esoero me ayude a aprobar historia\\', \\'date\\': \\'13 Mar 2024\\'}, {\\'stars\\': \\'★★\\', \\'review\\': \\'al final se puso más entretenida y no me dormí !!\\', \\'date\\': \\'13 Mar 2024\\'}, {\\'stars\\': \\'★★★★★\\', \\'review\\': \\'\"si el pueblo fuera feliz y la patria grande, ser peronista sería un derecho\".viva perón carajo.\\', \\'date\\': \\'28 Jan 2024\\'}, {\\'stars\\': \\'★★½\\', \\'review\\': \\'Tiene un buen diseño de producción, vestuario y la actuación de Victor Laplace interpretando nuevamente al General, herencia de la película Eva Perón de 1996.A pesar de tener una buena historia para contar no se refleja demasiado en el argumento ni en la curva dramática. Tampoco sentí que se haya trasmitido demasiado y por momentos caía el interés.\\', \\'date\\': \\'27 Dec 2023\\'}, {\\'stars\\': \\'★★½\\', \\'review\\': \\'cuando le dan el cuerpo de Eva a Perón es de las tres escenas más dolorosas que ví\\', \\'date\\': \\'18 Sep 2023\\'}, {\\'stars\\': \\'★★★½\\', \\'review\\': \\'La política es una guerra sin infusión de sangreLa guerra es una política con infusión de sangrePara volver se necesita paciencia\\', \\'date\\': \\'18 Jun 2023\\'}, {\\'stars\\': \\'★\\', \\'review\\': \\'De los creadores de la teoría del cerco...Ojo q al final somos todos unos imberbes.\\', \\'date\\': \\'21 May 2023\\'}, {\\'stars\\': \\'★★½\\', \\'review\\': \\'como película en general pierde en la comparación con eva peron pero el peron de laplace acá es monumental\\', \\'date\\': \\'18 Mar 2023\\'}, {\\'stars\\': \\'★★★\\', \\'review\\': \\'Perón partió al exilo en España, de donde eventualmente volvió para gobernar de nuevo.Esta película es un retrato fidedigno de la personalidad, ideas, habilidad política e ideosincracia del lider argentino más importante del siglo XX.---Perón went into exile in Spain, where he eventually returned to rule again.This film is a reliable portrait of the personality, ideas, political ability and idiosyncrasy of the most important Argentine leader of the 20th century.\\', \\'date\\': \\'18 Mar 2023\\'}, {\\'stars\\': \\'★★★\\', \\'review\\': \\'\"...Dios es Dios porque nadie lo ve...\"Interesante la trama, a pesar de que no haya un hilo o hechos fuertes, es buena la decisión de mostrar el Perón exiliado en decadencia con todo eso que lo aqueja: su propia salud, el exilio y las trabas políticas, su entorno problemático agravado por la llegada de López Rega (he aquí una posible pregunta, aunque su respuesta no iluminaría demasiado: qué fue primero, López Rega o la decadencia de Perón), el fantasma…\\', \\'date\\': \\'07 Mar 2023\\'}, {\\'stars\\': \\'★★★\\', \\'review\\': \\'Pocho viejo y peludoTe queremos !\\', \\'date\\': \\'03 Oct 2022\\'}, {\\'stars\\': \\'★★★\\', \\'review\\': \\'Si bien me gustó es una película, por momentos, intrascendente. El exilio de Perón es una etapa realmente interesante dónde se jugaron muchas cosas y como aún estando en otro continente era el que seguía manejando la política argentina y siento que no se exprimió al máximo o quizás yo estoy errado y la película encaraba para otro lado. Igual está bien, Laplace es impecable haciendo de Perón y su historia con Sofía me parece muy linda también. Mi voto es secreto\\', \\'date\\': \\'03 Oct 2021\\'}, {\\'stars\\': \\'★★★\\', \\'review\\': \\'El elenco logra unas similitudes a los personajes reales por momentos muy acertadas.Entre el contexto histórico y las frases épicas, muchas veces se llevan puesta la vida cotidiana con algunos diálogos un tanto irreales.Logra transmitir la carga y las dificultades de la vida en el exilio de un líder político único como Perón. El pasado que no deja de volver y un futuro corto.\\', \\'date\\': \\'15 Jul 2021\\'}]'"
      ]
     },
     "execution_count": 155,
     "metadata": {},
     "output_type": "execute_result"
    }
   ],
   "source": [
    "df['comments'].iloc[0]"
   ]
  },
  {
   "cell_type": "code",
   "execution_count": null,
   "metadata": {},
   "outputs": [
    {
     "data": {
      "text/plain": [
       "letterboxd_search          https://letterboxd.com/search/The+Dawns+Here+A...\n",
       "Movie                      {'title': 'the-dawns-here-are-quiet', 'url': '...\n",
       "comments                   [{'stars': '★★★★½', 'review': 'Absolutely fasc...\n",
       "reviews_extracted          [Absolutely fascinating movie about female sol...\n",
       "review_stars               [9, 9, 8, 8, 3, 7, 10, 10, 8, 4, 6, 8, 8, <NA>...\n",
       "review_dates               [12 Jun 2019, 09 May 2020, 01 May 2022, 19 Jul...\n",
       "reviews_extracted_lower    [Absolutely fascinating movie about female sol...\n",
       "reviews_mash               Absolutely fascinating movie about female sold...\n",
       "Name: 10, dtype: object"
      ]
     },
     "execution_count": 156,
     "metadata": {},
     "output_type": "execute_result"
    }
   ],
   "source": [
    "df.iloc[10]"
   ]
  },
  {
   "cell_type": "code",
   "execution_count": null,
   "metadata": {},
   "outputs": [],
   "source": [
    "df['Movie'] = df['Movie'].apply(lambda x : fk_apply_literal(x))\n",
    "df['genres'] = df['Movie'].apply(lambda x: x.get('genres'))\n",
    "df['avg_rating'] = df['Movie'].apply(lambda x: x.get('rating'))\n",
    "df['directors'] = df['Movie'].apply(lambda x: x.get('directors'))\n",
    "df.to_parquet(f\"{root}/Data/Whole_sets/cleaned_n=8_comments.parquet\")"
   ]
  },
  {
   "cell_type": "code",
   "execution_count": null,
   "metadata": {},
   "outputs": [
    {
     "data": {
      "text/plain": [
       "{'title': 'puerta-de-hierro-el-exilio-de-peron',\n",
       " 'url': 'https://letterboxd.com/film/puerta-de-hierro-el-exilio-de-peron/',\n",
       " 'directors': ['Víctor Laplace', 'Dieguillo Fernández'],\n",
       " 'rating': '3.30 out of 5',\n",
       " 'year': '2013',\n",
       " 'genres': []}"
      ]
     },
     "execution_count": 159,
     "metadata": {},
     "output_type": "execute_result"
    }
   ],
   "source": [
    "df['Movie'].iloc[0]"
   ]
  },
  {
   "cell_type": "code",
   "execution_count": null,
   "metadata": {},
   "outputs": [],
   "source": [
    "# df_small['reviews_extracted'].iloc[3]"
   ]
  },
  {
   "cell_type": "code",
   "execution_count": null,
   "metadata": {},
   "outputs": [],
   "source": [
    "\n"
   ]
  },
  {
   "cell_type": "code",
   "execution_count": null,
   "metadata": {},
   "outputs": [
    {
     "data": {
      "text/plain": [
       "letterboxd_search          https://letterboxd.com/search/The+Hills+Have+E...\n",
       "Movie                      {'title': 'the-hills-have-eyes-2006', 'url': '...\n",
       "comments                   [{'stars': '½', 'review': \"I'm so tired of rap...\n",
       "reviews_extracted          [I'm so tired of rape and sexual assault again...\n",
       "reviews_extracted_lower    [I'm so tired of rape and sexual assault again...\n",
       "reviews_mash               I'm so tired of rape and sexual assault agains...\n",
       "genres                                                    [Horror, Thriller]\n",
       "avg_rating                                                     3.01 out of 5\n",
       "directors                                                               None\n",
       "Name: 3, dtype: object"
      ]
     },
     "execution_count": 103,
     "metadata": {},
     "output_type": "execute_result"
    }
   ],
   "source": [
    "df.iloc[3]"
   ]
  },
  {
   "cell_type": "code",
   "execution_count": null,
   "metadata": {},
   "outputs": [
    {
     "data": {
      "text/plain": [
       "genres\n",
       "[Drama]               770\n",
       "[Comedy]              621\n",
       "[Horror]              342\n",
       "[Documentary]         231\n",
       "[Drama, Romance]      220\n",
       "[Comedy, Romance]     203\n",
       "[Comedy, Drama]       201\n",
       "[Romance, Drama]      181\n",
       "[Drama, Comedy]       179\n",
       "[Romance, Comedy]     143\n",
       "[]                    124\n",
       "[Thriller, Horror]    121\n",
       "[Horror, Thriller]    119\n",
       "[Drama, Crime]        108\n",
       "[Action]              103\n",
       "Name: count, dtype: int64"
      ]
     },
     "execution_count": 104,
     "metadata": {},
     "output_type": "execute_result"
    }
   ],
   "source": [
    "df['genres'].value_counts().head(15)"
   ]
  },
  {
   "cell_type": "code",
   "execution_count": null,
   "metadata": {},
   "outputs": [
    {
     "name": "stdout",
     "output_type": "stream",
     "text": [
      "This review may contain spoilers!This Francois Ozon guy is pretty good, isn't he? Last year, I decided to dip my toes into Ozon's filmography with his 2003 film Swimming Pool. I absolutely loved that film and was keen to check out more of his work. Therefore, it was a pleasant surprise to stumble across Frantz, one of his more recent films, on BBC iplayer. As a result of enjoying my previous experience with Ozon's work, I did have high…\n",
      "\n",
      "\n"
     ]
    }
   ],
   "source": [
    "## of note -- neet to clean out any \"This review may contain spoilers.I can handle the truth.\"\n",
    "for reviews in df['reviews_extracted'].iloc[0:10]:\n",
    "    for review in reviews:\n",
    "        if  \"this review may\".lower() in review.lower():\n",
    "            print(review)\n",
    "            print('\\n')"
   ]
  },
  {
   "cell_type": "code",
   "execution_count": null,
   "metadata": {},
   "outputs": [
    {
     "name": "stdout",
     "output_type": "stream",
     "text": [
      "[nan, 'Romance', 'Comedy', 'Action', 'Adventure', 'Horror', 'Thriller', 'Crime', 'Drama', 'History', 'Mystery', 'War', 'Science Fiction', 'TV Movie', 'Fantasy', 'Music', 'Family', 'Documentary', 'Western', 'Animation']\n"
     ]
    }
   ],
   "source": [
    "exploded_genres = df['genres'].explode()\n",
    "genre_types = exploded_genres.unique().tolist()\n",
    "print(genre_types)\n",
    "\n"
   ]
  },
  {
   "cell_type": "code",
   "execution_count": null,
   "metadata": {},
   "outputs": [
    {
     "data": {
      "text/plain": [
       "genres\n",
       "[Drama]                                770\n",
       "[Drama, Romance]                       220\n",
       "[Comedy, Drama]                        201\n",
       "[Romance, Drama]                       181\n",
       "[Drama, Comedy]                        179\n",
       "                                      ... \n",
       "[Drama, Romance, Mystery, Thriller]      1\n",
       "[Comedy, Crime, Romance, Drama]          1\n",
       "[Drama, Romance, Comedy, Family]         1\n",
       "[Action, Western, Drama]                 1\n",
       "[Drama, Romance, Horror]                 1\n",
       "Name: count, Length: 975, dtype: int64"
      ]
     },
     "execution_count": 107,
     "metadata": {},
     "output_type": "execute_result"
    }
   ],
   "source": [
    "df_drama =  df[df['genres'].apply(lambda lst: \"Drama\" in lst)].copy()\n",
    "df_drama['genres'].value_counts()"
   ]
  },
  {
   "cell_type": "code",
   "execution_count": null,
   "metadata": {},
   "outputs": [
    {
     "name": "stdout",
     "output_type": "stream",
     "text": [
      "29882\n",
      "278197391\n"
     ]
    }
   ],
   "source": [
    "print(len(df_drama['reviews_mash'].iloc[1]))\n",
    "drama_string = df['reviews_mash'].str.cat(sep=' ')\n",
    "drama_string = re.sub(r\"\\\\.\\s*\", '', drama_string)\n",
    "print(len(drama_string))\n"
   ]
  },
  {
   "cell_type": "code",
   "execution_count": null,
   "metadata": {},
   "outputs": [],
   "source": [
    "from collections import Counter\n",
    "def text_to_freqdf(text=None, text_file=None, lower_b=True, n_gram=1):\n",
    "    \"\"\"\n",
    "    Strip all the words out of a file and put them into a frequency dataframe.\n",
    "    By default casts everything to lowercase. Gets it ready for allotaxonometer.\n",
    "\n",
    "    :param text str: a string with the text.\n",
    "    :param text_file str:  The path to the text_file. \n",
    "    :param lower_b Bool: A boolean indicating whether to preserve case.\n",
    "                             Enter False if you want to preserve capital versus not. \n",
    "    :returns pd.DataFrame: A DataFrame with word frequencies.\n",
    "    \"\"\"\n",
    "\n",
    "    if text:\n",
    "        if lower_b:\n",
    "            text = text.lower()\n",
    "    else:\n",
    "        if text_file:\n",
    "            with open(text_file, 'r') as f:\n",
    "                text = f.read()\n",
    "            if lower_b:\n",
    "                text = text.lower()\n",
    "        else:\n",
    "            raise ValueError(\"Input either a string of text or a textfile.\")\n",
    "    \n",
    "    words = re.findall(r\"\\b\\w+'?\\w*\\b\", text)\n",
    "    if n_gram == 1:\n",
    "        df = pd.DataFrame(words, columns=['types'])\n",
    "        df = df.value_counts()\n",
    "        df = df.reset_index(name='counts')\n",
    "        df['probs'] = df['counts'] / df['counts'].sum()\n",
    "        total_unique = len(df)\n",
    "        df['total_unique'] = total_unique\n",
    "        return df\n",
    "    else:\n",
    "        bigrams = [f'{words[i]} {words[i+1]}' for i in range(len(words)-1)]\n",
    "        bigram_counts = Counter(bigrams)\n",
    "        bigram_df = pd.DataFrame(bigram_counts.items(), columns=['types', 'counts'])\n",
    "        bigram_df['probs'] = bigram_df['counts'] / bigram_df['counts'].sum()\n",
    "        bigram_df['total_unique'] = len(bigram_df)\n",
    "        return bigram_df\n",
    "    \n",
    "\n"
   ]
  },
  {
   "cell_type": "code",
   "execution_count": null,
   "metadata": {},
   "outputs": [],
   "source": [
    "drama_freq = text_to_freqdf(text=drama_string, n_gram=2)\n",
    "drama_freq.to_csv(f'{root}/Data/Subset Data/Bigrams/genre_freq/drama_word_freq.csv', index=False)"
   ]
  },
  {
   "cell_type": "code",
   "execution_count": null,
   "metadata": {},
   "outputs": [],
   "source": [
    "def search_list(lst, genre):\n",
    "    if genre != 'nan':\n",
    "        return genre in lst\n",
    "    else:\n",
    "        if pd.isna(lst) or lst == '[]':\n",
    "            return True\n",
    "        else:\n",
    "            return False"
   ]
  },
  {
   "cell_type": "code",
   "execution_count": null,
   "metadata": {},
   "outputs": [
    {
     "name": "stdout",
     "output_type": "stream",
     "text": [
      "starting Action\n",
      "starting Adventure\n",
      "starting Horror\n",
      "starting Thriller\n",
      "starting Crime\n",
      "starting Drama\n",
      "starting History\n",
      "starting Mystery\n",
      "starting War\n",
      "starting Science Fiction\n",
      "starting TV Movie\n",
      "starting Fantasy\n",
      "starting Music\n",
      "starting Family\n",
      "starting Documentary\n",
      "starting Western\n",
      "starting Animation\n"
     ]
    }
   ],
   "source": [
    "## get genre frequency csvs for all the movies we have so far\n",
    "genre_types = genre_types[1:]\n",
    "for genre in genre_types:\n",
    "    print(f\"starting {genre}\")\n",
    "    gdf  =  df[df['genres'].apply(lambda lst: genre in lst)].copy()\n",
    "    g_string = gdf['reviews_mash'].str.cat(sep=' ')\n",
    "    g_string = re.sub(r\"\\\\.\\s*\", '', g_string)\n",
    "\n",
    "\n",
    "\n",
    "    g_freq = text_to_freqdf(text=g_string)\n",
    "    g_freq.to_csv(f'{root}/Data/Subset Data/Unigrams/genre_freq/{genre}_word_freq.csv', index=False)\n",
    "    g_freq_short = g_freq.iloc[:10000].copy()\n",
    "    g_freq_short.to_csv(f'{root}/Data/Subset Data/Unigrams/genre_freq_short/{genre}_word_freq_short.csv', index=False)\n",
    "    g_freq_short_trimmed = g_freq.iloc[150:10150].copy()                                                                             \n",
    "    g_freq_short_trimmed.to_csv(f'{root}/Data/Subset Data/Unigrams/genre_freq_short_trimmed/{genre}_word_freq_short_trimmed.csv', index=False)\n",
    "\n",
    "\n",
    "    g_freq_b = text_to_freqdf(text=g_string, n_gram=2)\n",
    "    g_freq_b.to_csv(f'{root}/Data/Subset Data/Bigrams/genre_freq/{genre}_bi_word_freq.csv', index=False)\n",
    "    g_freq_b_short = g_freq_b.iloc[:10000].copy()\n",
    "    g_freq_b_short.to_csv(f'{root}/Data/Subset Data/Bigrams/genre_freq_short/{genre}_bi_word_freq_short.csv', index=False)\n",
    "    g_freq_b_short_trimmed = g_freq_b.iloc[150:10150].copy()                                                                             \n",
    "    g_freq_b_short_trimmed.to_csv(f'{root}/Data/Subset Data/Bigrams/genre_freq_short_trimmed/{genre}_bi_word_freq_short_trimmed.csv', index=False)\n",
    "    with open(f\"{root}/Data/Subset Data/genre_text/{genre}_words.txt\", 'w') as f:\n",
    "        f.write(g_string)\n"
   ]
  }
 ],
 "metadata": {
  "kernelspec": {
   "display_name": "spacy_env",
   "language": "python",
   "name": "python3"
  },
  "language_info": {
   "codemirror_mode": {
    "name": "ipython",
    "version": 3
   },
   "file_extension": ".py",
   "mimetype": "text/x-python",
   "name": "python",
   "nbconvert_exporter": "python",
   "pygments_lexer": "ipython3",
   "version": "3.9.20"
  }
 },
 "nbformat": 4,
 "nbformat_minor": 2
}
