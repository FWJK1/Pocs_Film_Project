{
 "cells": [
  {
   "cell_type": "code",
   "execution_count": 150,
   "metadata": {},
   "outputs": [],
   "source": [
    "import pandas as pd\n",
    "import re\n",
    "import os \n",
    "import ast\n",
    "import spacy\n",
    "\n",
    "nlp = spacy.load(\"en_core_web_sm\")"
   ]
  },
  {
   "cell_type": "code",
   "execution_count": 151,
   "metadata": {},
   "outputs": [],
   "source": [
    "\n",
    "\n",
    "def find_repo_root(start_path):\n",
    "    \"\"\"\n",
    "    useful general function for finding the (first, closest) repo root so github file paths work the same on different machines \n",
    "    \"\"\"\n",
    "    current_path = os.path.abspath(start_path)\n",
    "    \n",
    "    while True:\n",
    "        # Check for the existence of the .git directory or other indicators\n",
    "        if os.path.isdir(os.path.join(current_path, '.git')) or \\\n",
    "           os.path.isfile(os.path.join(current_path, 'README.md')):\n",
    "            return current_path\n",
    "        \n",
    "        parent_path = os.path.dirname(current_path)\n",
    "        \n",
    "        # Stop if we reach the root directory\n",
    "        if parent_path == current_path:\n",
    "            break\n",
    "        \n",
    "        current_path = parent_path\n",
    "\n",
    "    return None  # Return None if not found\n",
    "\n",
    "root = find_repo_root(os.getcwd())\n",
    "\n",
    "root = root.replace('\\\\', '/')\n",
    "\n",
    "def fk_apply_literal(x):\n",
    "    try:\n",
    "        return ast.literal_eval(x)\n",
    "    except Exception as e: \n",
    "        print(e, x)\n",
    "        return None\n",
    "\n",
    "\n"
   ]
  },
  {
   "cell_type": "code",
   "execution_count": 152,
   "metadata": {},
   "outputs": [
    {
     "data": {
      "text/plain": [
       "\"{'title': 'puerta-de-hierro-el-exilio-de-peron', 'url': 'https://letterboxd.com/film/puerta-de-hierro-el-exilio-de-peron/', 'directors': ['Víctor Laplace', 'Dieguillo Fernández'], 'rating': '3.30 out of 5', 'year': '2013', 'genres': []}\""
      ]
     },
     "execution_count": 152,
     "metadata": {},
     "output_type": "execute_result"
    }
   ],
   "source": [
    "df = pd.read_csv(f\"{root}/Data/movie_n=8_comments.csv\")\n",
    "df = df.dropna(subset=['Movie', 'comments'])\n",
    "df.drop_duplicates(keep='first')\n",
    "df['Movie'][0]"
   ]
  },
  {
   "cell_type": "code",
   "execution_count": 153,
   "metadata": {},
   "outputs": [],
   "source": [
    "# import spacy\n",
    "# import pandas as pd\n",
    "# import time\n",
    "\n",
    "# # Load SpaCy model\n",
    "# nlp = spacy.load(\"en_core_web_sm\")\n",
    "\n",
    "# # Sample large DataFrame with a 'reviews' column\n",
    "# data = {\n",
    "#     'reviews': [\"This product is great! I love it.\" * 10] * 10000  # 10000 rows, repeating review\n",
    "# }\n",
    "# df = pd.DataFrame(data)\n",
    "\n",
    "# # Define the tokenization function\n",
    "# def tokenize_review(review):\n",
    "#     doc = nlp(review)\n",
    "#     return [token.text for token in doc if not token.is_punct and not token.is_space]\n",
    "\n",
    "# # Measure time for tokenizing the entire DataFrame column\n",
    "# start_time = time.time()\n",
    "# df['tokenized_reviews'] = df['reviews'].apply(tokenize_review)\n",
    "# end_time = time.time()\n",
    "\n",
    "# # Print elapsed time\n",
    "# print(f\"Tokenization took {end_time - start_time:.6f} seconds.\")\n",
    "\n",
    "\n",
    "\n",
    "def tokenize_reviews(reviews):\n",
    "    texts, lemmas = [],[]\n",
    "    for review in reviews:\n",
    "        doc = nlp(review)\n",
    "        text = [token.text for token in doc if not token.is_space]\n",
    "        lemma = [token.lemma_ for token in doc if not token.is_space]\n",
    "        text = [''.join(text[i:i+2]) if text[i] == \"I\" and text[i+1] == \"'m\" else text[i] for i in range(len(text)-1)]\n",
    "        lemmas = [''.join(lemma[i:i+2]) if lemma[i] == \"I\" and lemma[i+1] == \"'m\" else lemma[i] for i in range(len(lemma)-1)]\n",
    "        texts.append(text)\n",
    "        lemmas.append(lemma)\n",
    "    return (texts, lemmas)\n",
    "\n"
   ]
  },
  {
   "cell_type": "code",
   "execution_count": 154,
   "metadata": {},
   "outputs": [
    {
     "name": "stdout",
     "output_type": "stream",
     "text": [
      "23846\n",
      "{'title': 'team-america-world-police', 'url': 'https://letterboxd.com/film/team-america-world-police/', 'directors': ['Trey Parker'], 'rating': '3.47 out of 5', 'year': '2004', 'genres': ['Action', 'Adventure', 'Comedy']}\n"
     ]
    }
   ],
   "source": [
    "def prune_spoilers(reviews):\n",
    "    return [review.replace(\"This review may contain spoilers.I can handle the truth.\", \"\") for review in reviews]\n",
    "\n",
    "def extract_reviews(reviews_str):\n",
    "    try:\n",
    "        # Convert the string representation of the list to an actual list\n",
    "        reviews_list = ast.literal_eval(reviews_str)\n",
    "        # Extract 'review' from each dictionary\n",
    "        return [review['review'] for review in reviews_list]\n",
    "    except (ValueError, SyntaxError):\n",
    "        return []\n",
    "    \n",
    "def convert_to_1_10(rating_str):\n",
    "    # Count full stars and check for half star\n",
    "    full_stars = 0 + rating_str.count('★')\n",
    "    half_star = 0.5 if '½' in rating_str else 0\n",
    "\n",
    "    # Combine the full stars and half star, then scale to 1-10\n",
    "    score = full_stars + half_star\n",
    "    score_1_10 = score * 2\n",
    "\n",
    "    return int(score_1_10)\n",
    "\n",
    "def extract_rating(reviews_str):\n",
    "   try:\n",
    "        # Convert the string representation of the list to an actual list\n",
    "        reviews_list = ast.literal_eval(reviews_str)\n",
    "        # Extract 'stars' from each dictionary\n",
    "        stars =  [review['stars'] for review in reviews_list]\n",
    "        return [convert_to_1_10(star) if star else pd.NA for star in stars]\n",
    "   except:\n",
    "       return []\n",
    "\n",
    "\n",
    "def extract_date(reviews_str):\n",
    "    reviews_list = ast.literal_eval(reviews_str)\n",
    "    return [review['date'] for review in reviews_list]\n",
    "\n",
    "\n",
    "df['reviews_extracted'] = df['comments'].apply(extract_reviews)\n",
    "df['reviews_extracted'] = df['reviews_extracted'].apply(lambda review: prune_spoilers(review))\n",
    "df['review_stars'] = df['comments'].apply(extract_rating)\n",
    "df['review_dates'] = df['comments'].apply(extract_date)\n",
    "df['reviews_extracted_lower'] = df['reviews_extracted'].apply(lambda review: prune_spoilers(review))\n",
    "df['reviews_mash'] = df['reviews_extracted'].apply(lambda x: '\\n'.join(x))\n",
    "\n",
    "\n",
    "print(len(df['reviews_mash'][2]))\n",
    "print(df['Movie'][2])"
   ]
  },
  {
   "cell_type": "code",
   "execution_count": 155,
   "metadata": {},
   "outputs": [
    {
     "data": {
      "text/plain": [
       "'[{\\'stars\\': \\'★★★★\\', \\'review\\': \\'Yo no entendí bien la película, Perón sabía que López Rega le tendía una trampa?\\', \\'date\\': \\'09 Nov 2020\\'}, {\\'stars\\': \\'★★★★½\\', \\'review\\': \\'Me pareció excelente. Impecable en términos históricos y con una forma de contar la historia bastante original y que funciona muy bien.Más que un Perón épico exiliado, está el Perón humano, que sufre la vil proscripción y sigue llorando por Eva. Increíblemente amena, maneja 18 años de historia muy bien explicados, sumado a la ambientación que está bien y la actuación de Víctor Laplace que está igualito al General.Tal vez pesa mucho que se haya hecho en pleno…\\', \\'date\\': \\'17 Jul 2020\\'}, {\\'stars\\': \\'★★\\', \\'review\\': \\'This review may contain spoilers.I can handle the truth.Esta película cuando la vi por primera vez me gustó mucho, pero volviéndola a ver siento que tiene muchísimos problemas. Es una película que no se calla nunca, todas las escenas tienen diálogos, es \"Perón pensando en voz alta\" y a veces diciéndole cosas muy profundas a gente random porque sí. Para obra de teatro funcionaria mejor, pero como película es mala. Una película política, sin política, y eso que el exilio de Perón es interesante históricamente hablando, su pelea…\\', \\'date\\': \\'08 Mar 2021\\'}, {\\'stars\\': \\'★★★★★\\', \\'review\\': \\'\"Eva querida, vuelvo. Vuelvo a nuestra tierra. Vuelvo con la muerte pisandome los talones. Sabés de qué se trata. No temblaste cuando la muerte pisaba tus talones. Seguir luchando aunque te consumas. Eso fue lo que hiciste. Y yo también. Es necesario que vuelva. ¿Y sabés qué, negrita? Voy a volver.\"~\"¿Acaso no le había dicho yo a él que por muy lejos que haya que ir en el sacrificio, no dejaría de estar a su lado hasta desfallecer?…\\', \\'date\\': \\'21 Aug 2022\\'}, {\\'stars\\': \\'★★★\\', \\'review\\': \\'Lanusse, marmotaPerón va a venir cuando le canten las pelotas\\', \\'date\\': \\'20 Apr 2024\\'}, {\\'stars\\': \\'★★½\\', \\'review\\': \"I don\\'t think this was a movie that was designed to travel well... but who knows, maybe there are a whole lot of people outside Argentina who vibe deeply to the day to day circumstances of Peron\\'s exile in Madrid. The opera ain\\'t over until the old man sings a tango.\", \\'date\\': \\'22 Jan 2020\\'}, {\\'stars\\': \\'½\\', \\'review\\': \\'Además de ser una película aburrida y cero atrapante, la historia se ve muy alterada en algunas partes mostrando hechos que nunca sucedieron o que fueron de una forma distinta. Además, todos los diálogos suenan poéticos como si todo lo que dice el personaje principal fuera patriótico. La película es utilizada como propaganda peronista.La única valoración que rescato de esta película es que utiliza frases que Perón escribió.\\', \\'date\\': \\'15 May 2023\\'}, {\\'stars\\': \\'★★★★★\\', \\'review\\': \\'Perón vuelve cuando se le cantan las pelotas\\', \\'date\\': \\'\\'}, {\\'stars\\': \\'★★★★\\', \\'review\\': \\'Durísima, cuantos años nos privaron de que gobierne semejante hombre.Durísimo las escenas que recuerdan a Evita.Emociona cuando le cantan la marcha en su cumpleaños.Emociona lo retrasada que la hacen a Isabelita y lo perverso que era el imbécil de López Rega.Gran actuación\\', \\'date\\': \\'07 Oct 2024\\'}, {\\'stars\\': \\'★★★★\\', \\'review\\': \\'perón\\', \\'date\\': \\'15 Jun 2024\\'}, {\\'stars\\': \\'★★★½\\', \\'review\\': \\'Puerta de Hierro: El Exilio de Perón> 71/100Poco antes de su regreso final a Argentina, Juan Domingo Perón graba sus recuerdos que vivió en el exilio.\"Puerta de Hierro\" nos transporta a una época poco explorada de la vida de Juan Domingo Perón: su exilio en Madrid tras el golpe militar de 1955. La película, dirigida y protagonizada por Víctor Laplace, nos sumerge en la intimidad de la residencia \"Puerta de Hierro\", donde el ex presidente argentino vivió momentos…\\', \\'date\\': \\'26 May 2024\\'}, {\\'stars\\': \\'★★★½\\', \\'review\\': \\'Que choto el personaje de Isabel, una pena. La muestran como una ilusa y no lo fué nunca.Piel de gallina con la marcha.Volveremos\\', \\'date\\': \\'11 Feb 2024\\'}, {\\'stars\\': \\'★★★\\', \\'review\\': \\'uno que te lea el martin fierro 🙏🙏\\', \\'date\\': \\'23 Oct 2023\\'}, {\\'stars\\': \\'★★★\\', \\'review\\': \\'GRACIAS MI GENERAL. LA POLENTA ES CADA VEZ MAS RICA. YA NO ALCANZA PARA EL QUESO PERO SEGUIMOS DEL LADO DEL PUEBLO✌️✌️✌️✌️🇧🇴🇧🇴🇧🇴\\', \\'date\\': \\'15 May 2023\\'}, {\\'stars\\': \\'★★★★★\\', \\'review\\': \\'Gracias a Juan Domingo, a Eva y al pueblo 💐\\', \\'date\\': \\'05 Feb 2023\\'}, {\\'stars\\': \\'★★★\\', \\'review\\': \\'Me esperaba un poco más pero es hasta ahora el mejor retrato de Perón que veo en una peli. Te quiero mucho, mi general\\', \\'date\\': \\'23 Oct 2022\\'}, {\\'stars\\': \\'★★★★\\', \\'review\\': \\'me ENLOQUECIÓ el Perón que -nuevamente- interpreta Víctor Laplace. pero este Perón está a años luz mejor de ese Perón un tanto estúpido y blandito que interpretó enEva Perón (1996).la voz, las expresiones, el tono, todo todo lo que comprende al General está logradísimo a la perfección. me agarré la cabeza un par de veces porque sentí que de verdad estaba viendo a literalmente Juan Domingo Perónmamita qué paquetes Isabelita y López Rega\\', \\'date\\': \\'12 Dec 2021\\'}, {\\'stars\\': \\'★★\\', \\'review\\': \\'peron y sus caniches\\', \\'date\\': \\'20 Sep 2021\\'}, {\\'stars\\': None, \\'review\\': \\'que esta sea para muchos la mejor pelicula sobre peron solo prueba que cuando se trata de alguien tan magnanimo, mas grande que la vida misma, es imposible hacer peliculas biograficas. dudo que algun cineasta capture la verdadera escencia atras del hombre mas importante de la historia argentina, alguien cuya toda vida fue una vida politica. cae en la falsedad, usa esos diálogos irrealistas sacando pedacitos de los libros del exilioa no terminan nunca de hablar para explicar un periodo…\\', \\'date\\': \\'29 Apr 2021\\'}, {\\'stars\\': None, \\'review\\': \\'LOPECITOPuerta de Hierro muestra un Perón edulcorado y chato, que cita texualmente al verdadero demasiado seguido y lo hace sonar artificial, una especie de juguetito de mcdonalds tipo Perón has 6 cool sayings. Además Laplace, que me parece buen actor, no logra muy bien la tonada del pocho y cada tanto le sale más parecido al sketch de yo no soy judio de Capusotto.La parte histórica, obviando el lavado de cara que le meten a Perón para hacerlo…\\', \\'date\\': \\'15 Jan 2021\\'}, {\\'stars\\': \\'★★\\', \\'review\\': \\'Una película sin política, sin rosca y sin intriga.\\', \\'date\\': \\'15 Dec 2020\\'}, {\\'stars\\': \\'★★★★★\\', \\'review\\': \\'Me dejó una buena sensación, por momentos me conmovió, sin dudas la volvería a ver. Me gusta como muestra a Perón en distintas facetas y lo bien caracterizado que está, Víctor Laplace hizo un re trabajo\\', \\'date\\': \\'09 Jul 2020\\'}, {\\'stars\\': \\'★★★★\\', \\'review\\': \\'No vi la pelicula pero el director fue mi profesor de escrituras audiovisuales. La materia la aprobe asi que como minimo tengo que dejarle unas estrellas\\', \\'date\\': \\'23 Oct 2021\\'}, {\\'stars\\': \\'★★\\', \\'review\\': \\'López Rega kjjjjj\\', \\'date\\': \\'30 Mar 2021\\'}, {\\'stars\\': \\'★★★★\\', \\'review\\': \\'usted sabe jugar al culo sucio?????\\', \\'date\\': \\'30 Sep 2024\\'}, {\\'stars\\': \\'★★★\\', \\'review\\': \\'Ni yankis, ni marxistas\\', \\'date\\': \\'16 Sep 2024\\'}, {\\'stars\\': \\'★★★★★\\', \\'review\\': \\'LOS MUCHACHOS PERONIIIISTAAAASSS🎶🎶\\', \\'date\\': \\'11 Sep 2024\\'}, {\\'stars\\': \\'★★★★★\\', \\'review\\': \\'Viva Perón, viva Perón !!!!! Laplace absolutamente fenomenal\\', \\'date\\': \\'25 Jul 2024\\'}, {\\'stars\\': \\'★\\', \\'review\\': \\'no se la vi en historia y casi me duermo\\', \\'date\\': \\'21 May 2024\\'}, {\\'stars\\': \\'★★★★\\', \\'review\\': \\'“Es más fácil variar el curso de un río que cambiar el carácter de un hombre”\\', \\'date\\': \\'03 Jan 2022\\'}, {\\'stars\\': None, \\'review\\': \\'espléndido, hasta se sumó mi viejo\\', \\'date\\': \\'04 May 2024\\'}, {\\'stars\\': \\'★★★½\\', \\'review\\': \\'Buena película.\\', \\'date\\': \\'04 Apr 2024\\'}, {\\'stars\\': \\'★★★\\', \\'review\\': \\'ame todo\\', \\'date\\': \\'31 Mar 2024\\'}, {\\'stars\\': \\'★★★½\\', \\'review\\': \\'me dió lástima don perón.esoero me ayude a aprobar historia\\', \\'date\\': \\'13 Mar 2024\\'}, {\\'stars\\': \\'★★\\', \\'review\\': \\'al final se puso más entretenida y no me dormí !!\\', \\'date\\': \\'13 Mar 2024\\'}, {\\'stars\\': \\'★★★★★\\', \\'review\\': \\'\"si el pueblo fuera feliz y la patria grande, ser peronista sería un derecho\".viva perón carajo.\\', \\'date\\': \\'28 Jan 2024\\'}, {\\'stars\\': \\'★★½\\', \\'review\\': \\'Tiene un buen diseño de producción, vestuario y la actuación de Victor Laplace interpretando nuevamente al General, herencia de la película Eva Perón de 1996.A pesar de tener una buena historia para contar no se refleja demasiado en el argumento ni en la curva dramática. Tampoco sentí que se haya trasmitido demasiado y por momentos caía el interés.\\', \\'date\\': \\'27 Dec 2023\\'}, {\\'stars\\': \\'★★½\\', \\'review\\': \\'cuando le dan el cuerpo de Eva a Perón es de las tres escenas más dolorosas que ví\\', \\'date\\': \\'18 Sep 2023\\'}, {\\'stars\\': \\'★★★½\\', \\'review\\': \\'La política es una guerra sin infusión de sangreLa guerra es una política con infusión de sangrePara volver se necesita paciencia\\', \\'date\\': \\'18 Jun 2023\\'}, {\\'stars\\': \\'★\\', \\'review\\': \\'De los creadores de la teoría del cerco...Ojo q al final somos todos unos imberbes.\\', \\'date\\': \\'21 May 2023\\'}, {\\'stars\\': \\'★★½\\', \\'review\\': \\'como película en general pierde en la comparación con eva peron pero el peron de laplace acá es monumental\\', \\'date\\': \\'18 Mar 2023\\'}, {\\'stars\\': \\'★★★\\', \\'review\\': \\'Perón partió al exilo en España, de donde eventualmente volvió para gobernar de nuevo.Esta película es un retrato fidedigno de la personalidad, ideas, habilidad política e ideosincracia del lider argentino más importante del siglo XX.---Perón went into exile in Spain, where he eventually returned to rule again.This film is a reliable portrait of the personality, ideas, political ability and idiosyncrasy of the most important Argentine leader of the 20th century.\\', \\'date\\': \\'18 Mar 2023\\'}, {\\'stars\\': \\'★★★\\', \\'review\\': \\'\"...Dios es Dios porque nadie lo ve...\"Interesante la trama, a pesar de que no haya un hilo o hechos fuertes, es buena la decisión de mostrar el Perón exiliado en decadencia con todo eso que lo aqueja: su propia salud, el exilio y las trabas políticas, su entorno problemático agravado por la llegada de López Rega (he aquí una posible pregunta, aunque su respuesta no iluminaría demasiado: qué fue primero, López Rega o la decadencia de Perón), el fantasma…\\', \\'date\\': \\'07 Mar 2023\\'}, {\\'stars\\': \\'★★★\\', \\'review\\': \\'Pocho viejo y peludoTe queremos !\\', \\'date\\': \\'03 Oct 2022\\'}, {\\'stars\\': \\'★★★\\', \\'review\\': \\'Si bien me gustó es una película, por momentos, intrascendente. El exilio de Perón es una etapa realmente interesante dónde se jugaron muchas cosas y como aún estando en otro continente era el que seguía manejando la política argentina y siento que no se exprimió al máximo o quizás yo estoy errado y la película encaraba para otro lado. Igual está bien, Laplace es impecable haciendo de Perón y su historia con Sofía me parece muy linda también. Mi voto es secreto\\', \\'date\\': \\'03 Oct 2021\\'}, {\\'stars\\': \\'★★★\\', \\'review\\': \\'El elenco logra unas similitudes a los personajes reales por momentos muy acertadas.Entre el contexto histórico y las frases épicas, muchas veces se llevan puesta la vida cotidiana con algunos diálogos un tanto irreales.Logra transmitir la carga y las dificultades de la vida en el exilio de un líder político único como Perón. El pasado que no deja de volver y un futuro corto.\\', \\'date\\': \\'15 Jul 2021\\'}]'"
      ]
     },
     "execution_count": 155,
     "metadata": {},
     "output_type": "execute_result"
    }
   ],
   "source": [
    "df['comments'].iloc[0]"
   ]
  },
  {
   "cell_type": "code",
   "execution_count": 156,
   "metadata": {},
   "outputs": [
    {
     "data": {
      "text/plain": [
       "letterboxd_search          https://letterboxd.com/search/The+Dawns+Here+A...\n",
       "Movie                      {'title': 'the-dawns-here-are-quiet', 'url': '...\n",
       "comments                   [{'stars': '★★★★½', 'review': 'Absolutely fasc...\n",
       "reviews_extracted          [Absolutely fascinating movie about female sol...\n",
       "review_stars               [9, 9, 8, 8, 3, 7, 10, 10, 8, 4, 6, 8, 8, <NA>...\n",
       "review_dates               [12 Jun 2019, 09 May 2020, 01 May 2022, 19 Jul...\n",
       "reviews_extracted_lower    [Absolutely fascinating movie about female sol...\n",
       "reviews_mash               Absolutely fascinating movie about female sold...\n",
       "Name: 10, dtype: object"
      ]
     },
     "execution_count": 156,
     "metadata": {},
     "output_type": "execute_result"
    }
   ],
   "source": [
    "df.iloc[10]"
   ]
  },
  {
   "cell_type": "code",
   "execution_count": 157,
   "metadata": {},
   "outputs": [],
   "source": [
    "df['Movie'] = df['Movie'].apply(lambda x : fk_apply_literal(x))\n",
    "df['genres'] = df['Movie'].apply(lambda x: x.get('genres'))\n",
    "df['avg_rating'] = df['Movie'].apply(lambda x: x.get('rating'))\n",
    "df['directors'] = df['Movie'].apply(lambda x: x.get('directors'))\n",
    "df.to_parquet(f\"{root}/Data/Whole_sets/cleaned_n=8_comments.parquet\")"
   ]
  },
  {
   "cell_type": "code",
   "execution_count": 159,
   "metadata": {},
   "outputs": [
    {
     "data": {
      "text/plain": [
       "{'title': 'puerta-de-hierro-el-exilio-de-peron',\n",
       " 'url': 'https://letterboxd.com/film/puerta-de-hierro-el-exilio-de-peron/',\n",
       " 'directors': ['Víctor Laplace', 'Dieguillo Fernández'],\n",
       " 'rating': '3.30 out of 5',\n",
       " 'year': '2013',\n",
       " 'genres': []}"
      ]
     },
     "execution_count": 159,
     "metadata": {},
     "output_type": "execute_result"
    }
   ],
   "source": [
    "df['Movie'].iloc[0]"
   ]
  },
  {
   "cell_type": "code",
   "execution_count": null,
   "metadata": {},
   "outputs": [],
   "source": [
    "# df_small['reviews_extracted'].iloc[3]"
   ]
  },
  {
   "cell_type": "code",
   "execution_count": null,
   "metadata": {},
   "outputs": [],
   "source": [
    "\n"
   ]
  },
  {
   "cell_type": "code",
   "execution_count": null,
   "metadata": {},
   "outputs": [
    {
     "data": {
      "text/plain": [
       "letterboxd_search          https://letterboxd.com/search/The+Hills+Have+E...\n",
       "Movie                      {'title': 'the-hills-have-eyes-2006', 'url': '...\n",
       "comments                   [{'stars': '½', 'review': \"I'm so tired of rap...\n",
       "reviews_extracted          [I'm so tired of rape and sexual assault again...\n",
       "reviews_extracted_lower    [I'm so tired of rape and sexual assault again...\n",
       "reviews_mash               I'm so tired of rape and sexual assault agains...\n",
       "genres                                                    [Horror, Thriller]\n",
       "avg_rating                                                     3.01 out of 5\n",
       "directors                                                               None\n",
       "Name: 3, dtype: object"
      ]
     },
     "execution_count": 103,
     "metadata": {},
     "output_type": "execute_result"
    }
   ],
   "source": [
    "df.iloc[3]"
   ]
  },
  {
   "cell_type": "code",
   "execution_count": null,
   "metadata": {},
   "outputs": [
    {
     "data": {
      "text/plain": [
       "genres\n",
       "[Drama]               770\n",
       "[Comedy]              621\n",
       "[Horror]              342\n",
       "[Documentary]         231\n",
       "[Drama, Romance]      220\n",
       "[Comedy, Romance]     203\n",
       "[Comedy, Drama]       201\n",
       "[Romance, Drama]      181\n",
       "[Drama, Comedy]       179\n",
       "[Romance, Comedy]     143\n",
       "[]                    124\n",
       "[Thriller, Horror]    121\n",
       "[Horror, Thriller]    119\n",
       "[Drama, Crime]        108\n",
       "[Action]              103\n",
       "Name: count, dtype: int64"
      ]
     },
     "execution_count": 104,
     "metadata": {},
     "output_type": "execute_result"
    }
   ],
   "source": [
    "df['genres'].value_counts().head(15)"
   ]
  },
  {
   "cell_type": "code",
   "execution_count": null,
   "metadata": {},
   "outputs": [
    {
     "name": "stdout",
     "output_type": "stream",
     "text": [
      "This review may contain spoilers!This Francois Ozon guy is pretty good, isn't he? Last year, I decided to dip my toes into Ozon's filmography with his 2003 film Swimming Pool. I absolutely loved that film and was keen to check out more of his work. Therefore, it was a pleasant surprise to stumble across Frantz, one of his more recent films, on BBC iplayer. As a result of enjoying my previous experience with Ozon's work, I did have high…\n",
      "\n",
      "\n"
     ]
    }
   ],
   "source": [
    "## of note -- neet to clean out any \"This review may contain spoilers.I can handle the truth.\"\n",
    "for reviews in df['reviews_extracted'].iloc[0:10]:\n",
    "    for review in reviews:\n",
    "        if  \"this review may\".lower() in review.lower():\n",
    "            print(review)\n",
    "            print('\\n')"
   ]
  },
  {
   "cell_type": "code",
   "execution_count": null,
   "metadata": {},
   "outputs": [
    {
     "name": "stdout",
     "output_type": "stream",
     "text": [
      "[nan, 'Romance', 'Comedy', 'Action', 'Adventure', 'Horror', 'Thriller', 'Crime', 'Drama', 'History', 'Mystery', 'War', 'Science Fiction', 'TV Movie', 'Fantasy', 'Music', 'Family', 'Documentary', 'Western', 'Animation']\n"
     ]
    }
   ],
   "source": [
    "exploded_genres = df['genres'].explode()\n",
    "genre_types = exploded_genres.unique().tolist()\n",
    "print(genre_types)\n",
    "\n"
   ]
  },
  {
   "cell_type": "code",
   "execution_count": null,
   "metadata": {},
   "outputs": [
    {
     "data": {
      "text/plain": [
       "genres\n",
       "[Drama]                                770\n",
       "[Drama, Romance]                       220\n",
       "[Comedy, Drama]                        201\n",
       "[Romance, Drama]                       181\n",
       "[Drama, Comedy]                        179\n",
       "                                      ... \n",
       "[Drama, Romance, Mystery, Thriller]      1\n",
       "[Comedy, Crime, Romance, Drama]          1\n",
       "[Drama, Romance, Comedy, Family]         1\n",
       "[Action, Western, Drama]                 1\n",
       "[Drama, Romance, Horror]                 1\n",
       "Name: count, Length: 975, dtype: int64"
      ]
     },
     "execution_count": 107,
     "metadata": {},
     "output_type": "execute_result"
    }
   ],
   "source": [
    "df_drama =  df[df['genres'].apply(lambda lst: \"Drama\" in lst)].copy()\n",
    "df_drama['genres'].value_counts()\n"
   ]
  },
  {
   "cell_type": "code",
   "execution_count": null,
   "metadata": {},
   "outputs": [
    {
     "name": "stdout",
     "output_type": "stream",
     "text": [
      "29882\n",
      "278197391\n"
     ]
    }
   ],
   "source": [
    "print(len(df_drama['reviews_mash'].iloc[1]))\n",
    "drama_string = df['reviews_mash'].str.cat(sep=' ')\n",
    "drama_string = re.sub(r\"\\\\.\\s*\", '', drama_string)\n",
    "print(len(drama_string))\n"
   ]
  },
  {
   "cell_type": "code",
   "execution_count": null,
   "metadata": {},
   "outputs": [],
   "source": [
    "from collections import Counter\n",
    "def text_to_freqdf(text=None, text_file=None, lower_b=True, n_gram=1):\n",
    "    \"\"\"\n",
    "    Strip all the words out of a file and put them into a frequency dataframe.\n",
    "    By default casts everything to lowercase. Gets it ready for allotaxonometer.\n",
    "\n",
    "    :param text str: a string with the text.\n",
    "    :param text_file str:  The path to the text_file. \n",
    "    :param lower_b Bool: A boolean indicating whether to preserve case.\n",
    "                             Enter False if you want to preserve capital versus not. \n",
    "    :returns pd.DataFrame: A DataFrame with word frequencies.\n",
    "    \"\"\"\n",
    "\n",
    "    if text:\n",
    "        if lower_b:\n",
    "            text = text.lower()\n",
    "    else:\n",
    "        if text_file:\n",
    "            with open(text_file, 'r') as f:\n",
    "                text = f.read()\n",
    "            if lower_b:\n",
    "                text = text.lower()\n",
    "        else:\n",
    "            raise ValueError(\"Input either a string of text or a textfile.\")\n",
    "    \n",
    "    words = re.findall(r\"\\b\\w+'?\\w*\\b\", text)\n",
    "    if n_gram == 1:\n",
    "        df = pd.DataFrame(words, columns=['types'])\n",
    "        df = df.value_counts()\n",
    "        df = df.reset_index(name='counts')\n",
    "        df['probs'] = df['counts'] / df['counts'].sum()\n",
    "        total_unique = len(df)\n",
    "        df['total_unique'] = total_unique\n",
    "        return df\n",
    "    else:\n",
    "        bigrams = [f'{words[i]} {words[i+1]}' for i in range(len(words)-1)]\n",
    "        bigram_counts = Counter(bigrams)\n",
    "        bigram_df = pd.DataFrame(bigram_counts.items(), columns=['types', 'counts'])\n",
    "        bigram_df['probs'] = bigram_df['counts'] / bigram_df['counts'].sum()\n",
    "        bigram_df['total_unique'] = len(bigram_df)\n",
    "        return bigram_df\n",
    "    \n",
    "\n"
   ]
  },
  {
   "cell_type": "code",
   "execution_count": null,
   "metadata": {},
   "outputs": [],
   "source": [
    "drama_freq = text_to_freqdf(text=drama_string, n_gram=2)\n",
    "drama_freq.to_csv(f'{root}/Data/Subset Data/Bigrams/genre_freq/drama_word_freq.csv', index=False)"
   ]
  },
  {
   "cell_type": "code",
   "execution_count": null,
   "metadata": {},
   "outputs": [],
   "source": [
    "def search_list(lst, genre):\n",
    "    if genre != 'nan':\n",
    "        return genre in lst\n",
    "    else:\n",
    "        if pd.isna(lst) or lst == '[]':\n",
    "            return True\n",
    "        else:\n",
    "            return False"
   ]
  },
  {
   "cell_type": "code",
   "execution_count": null,
   "metadata": {},
   "outputs": [
    {
     "name": "stdout",
     "output_type": "stream",
     "text": [
      "starting Action\n",
      "starting Adventure\n",
      "starting Horror\n",
      "starting Thriller\n",
      "starting Crime\n",
      "starting Drama\n",
      "starting History\n",
      "starting Mystery\n",
      "starting War\n",
      "starting Science Fiction\n",
      "starting TV Movie\n",
      "starting Fantasy\n",
      "starting Music\n",
      "starting Family\n",
      "starting Documentary\n",
      "starting Western\n",
      "starting Animation\n"
     ]
    }
   ],
   "source": [
    "## get genre frequency csvs for all the movies we have so far\n",
    "genre_types = genre_types[1:]\n",
    "for genre in genre_types:\n",
    "    print(f\"starting {genre}\")\n",
    "    gdf  =  df[df['genres'].apply(lambda lst: genre in lst)].copy()\n",
    "    g_string = gdf['reviews_mash'].str.cat(sep=' ')\n",
    "    g_string = re.sub(r\"\\\\.\\s*\", '', g_string)\n",
    "\n",
    "\n",
    "\n",
    "    g_freq = text_to_freqdf(text=g_string)\n",
    "    g_freq.to_csv(f'{root}/Data/Subset Data/Unigrams/genre_freq/{genre}_word_freq.csv', index=False)\n",
    "    g_freq_short = g_freq.iloc[:10000].copy()\n",
    "    g_freq_short.to_csv(f'{root}/Data/Subset Data/Unigrams/genre_freq_short/{genre}_word_freq_short.csv', index=False)\n",
    "    g_freq_short_trimmed = g_freq.iloc[150:10150].copy()                                                                             \n",
    "    g_freq_short_trimmed.to_csv(f'{root}/Data/Subset Data/Unigrams/genre_freq_short_trimmed/{genre}_word_freq_short_trimmed.csv', index=False)\n",
    "\n",
    "\n",
    "    g_freq_b = text_to_freqdf(text=g_string, n_gram=2)\n",
    "    g_freq_b.to_csv(f'{root}/Data/Subset Data/Bigrams/genre_freq/{genre}_bi_word_freq.csv', index=False)\n",
    "    g_freq_b_short = g_freq_b.iloc[:10000].copy()\n",
    "    g_freq_b_short.to_csv(f'{root}/Data/Subset Data/Bigrams/genre_freq_short/{genre}_bi_word_freq_short.csv', index=False)\n",
    "    g_freq_b_short_trimmed = g_freq_b.iloc[150:10150].copy()                                                                             \n",
    "    g_freq_b_short_trimmed.to_csv(f'{root}/Data/Subset Data/Bigrams/genre_freq_short_trimmed/{genre}_bi_word_freq_short_trimmed.csv', index=False)\n",
    "    with open(f\"{root}/Data/Subset Data/genre_text/{genre}_words.txt\", 'w') as f:\n",
    "        f.write(g_string)\n"
   ]
  }
 ],
 "metadata": {
  "kernelspec": {
   "display_name": "spacy_env",
   "language": "python",
   "name": "python3"
  },
  "language_info": {
   "codemirror_mode": {
    "name": "ipython",
    "version": 3
   },
   "file_extension": ".py",
   "mimetype": "text/x-python",
   "name": "python",
   "nbconvert_exporter": "python",
   "pygments_lexer": "ipython3",
   "version": "3.9.20"
  }
 },
 "nbformat": 4,
 "nbformat_minor": 2
}
