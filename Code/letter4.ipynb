{
 "cells": [
  {
   "cell_type": "code",
   "execution_count": 258,
   "metadata": {},
   "outputs": [],
   "source": [
    "import pandas as pd\n",
    "import re\n",
    "import os \n",
    "import ast"
   ]
  },
  {
   "cell_type": "code",
   "execution_count": 259,
   "metadata": {},
   "outputs": [],
   "source": [
    "\n",
    "\n",
    "def find_repo_root(start_path):\n",
    "    \"\"\"\n",
    "    useful general function for finding the (first, closest) repo root so github file paths work the same on different machines \n",
    "    \"\"\"\n",
    "    current_path = os.path.abspath(start_path)\n",
    "    \n",
    "    while True:\n",
    "        # Check for the existence of the .git directory or other indicators\n",
    "        if os.path.isdir(os.path.join(current_path, '.git')) or \\\n",
    "           os.path.isfile(os.path.join(current_path, 'README.md')):\n",
    "            return current_path\n",
    "        \n",
    "        parent_path = os.path.dirname(current_path)\n",
    "        \n",
    "        # Stop if we reach the root directory\n",
    "        if parent_path == current_path:\n",
    "            break\n",
    "        \n",
    "        current_path = parent_path\n",
    "\n",
    "    return None  # Return None if not found\n",
    "\n",
    "root = find_repo_root(os.getcwd())\n",
    "\n",
    "\n",
    "def fk_apply_literal(x):\n",
    "    try:\n",
    "        return ast.literal_eval(x)\n",
    "    except Exception as e: \n",
    "        print(e, x)\n",
    "        return None\n",
    "\n",
    "\n"
   ]
  },
  {
   "cell_type": "code",
   "execution_count": 260,
   "metadata": {},
   "outputs": [
    {
     "data": {
      "text/plain": [
       "\"{'title': 'puerta-de-hierro-el-exilio-de-peron', 'url': 'https://letterboxd.com/film/puerta-de-hierro-el-exilio-de-peron/', 'directors': ['Víctor Laplace', 'Dieguillo Fernández'], 'rating': '3.30 out of 5', 'year': '2013', 'genres': []}\""
      ]
     },
     "execution_count": 260,
     "metadata": {},
     "output_type": "execute_result"
    }
   ],
   "source": [
    "df = pd.read_csv(f\"{root}/Data/movie_n=8_comments.csv\")\n",
    "df = df.dropna(subset=['Movie', 'comments'])\n",
    "df['Movie'][0]"
   ]
  },
  {
   "cell_type": "code",
   "execution_count": 261,
   "metadata": {},
   "outputs": [
    {
     "name": "stdout",
     "output_type": "stream",
     "text": [
      "Matt Damon knocks it out of the park.\n",
      "it's better than anomalisa\n",
      "Chris warned us about Cats but we didn't listen.\n",
      "I choose to view this as a documentary.\n",
      "Matt damon\n",
      "The puking scene is comedy gold.\n",
      "don't think this is quite as funny as i once did (and the \"eww, gay stuff\" vibe is even less welcome now), but i'd definitely forgotten about its visual virtuosity and how well it absorbed the motifs of American action movies. the best gags are simple nuts-and-bolts jokes about the limitations of the marionettes themselves, like when an elaborate fight is just a bunch of wriggling dolls, or when they have to make one look like a staggering drunk. well, that and the sex scene.\n",
      "THE POLITICAL SATIRE: On the one hand, you've got the destructive excesses of American foreign policy. On the other, you've got some Hollywood libs who are a bit annoying. I think I know what Matt and Trey hate more.THE ACTION-MOVIE SATIRE: Replicates the cliches of bad Hollywood action movies so faithfully that it's... honestly a bit boring.The puppet sex scene is still very funny.\n",
      "You are worthress, Arec Barrwin.\n",
      "JUNIMATION II: F*** YEAH!AMEEEERICAA!!!! FUCK YEEEAH!!Man, I’ve been hearing some great things about this film, but this blew (pun intended) every expectation I had and didn’t have. This is peak spoof/satire with Parker and Stone at the height of their power.Everything that has led them to such a fruitful and lasting career can be found here. So stupid fun, from the fighting to the sex scenes. The jokes all pretty much hit with me, whether they were…\n",
      "This is just one of the best films of all time. No jokes here.\"Lisa: Promise me you'll never die.Gary Johnston: You know I can't promise that.Lisa: If you did that, I would make love to you right now.Gary Johnston: I promise I'll never die.\"\n",
      "A very indefensibly stupid, juvenile war on terror satire even at the time (which is a shame because making fun of Hollywood liberals might've actually aged well if they hit them on any subject other than outspokenly opposing the Iraq war) but all the puppet physical comedy holds up and the technical achievement of lovingly recreating the Tony Scott/Michael Bay era of bombastic and violent analog American studio action filmmaking in miniature is honestly still impressive. Bill Pope the God? They also nailedRENT.\n",
      "It’s just a massive piss take.It’s so wrong on so many levels yet so funny. I’ve got no words.\n",
      "Quite possibly the most patriotic film ever made, with one of the most erotic full-frontal sex scenes ever put on film.America, Fuck YeahAmerica...America...America, FUCK YEAH!Coming again, to save the mother fucking day yeah,America, FUCK YEAH!Freedom is the only way yeah,Terrorist your game is through cause now you have to answer toAmerica, FUCK YEAH!So lick my butt, and suck on my balls,America, FUCK YEAH!What you going to do when…\n",
      "This was definitely funnier in 2004, probably because these days there are always at least five members of congress whose daily antics are more idiotic and absurd than anything in this movie.\n",
      "fuck yeah\n",
      "Pearl harbor sucks just a little bit more than I miss you\n",
      "i could make so many cinematic parallels between this and being john malkovich it's unbelievable\n",
      "Team America just hit all the right notes and really tickle my fancy.\n",
      "This movie is so fucking stupid\n",
      "Gary Johnston: We're dicks! We're reckless, arrogant, stupid dicks. And the Film Actors Guild are pussies. And Kim Jong Il is an asshole. Pussies don't like dicks, because pussies get fucked by dicks. But dicks also fuck assholes: assholes that just want to shit on everything. Pussies may think they can deal with assholes their way. But the only thing that can fuck an asshole is a dick, with some balls. The problem with dicks is: they fuck too much…\n",
      "It's kinda, like, the most American version of 'Thunderbirds' — to the mother fucking max. Happy twentieth birthday, 'Team America'. 🥳Fuck yea.\n",
      "Now THIS is the ultimate 2am comedy movie.Team Americais incredibly funny. It's also incredibly stupid. Its about puppets who save the world from terrorists for starters. If that's not enough to sell you, the fact that its from the minds behindSouth Parkshould also be another selling point. Trey and Matt bring their classic slapstick and satirical humor to low brow levels.Team Americais an incredibly vile, violent, wacky, and controversial movie that is hard to…\n",
      "As funny as the South Park brand gets, Team America delivers the juvenile, crude, and un-PC humor we all know and love. Unfortunately, much of its greatness is ultimately derailed by politics that feel very much rooted in 2004. Trey Parker and Matt Stone hide behind a delicate puppet farce to present cleverly crafted political propaganda that seems to have more bones to pick with anti-war celebrities than with actual war criminals. They were definitely very patriotic boys.\n",
      "I watched this last night. I don’t remember most of it and I’m incredibly hung over, but I watched it. Solid 4th of July movie (probably).\n",
      "ENGLISH below\"Matt Damon!\"Gestern habe ich mir nach langer Zeit mal wieder \"Team America: World Police\" reingezogen, und Mann, hat der Film nichts von seinem Biss verloren! Das Duo Trey Parker und Matt Stone, bekannt für ihre geniale Arbeit an \"South Park\", hat hier voll zugeschlagen. Wer die Jungs kennt, weiß, dass sie kein Blatt vor den Mund nehmen und mit ihrem Humor in alle Richtungen austeilen.Schon beim ersten Blick fällt auf: Marionetten! Aber hey, trotz der sichtbaren…\n",
      "Apparently this was the second movie I ever watched, afterPinocchio\n",
      "Over 5000 films watched and ‘Durka, Durka, Durka’ remains one of my favourite lines of all time.\n",
      "-\"Remember, there is no I in America.\"-\"Yes, there is.\"An excellent satire on action movies, Hollywood and America. It has a unique look with the toy puppets and I find the puppet mannerisms funny, they make the jokes even more funny. It's from the creators ofSouth Parkso expect dumb humor with a lot of cursing, but just likeSouth Parkthere's always a social commentary hidden underneath it all. Not every joke landed for me but a…\n",
      "One of the most racist movies of all time which also happens to be one of the funniest movies of all time. A perfect satire on America coming in to “save the day” but making everything 100% worse.Also Sarah is 100% hotter than Lisa. Gary is so stupid for going after her instead.(It’s hard to tell but this is a positive review I fuckn loved it haven’t laughed so hard at a movie in a long time)\n",
      "I've seen this so many times and I'll never not laugh at every scene. I just find the tiniest details gut-bustingly funny. The odd small movements of the puppets combined with the voice work just has this weird unique quality that I find so amusing. You can tell these guys just had so much fun on set, just made the movie they wanted to make and didn't give a damn.Team America: World Police is actually much cleverer than it…\n",
      "A Movie A Day 2013: Day 307The Good:Marionette fight. \"Everyone Has AIDS.\" Valmorphanize. I.N.T.E.L.L.I.G.E.N.C.E.. \"9/11 times 100.\" \"Freedom costs a buck 'o five.\" \"Lick my butt and suck on my balls.\" \"Let's get one thing straight, actor. I don't trust you. And if you betray us, I'll rip your fucking balls off and stuff them up your ass so that the next time you shit, you'll shit all over your balls, got it?\" The signal. TheStar Wars…\n",
      "what is most remarkable two decades later is how well this works as a bonafide action movie, feeling like an inherently (perhaps defiantly) last bastion of intensely analog spectacle to the extent of everything in its frame being entirely, physically, fabricated — it may exclusively star puppets and operate as a crass comedy, but Parker/Stone turned in a Bruckheimer/Simpson movie complete with legit explosions, goopy squibs and a gratuitous sex scene; unironically, maybe unintentionally, one of the great action movies of the 2000s\n",
      "Why would my dad tell me to watch this?\n",
      "A really funny satire. All the songs were great (the Michael Bay one was unexpected), enjoyed theStar Warscantina band. The puppets were utilised to make the jokes even funnier, and awesome puppet gore. Alec Baldwin and Matt Damon, hell yeah.\n",
      "in the wake of South Park this Parker/Stone cinema excursion is simply too tame. the classic left-right-uppercut against reactionary politicians and liberal hollywood starry-eyed idealism comes in as fancy puppet satire, and while the schematic blockbuster industry gets their come-uppance, it's an interesting choice to actually use hollywood conventions to create the filmic outline.\n",
      "Team America epitomizes the strengths and weaknesses of Trey Parker and Matt Stone. Their parody of action movies (especially Bruckheimer productions) brilliantly emphasize and mock American jingoism, a shining example of how well they incorporate pop culture staples into their work. The musical numbers are hilarious as well. Unfortunately (and this speaks to South Park as well), Parker and Stone don't really have anything to say. Their m.o. just consists of them being shit disturbers, which isn't an inherently bad…\n",
      "“Matt Damon!”I can’t believe this got made. I mean, I’m glad it did, but wow.\n",
      "It must be almost a decade since my one and only viewing of Trey Parker's satirical controversy magnet. A movie that will and could offend almost anyone not intelligent enough to understand satire, this was just as funny as I'd remembered it.Marionettes may not be the most cutting edge facet in cinema, however with some of the things that Parker and Matt Stone attempt here, they suit the farcical elements to a film so rude and crude that tears…\n",
      "Puppet love.\n",
      "There isn’t really much to say about this. Everything has been said already. I definitely like it, it still makes me laugh after all the times I’ve seen it. It’s worth the watch if you get the chance.\n",
      "The whole world must know of the sensational line “Matt Damon”\n",
      "Jesus titty-fucking Christ. 😂\"We've lost intelligence! I repeat, we have no intelligence!\"\n",
      "“You’re breakin’ my balls, Hans Brix!”It’s funny how omnipresent Hans Blix was on the news and foremost in my mind back when Danno and I saw this in the theater back in 2004. I forgot all about his existence for like a decade or more since the last time I watched this. It’s a comforting/disturbing reminder that the world has always seemed like it was mere months from falling apart, but whatever big fucking deal happens to be getting…\n",
      "\"NO! NO ME GUSTA!\"I never thought I'd recommendTeam America: World Policeto either of my parents, but TIL that my dad - a casual but shameless South Park fan -hasn't seen it....so, naturally I recommended it.& If that's the strangest thing that happens today in America, I'll take it.🦍🦍🦍🦍PS: forgot to log this last weekend 🇺🇲\n",
      "I feel like the real Kim Jong-il would’ve been sympathetic towards his portrayal in this, it definitely hit home for him.\n",
      "You had me at “dicks fuck assholes” 🥹\n",
      "In 2004, Trey Parker and Matt Stone created and released a film that parodied and satirized post-9/11, Kim Jong-il, action movies and liberal Hollywood actors. This film is as silly and stupid as they come, but when it’s from the creators ofSouth Park, it can be done right.Team America: World Policefollows a dedicated police force to stop terrorism, but they have a bigger problem when they learn that a North Korean dictator has plans for world domination.This…\n",
      "Pussies don't like dicks because pussies get fucked by dicks. But dicks also fuck assholes; assholes who just want to shit on everything. Pussies may think they can deal with assholes their way. But the only thing that can fuck an asshole is a dick with some balls. The problem with dicks is that sometimes they fuck too much or fuck when it isn't appropriate, and it takes a pussy to show them that. But sometimes, pussies get so full of shit that they become assholes themselves, because pussies are only an inch and a half away from assholes!\n",
      "The Godfather walked so Team America:World Police could run.\n",
      "Die Produktion muss/soll die absolute Hölle gewesen sein.Hat sich allerdings gelohnt!\n",
      "i don't even know what i should say about this\n",
      "I’ll never forget seeing this in cinema with my dad when I was like 12 years old and just losing my fricking mind laughing at the sex scene. I was still laughing well into the next two scenes when my dad asked me if it was still at the puppets 69ing.Just an unfathomable comedic achievement and one of the great monuments to blistering stupidity.\n",
      "C+\"We're dicks! We're reckless, arrogant, stupid dicks. And the Film Actors Guild are pussies. And Kim Jong-il is an asshole. Pussies don't like dicks, because pussies get fucked by dicks. But dicks also fuck assholes - assholes who just want to shit on everything. Pussies may think they can deal with assholes their way, but the only thing that can fuck an asshole is a dick, with some balls. The problem with dicks is that sometimes they fuck too…\n",
      "I'm on a bit of a Trey Parker/Matt Stone spree at the moment, re-watching the entire South Park series from start to finish. Of course, I feel this should also include their satirical puppet romp which the duo made duringSouth Park's eighth season. It's basically their hilarious send-up of stupid big-budget blockbusters of the time, with Gerry Anderson-esque marionette puppets as the cast.It follows an international police force namedTeam America, in reference to the U.S foreign policy…\n",
      "\"Our base was attacked by a giant Socialist weasel\" - I.N.T.E.L.L.I.G.E.N.C.E.I still have memories of America. TherealAmerica. When Americans were proud. Of themselves, as well as each other. When Americans laughed. At themselves, as well as each other. Of a time when comedy and satire were easily understood. And enjoyed.Sadly, those times are gone. I doubt they'll ever return. America is angrier now. Unforgiving. Unhappy. Unfunny. And extremely Unhealthy.Thankfully, Parker & Stone left us this amazing…\n",
      "Spiritual sequel to \"South Park: Bigger Longer & Uncut\" and ancestor of \"America: The Motion Picture\", all hysterically graphic goofball animated satires of both Hollywood excess and American jingoism. We could've used movies like this and \"SP:BL&U\" every few years from Stone & Parker instead of seasons after season of their TV show that I simply cannot sit through more than 25 seconds of at any given time, focused feature films that commented on/pissed all over current pop culture and political trends,…\n",
      "Decent Thunderbirds spoof. It’s funny but definitely the weakest of the Matt and Trey movies.\n",
      "I took this for granted, what a fucking incredible comedy. Films of this caliber are rare and far between. Plus it genuinely made Sean Penn angry and that’s enough to make me shill for this film for an eternity.\n",
      "4K Blu-ray.This might be the silliest thing any studio has ever done with its money, and I approve.\n",
      "I don’t think I’ve ever felt more patriotic than when I started watching this on the Fourth of July.‘MERICA!!! F*** YEAH!!!!! 🇺🇸🦅Matt Damon\n",
      "\"Freedom isn't free it's a heafty fucking fee, and if you don't put in your buck O' five who will. Freedom cost a buck O' five.\" I love this song.\n",
      "Spottswoode: Team, if the Derkaderkastanis have weapons of mass destruction, I'm afraid it could be 911 times a thousand.Sarah: Jesus, you mean...?Spottswoode: Yes. Nine hundred and eleven thousand.This is a movie by Trey Parker and Matt Stone, who are known as the creators of “South Park” and they delivered the rude and at times childish humor you would expect from them, so that was nice.The story follows a Broadway actor, who is hired by the overly…\n",
      "Puppet sex, puppet vomiting and puppet matt Damon, I think now I've seen everything except of course a man eating his own head.\n",
      "I am about to make a very precise and compricated pact.If in the future I marry a woman, I must play 'Only a Woman' at our wedding, even though I'm bisexual.And if I end up marrying a man, I must play 'Everyone Has AIDS' at our wedding, even though I don't have the HIV virus.And either way, I must tell them that I need them like Ben Affleck needs acting school.Fuck yeah.\n",
      "Comedy is all about timing.Team America: World Policeraided theaters on the heels of the Iraq War. With WMDs as good as MIA, the sheen of America's post-9/11 victimhood had begun to fade.Enter Trey Parker and Matt Stone, comic renegades of South Park fame. Their loud and brash style fits perfectly with America's \"shoot now, look for WMDs later\" foreign policy, even when it overpowers their own commentary. But that's the point, you can't hear the United States…\n",
      "When Matt Damon said, “Matt Damon!” I felt that\n",
      "Ten years ago I joined a little website calledLetterboxd, and the first film I ever 'reviewed' wasTeam America: World Police.'Not as funny as I remember', I shouted from the rooftops. Now, ten years later I sat down and revisited the film that began my Letterboxd career, and you know what?I was right in 2013. I am right in 2023. I have always been right. This isn't as funny as I remember!How do you process a…\n",
      "AMERIKAYAHALLOHALLOHALLOHALLO\n",
      "The parts with puppets puking or having sex are still pretty funny, and the gore.  The songs are hilarious.  Some of the satirical aspects are still funny, but man…I am all for “make fun of everyone and everything,” but the “edgy” stuff is dated.  And I say that as someone who has also had edgy stuff go sour after time!  It is part of evolution.  Punching down, even in service of satire, is tricky to keep fresh and not look mean.But again, puppets fucking is very funny.\n",
      "\"Matt Damon.\" - Matt DamonEver since seeing The Book of Mormon musical in January, I've been virtually obsessed with it. What does that have to do with the review of this film you say? Well I saw in a interview that Trey Parker always had a thing for musicals, and even included some musical numbers in this.But saying I'm just watching this for the music does this film a disservice. Since 2004's Team America: World Police is one…\n",
      "Like an ugly, but wanted, gargle of Listerine after watching ten days of culture, Team America : World Police is a pretty potent palate cleanser after TIFF.I grew up on Gerry and Silvia Anderson. I think I stumbled across Fireball XL5 when I was about 2 or 3 years old … the reason this memory is so indelible is that XL5’s Robbie The Robot scared the shit out of me .. so much that my mom would ban me…\n",
      "\"OK, a limousine that can fly. Now I have seen everything.\" - Gary Johnston\"Really? Have you seen a man eat his own head?\" - Spottswoode\"No.\" - Gary Johnston\"So then, you haven't seen everything.\" - SpottswoodeTrey Parker and Matt Stone's brilliant puppet action-comedy is still an awesome treat with some fantastically crude humour to tweak your funnybone!\n",
      "the magnum opus of this strand of Trey Parker comedy, zealously stimulated by post-9/11 fallout + a total Hollywood overheat/meltdown when considering just how to relay something this blatantly offensive withoutactuallybeing blatantly offensive—while there’s no avoiding the general consensus on satirizing foreign powers and the mockery in-tow,World Police, just as with South Park, flourishes in directing the delirium of this era inward (to near implosion) so unfathomably well, leaving itself overexposed, and commendably hilarious beneath the psychotic…\n",
      "Women are like police, they can have all the evidence in the world but they still want a confession.Like a world police puppet on a string. Matt Damon! Supercrappymation.\n",
      "Iconic,almoston par with Borat\n",
      "\"See, there's three kinds of people: dicks, pussies, and assholes. Pussies think everyone can get along, and dicks just want to fuck all the time without thinking it through. But then you got your assholes, Chuck. And all the assholes want us to shit all over everything! So, pussies may get mad at dicks once in a while, because pussies get fucked by dicks. But dicks also fuck assholes, Chuck. And if they didn't fuck the assholes, you know what…\n",
      "Still pretty fucking funny despite the fact I don’t really gel with what it’s saying. As a satire it’s super juvenile, obvious and short sighted but it’s so obscene and profane it hits me right in the stupid part of my brain (which is the majority of my brain).The puppetry is just the right kind of cheap and shit they really for the right balance there where it’s not *too* shit for the majority of the time but knows…\n",
      "Day 71 of summer of trash challengeWatch a movie that uses marionette puppets instead of actorsThis may be the most wtf movie i've ever seen. It's very racist, has very outdated jokes. I didn't like this movie at all, wouldn't suggest it to anyone.\n",
      "Gary’smontage ran just soRocky’smontage could walk 😮‍💨\n",
      "Here's a question to keep you up at night: Does puppetry count as animation?\n",
      "Cinematic masterpiece! Everything is comedic genius.America, Fuck Yeah!\n",
      "My most toxic trait is I still think old Matt & Trey have the capacity to be fucking hilarious\n",
      "It didn’t quite hold up as much as I would’ve liked but it’s still funny, ambitious and wildly insane on so many levels that still makes it very entertaining.\n",
      "Happy birthday America you bunch of lunatics.\n",
      "I stand by my statement that these dudes have the best satire ever lmfaooo I’m omw to join the Film Actors Guild❤️ god bless america🙏🇺🇸Shh, you had me at dicks fuck assholes🥰\n",
      "\"I miss you more than Michael Bay missed the point / When he madePearl Harbour...\"***As much as I now find loads of the jokes ridiculously problematic and offensive (even though I realise saying that makes me sound like the worst kind of butthurt Internet dick/pussy/asshole), the 12 year-old boy in me still finds the vast majority ofTeam Americaas disgracefully hilarious as I did when I watched the film on DVD sixteen squillion times during my…\n",
      "‘MURICA, fck yeah.\n",
      "\"See, there are three kinds of people: dicks, pussies and assholes. Pussies think everyone can get along and dicks just want to fuck all the time without thinking it through. But then you got your assholes. And all the assholes want is to shit all over everything. So pussies may get mad at dicks once in a while because, pussies get fucked by dicks. But dicks also fuck assholes! And if they didn't fuck the assholes, you know what you'd get? You'd get your dick and your pussy all covered in shit!\"\n",
      "91The best Independence Day film, and the film hates Independence Day as well, how nice. This one is for all the FAGs out there! Happy July 4th for those who celebrate it!\n",
      "South Park creators Trey Parker and Matt Stone took their talents to the big screen in a non-South Park movie with Team America: World Police. Perhaps the most anti-war/terrorist, pro America militarism comedy ever made. Sprinkle in their traditional extremely offensive South Park humor and you have one of the funniest comedies I’ve ever seen. Seriously they’re not making movies like this and probably never will again. The icing on the cake is that it’s a movie made with puppets.…\n",
      "Films Watched in 2022- Film 452There should be more puppet movies. This one has its moments for sure but I also found a lot of it pretty dull unfortunately. Low 3.\n",
      "My lack of activity here can be blamed on my well timed need to move house during the COVID-19 crisis, also leaving me with limited internet for the time being. I will be catching up on the few films I've neglected to review though, so for those that care: fear not.End of excuse.\"Review\" commence:Hugely entertaining with lots of laughs, though the humour cheifly comes from the ridiculousness of it all, as opposed to the commentary striking any…\n",
      "Animated Movies Ranked7/10\n",
      "Proof that we should’ve been boycotting Alec Baldwin a lot sooner\n",
      "Even if the events and figures they lampoon are dated,Team America: World Policeremains as pointed a political satire as ever. Shame our country has disrupted the delicate balance of pussies, dicks, and assholes to properly function. Right now, everyone's just getting shitted on.\n",
      "{'title': 'team-america-world-police', 'url': 'https://letterboxd.com/film/team-america-world-police/', 'directors': ['Trey Parker'], 'rating': '3.47 out of 5', 'year': '2004', 'genres': ['Action', 'Adventure', 'Comedy']}\n"
     ]
    }
   ],
   "source": [
    "def extract_reviews(reviews_str):\n",
    "    try:\n",
    "        # Convert the string representation of the list to an actual list\n",
    "        reviews_list = ast.literal_eval(reviews_str)\n",
    "        # Extract 'review' from each dictionary\n",
    "        return [review['review'] for review in reviews_list]\n",
    "    except (ValueError, SyntaxError):\n",
    "        return []\n",
    "df['reviews_extracted'] = df['comments'].apply(extract_reviews)\n",
    "df['reviews_mash'] = df['reviews_extracted'].apply(lambda x: '\\n'.join(x))\n",
    "print(df['reviews_mash'][2])\n",
    "print(df['Movie'][2])"
   ]
  },
  {
   "cell_type": "code",
   "execution_count": 262,
   "metadata": {},
   "outputs": [],
   "source": [
    "df['Movie'] = df['Movie'].apply(lambda x : fk_apply_literal(x))\n",
    "df['genres'] = df['Movie'].apply(lambda x: x.get('genres'))\n",
    "df['avg_rating'] = df['Movie'].apply(lambda x: x.get('rating'))\n",
    "df['directors'] = df['Movie'].apply(lambda x: x.get('director'))\n"
   ]
  },
  {
   "cell_type": "code",
   "execution_count": 263,
   "metadata": {},
   "outputs": [
    {
     "data": {
      "text/plain": [
       "letterboxd_search    https://letterboxd.com/search/The+Hills+Have+E...\n",
       "Movie                {'title': 'the-hills-have-eyes-2006', 'url': '...\n",
       "comments             [{'stars': '½', 'review': \"I'm so tired of rap...\n",
       "reviews_extracted    [I'm so tired of rape and sexual assault again...\n",
       "reviews_mash         I'm so tired of rape and sexual assault agains...\n",
       "genres                                              [Horror, Thriller]\n",
       "avg_rating                                               3.01 out of 5\n",
       "directors                                                         None\n",
       "Name: 3, dtype: object"
      ]
     },
     "execution_count": 263,
     "metadata": {},
     "output_type": "execute_result"
    }
   ],
   "source": [
    "df.iloc[3]"
   ]
  },
  {
   "cell_type": "code",
   "execution_count": 264,
   "metadata": {},
   "outputs": [
    {
     "data": {
      "text/plain": [
       "genres\n",
       "[Drama]               81\n",
       "[Comedy]              70\n",
       "[Horror]              36\n",
       "[Documentary]         26\n",
       "[Drama, Comedy]       22\n",
       "[Comedy, Romance]     22\n",
       "[Romance, Drama]      21\n",
       "[Romance, Comedy]     21\n",
       "[]                    17\n",
       "[Action]              17\n",
       "[Drama, Romance]      16\n",
       "[Crime, Drama]        11\n",
       "[Comedy, Drama]       11\n",
       "[Horror, Thriller]    11\n",
       "[Thriller, Horror]    11\n",
       "Name: count, dtype: int64"
      ]
     },
     "execution_count": 264,
     "metadata": {},
     "output_type": "execute_result"
    }
   ],
   "source": [
    "df['genres'].value_counts().head(15)"
   ]
  },
  {
   "cell_type": "code",
   "execution_count": 265,
   "metadata": {},
   "outputs": [
    {
     "name": "stdout",
     "output_type": "stream",
     "text": [
      "[nan, 'Romance', 'Comedy', 'Action', 'Adventure', 'Horror', 'Thriller', 'Crime', 'Drama', 'History', 'Mystery', 'War', 'Science Fiction', 'TV Movie', 'Fantasy', 'Music', 'Family', 'Documentary', 'Western', 'Animation']\n"
     ]
    }
   ],
   "source": [
    "exploded_genres = df['genres'].explode()\n",
    "genre_types = exploded_genres.unique().tolist()\n",
    "print(genre_types)\n",
    "\n"
   ]
  },
  {
   "cell_type": "code",
   "execution_count": 266,
   "metadata": {},
   "outputs": [
    {
     "data": {
      "text/plain": [
       "genres\n",
       "[Drama]                                     81\n",
       "[Drama, Comedy]                             22\n",
       "[Romance, Drama]                            21\n",
       "[Drama, Romance]                            16\n",
       "[Crime, Drama]                              11\n",
       "                                            ..\n",
       "[Fantasy, Drama, Adventure]                  1\n",
       "[Science Fiction, Drama, Romance]            1\n",
       "[Comedy, Drama, Fantasy]                     1\n",
       "[Horror, Drama, Science Fiction, Action]     1\n",
       "[Family, Drama]                              1\n",
       "Name: count, Length: 222, dtype: int64"
      ]
     },
     "execution_count": 266,
     "metadata": {},
     "output_type": "execute_result"
    }
   ],
   "source": [
    "df_drama =  df[df['genres'].apply(lambda lst: \"Drama\" in lst)].copy()\n",
    "df_drama['genres'].value_counts()\n"
   ]
  },
  {
   "cell_type": "code",
   "execution_count": 267,
   "metadata": {},
   "outputs": [
    {
     "name": "stdout",
     "output_type": "stream",
     "text": [
      "30106\n",
      "30249444\n"
     ]
    }
   ],
   "source": [
    "print(len(df_drama['reviews_mash'].iloc[1]))\n",
    "drama_string = df['reviews_mash'].str.cat(sep=' ')\n",
    "drama_string = re.sub(r\"\\\\.\\s*\", '', drama_string)\n",
    "print(len(drama_string))\n"
   ]
  },
  {
   "cell_type": "code",
   "execution_count": 268,
   "metadata": {},
   "outputs": [],
   "source": [
    "def text_to_freqdf(text=None, text_file=None, lower_b=True):\n",
    "    \"\"\"\n",
    "    Strip all the words out of a file and put them into a frequency dataframe.\n",
    "    By default casts everything to lowercase. Gets it ready for allotaxonometer.\n",
    "\n",
    "    :param text str: a string with the text.\n",
    "    :param text_file str:  The path to the text_file. \n",
    "    :param lower_b Bool: A boolean indicating whether to preserve case.\n",
    "                             Enter False if you want to preserve capital versus not. \n",
    "    :returns pd.DataFrame: A DataFrame with word frequencies.\n",
    "    \"\"\"\n",
    "\n",
    "    if text:\n",
    "        if lower_b:\n",
    "            text = text.lower()\n",
    "    else:\n",
    "        if text_file:\n",
    "            with open(text_file, 'r') as f:\n",
    "                text = f.read()\n",
    "            if lower_b:\n",
    "                text = text.lower()\n",
    "        else:\n",
    "            raise(\"Input either a string of text or a textfile.\")\n",
    "    \n",
    "    words = re.findall(r'\\b\\w+\\b', text)\n",
    "    df = pd.DataFrame(words, columns=['types'])\n",
    "    df = df.value_counts()\n",
    "    df = df.reset_index(name='counts')\n",
    "    df['probs'] = df['counts'] / df['counts'].sum()\n",
    "    df['total_unique'] = len(df)\n",
    "    return df\n"
   ]
  },
  {
   "cell_type": "code",
   "execution_count": 269,
   "metadata": {},
   "outputs": [],
   "source": [
    "drama_freq = text_to_freqdf(text=drama_string)\n",
    "drama_freq.to_csv(f'{root}/Data/Subset Data/genre_freq/drama_word_freq.csv', index=False)\n",
    "\n"
   ]
  },
  {
   "cell_type": "code",
   "execution_count": 270,
   "metadata": {},
   "outputs": [],
   "source": [
    "def search_list(lst, genre):\n",
    "    if genre != 'nan':\n",
    "        return genre in lst\n",
    "    else:\n",
    "        if pd.isna(lst) or lst == '[]':\n",
    "            return True\n",
    "        else:\n",
    "            return False"
   ]
  },
  {
   "cell_type": "code",
   "execution_count": 271,
   "metadata": {},
   "outputs": [
    {
     "name": "stdout",
     "output_type": "stream",
     "text": [
      "starting Romance\n",
      "starting Comedy\n",
      "starting Action\n",
      "starting Adventure\n",
      "starting Horror\n",
      "starting Thriller\n",
      "starting Crime\n",
      "starting Drama\n",
      "starting History\n",
      "starting Mystery\n",
      "starting War\n",
      "starting Science Fiction\n",
      "starting TV Movie\n",
      "starting Fantasy\n",
      "starting Music\n",
      "starting Family\n",
      "starting Documentary\n",
      "starting Western\n",
      "starting Animation\n"
     ]
    }
   ],
   "source": [
    "## get genre frequency csvs for all the movies we have so far\n",
    "\n",
    "genre_types = genre_types[1:]\n",
    "for genre in genre_types:\n",
    "    print(f\"starting {genre}\")\n",
    "    gdf  =  df[df['genres'].apply(lambda lst: genre in lst)].copy()\n",
    "    g_string = gdf['reviews_mash'].str.cat(sep=' ')\n",
    "    g_string = re.sub(r\"\\\\.\\s*\", '', g_string)\n",
    "    g_freq = text_to_freqdf(text=g_string)\n",
    "    g_freq.to_csv(f'{root}/Data/Subset Data/genre_freq/{genre}_word_freq.csv', index=False)\n",
    "    g_freq_short = g_freq.iloc[:10000].copy()\n",
    "    g_freq_short.to_csv(f'{root}/Data/Subset Data/genre_freq_short/{genre}_word_freq_short.csv', index=False)\n"
   ]
  }
 ],
 "metadata": {
  "kernelspec": {
   "display_name": "FJK_1",
   "language": "python",
   "name": "python3"
  },
  "language_info": {
   "codemirror_mode": {
    "name": "ipython",
    "version": 3
   },
   "file_extension": ".py",
   "mimetype": "text/x-python",
   "name": "python",
   "nbconvert_exporter": "python",
   "pygments_lexer": "ipython3",
   "version": "3.13.0"
  }
 },
 "nbformat": 4,
 "nbformat_minor": 2
}
