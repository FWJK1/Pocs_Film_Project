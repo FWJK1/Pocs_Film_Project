{
 "cells": [
  {
   "cell_type": "code",
   "execution_count": 6,
   "metadata": {},
   "outputs": [],
   "source": [
    "import os \n",
    "def find_repo_root(start_path):\n",
    "    current_path = os.path.abspath(start_path)\n",
    "    while True:\n",
    "        if os.path.isdir(os.path.join(current_path, '.git')) or os.path.isfile(os.path.join(current_path, 'README.md')):\n",
    "            return current_path ### Check if in git repository\n",
    "    \n",
    "        parent_path = os.path.dirname(current_path) \n",
    "        if parent_path == current_path: ### Go deeper into repository until we find the root \n",
    "            break\n",
    "        current_path = parent_path\n",
    "\n",
    "    return None ### If not found\n",
    "    \n",
    "        \n",
    "root = find_repo_root(os.getcwd()) ### Use working directory to get to root"
   ]
  },
  {
   "cell_type": "code",
   "execution_count": 12,
   "metadata": {},
   "outputs": [],
   "source": [
    "### Main page, kind of a cheesy way to write html from Python, but it works\n",
    "mainpage = f\"{root}/Code/Web Stuff/ main_page.html\"\n",
    "f = open(mainpage, \"w\") \n",
    "### Include links to other pages in the body\n",
    "html_template = f\"\"\"<html>\n",
    "<head>\n",
    "    <title> Super Awesome POCS Project </title>\n",
    "    <h1> Super Awesome POCS Project </h1>\n",
    "</head>\n",
    "<body>\n",
    "    <p> Insert description of project </p>\n",
    "    <a href='file:///{root}/Code/Web Stuff/ plot_page.html'> Plots </a>\n",
    "</body>\n",
    "</html> \"\"\"\n",
    "f.write(html_template)\n",
    "f.close()"
   ]
  },
  {
   "cell_type": "code",
   "execution_count": 13,
   "metadata": {},
   "outputs": [],
   "source": [
    "### Plots page\n",
    "plotpage = f\"{root}/Code/Web Stuff/ plot_page.html\"\n",
    "f = open(plotpage, \"w\")\n",
    "### Include links to plots in body \n",
    "html_template = f\"\"\"<html>\n",
    "<head>\n",
    "    <title> Super Awesome POCS Project </title>\n",
    "    <h1> Plots </h1>\n",
    "</head>\n",
    "<body>\n",
    "    <p> Awesome Plot One </p>\n",
    "    <a href = '{root}/Code/Web Stuff/AlienSliderPlot.html'> Interactive Alien Plot </a>\n",
    "</body>\n",
    "</html> \"\"\"\n",
    "f.write(html_template)\n",
    "f.close()\n"
   ]
  },
  {
   "cell_type": "code",
   "execution_count": 14,
   "metadata": {},
   "outputs": [
    {
     "data": {
      "text/plain": [
       "True"
      ]
     },
     "execution_count": 14,
     "metadata": {},
     "output_type": "execute_result"
    }
   ],
   "source": [
    "### Open page\n",
    "import webbrowser\n",
    "webbrowser.open(mainpage)"
   ]
  }
 ],
 "metadata": {
  "kernelspec": {
   "display_name": "base",
   "language": "python",
   "name": "python3"
  },
  "language_info": {
   "codemirror_mode": {
    "name": "ipython",
    "version": 3
   },
   "file_extension": ".py",
   "mimetype": "text/x-python",
   "name": "python",
   "nbconvert_exporter": "python",
   "pygments_lexer": "ipython3",
   "version": "3.12.4"
  }
 },
 "nbformat": 4,
 "nbformat_minor": 2
}
