{
 "cells": [
  {
   "cell_type": "code",
   "execution_count": 17,
   "metadata": {},
   "outputs": [
    {
     "name": "stdout",
     "output_type": "stream",
     "text": [
      "c:/Users/fitsl/Documents/Programming/UVM Programming Classes/PoCS/pocs_project\n"
     ]
    }
   ],
   "source": [
    "import os\n",
    "\n",
    "def find_repo_root(start_path):\n",
    "    \"\"\"\n",
    "    useful general function for finding the (first, closest) repo root so github file paths work the same on different machines \n",
    "    \"\"\"\n",
    "    current_path = os.path.abspath(start_path)\n",
    "    \n",
    "    while True:\n",
    "        # Check for the existence of the .git directory or other indicators\n",
    "        if os.path.isdir(os.path.join(current_path, '.git')) or \\\n",
    "           os.path.isfile(os.path.join(current_path, 'README.md')):\n",
    "            return current_path\n",
    "        \n",
    "        parent_path = os.path.dirname(current_path)\n",
    "        \n",
    "        # Stop if we reach the root directory\n",
    "        if parent_path == current_path:\n",
    "            break\n",
    "        \n",
    "        current_path = parent_path\n",
    "\n",
    "    return None  # Return None if not found\n",
    "\n",
    "root = find_repo_root(os.getcwd())\n",
    "root = root.replace('\\\\', '/')\n",
    "print(root)\n"
   ]
  },
  {
   "cell_type": "code",
   "execution_count": 18,
   "metadata": {},
   "outputs": [],
   "source": [
    "import pandas as pd\n",
    "df = pd.read_parquet(f\"{root}/Data/Whole_sets/merged_tropes_comments.parquet\")"
   ]
  },
  {
   "cell_type": "code",
   "execution_count": 19,
   "metadata": {},
   "outputs": [],
   "source": [
    "# download the model we'll use for NER\n",
    "# !python -m spacy download en_core_web_lg\n"
   ]
  },
  {
   "cell_type": "code",
   "execution_count": 24,
   "metadata": {},
   "outputs": [
    {
     "name": "stdout",
     "output_type": "stream",
     "text": [
      "Original Review: I'm starting to feel like the Weyland-Yutani Corporation does not have our best interests at heart.\n",
      "NER Masked Review: I'm starting to feel like the Weyland-Yutani Corporation does not have our best interests at heart.\n",
      "----------------------------------------------------------------------------------------------------\n",
      "Original Review: Every time they bullied Andy I wanted to punch a hole thru the fucking screen.\n",
      "NER Masked Review: Every time they bullied [PER] I wanted to punch a hole thru the fucking screen.\n",
      "----------------------------------------------------------------------------------------------------\n",
      "Original Review: I can just feel the people who are getting ready to complain about 'fan service', but I'm a fan and I wasfucking SERVICED!\n",
      "NER Masked Review: I can just feel the people who are getting ready to complain about 'fan service', but I'm a fan and I wasfucking SERVICED!\n",
      "----------------------------------------------------------------------------------------------------\n",
      "Original Review: Things not to bring into space• pregnant women• british people.\n",
      "NER Masked Review: Things not to bring into space• pregnant [PER].\n",
      "----------------------------------------------------------------------------------------------------\n",
      "Original Review: Priscilla Presley goes to space, only this time, the Xenomorphs are so much meaner than Elvis.\n",
      "NER Masked Review: [ORG] goes to space, only this time, the [ORG] are so much meaner than [PER].\n",
      "----------------------------------------------------------------------------------------------------\n",
      "Original Review: Uncanny CGI recreation of the dead is arguably scarier than any xenomorph.\n",
      "NER Masked Review: Uncanny CGI recreation of the dead is arguably scarier than any xenomorph.\n",
      "----------------------------------------------------------------------------------------------------\n",
      "Original Review: The parts that are an ALIEN splatter movie are a real blast. The parts that are an ALIEN legacy sequel are mostly fucking stupid.\n",
      "NER Masked Review: The parts that are an ALIEN splatter movie are a real blast. The parts that are an ALIEN legacy sequel are mostly fucking stupid.\n",
      "----------------------------------------------------------------------------------------------------\n",
      "Original Review: From now on when I think about God I’m going to envision Cailee Spaeny with a gun.\n",
      "NER Masked Review: From now on when I think about God I’m going to envision [PER] with a gun.\n",
      "----------------------------------------------------------------------------------------------------\n",
      "Original Review: Stupidly well directed and tense for what is ultimately a pretty standard legacy sequel. Multiple sequences had me gripped and temporarily paralyzed with fear (shout out to the anti-gravity acid scene for being particularly unique) before I remembered 'Oh yeah, I don’t need to speculate about anyone’s survival since I’ve seen the original Alien.' It feels like a crime to waste Fede Álvarez, Cailee Spaeny, and David Jonsson’s immense talents on something so predictable and unambitious, but I’d be lying…\n",
      "NER Masked Review: Stupidly well directed and tense for what is ultimately a pretty standard legacy sequel. Multiple sequences had me gripped and temporarily paralyzed with fear (shout out to the anti-gravity acid scene for being particularly unique) before I remembered 'Oh yeah, I don’t need to speculate about anyone’s survival since I’ve seen the original [PER].' It feels like a crime to waste [PER], [PER], and [PER] immense talents on something so predictable and unambitious, but I’d be lying…\n",
      "----------------------------------------------------------------------------------------------------\n",
      "Original Review: I could be a good mu/th/ur.\n",
      "NER Masked Review: I could be a good mu/th/ur.\n",
      "----------------------------------------------------------------------------------------------------\n"
     ]
    }
   ],
   "source": [
    "import spacy\n",
    "\n",
    "# Load the pretrained spaCy model\n",
    "nlp = spacy.load(\"en_core_web_sm\")\n",
    "\n",
    "# Sample reviews\n",
    "reviews = [\n",
    "    \"I'm starting to feel like the Weyland-Yutani Corporation does not have our best interests at heart.\",\n",
    "    \"Every time they bullied Andy I wanted to punch a hole thru the fucking screen.\",\n",
    "    \"I can just feel the people who are getting ready to complain about 'fan service', but I'm a fan and I wasfucking SERVICED!\",\n",
    "    \"Things not to bring into space• pregnant women• british people.\",\n",
    "    \"Priscilla Presley goes to space, only this time, the Xenomorphs are so much meaner than Elvis.\",\n",
    "    \"Uncanny CGI recreation of the dead is arguably scarier than any xenomorph.\",\n",
    "    \"The parts that are an ALIEN splatter movie are a real blast. The parts that are an ALIEN legacy sequel are mostly fucking stupid.\",\n",
    "    \"From now on when I think about God I’m going to envision Cailee Spaeny with a gun.\",\n",
    "    \"Stupidly well directed and tense for what is ultimately a pretty standard legacy sequel. Multiple sequences had me gripped and temporarily paralyzed with fear (shout out to the anti-gravity acid scene for being particularly unique) before I remembered 'Oh yeah, I don’t need to speculate about anyone’s survival since I’ve seen the original Alien.' It feels like a crime to waste Fede Álvarez, Cailee Spaeny, and David Jonsson’s immense talents on something so predictable and unambitious, but I’d be lying…\",\n",
    "    \"I could be a good mu/th/ur.\"\n",
    "]\n",
    "\n",
    "def custom_ner_mask(text):\n",
    "    doc = nlp(text)\n",
    "    masked_text = text\n",
    "    \n",
    "    # Mask recognized entities\n",
    "    for ent in doc.ents:\n",
    "        if ent.label_ == \"PERSON\":\n",
    "            masked_text = masked_text.replace(ent.text, \"[PER]\")\n",
    "        elif ent.label_ == \"ORG\":\n",
    "            masked_text = masked_text.replace(ent.text, \"[ORG]\")\n",
    "        elif ent.label_ == \"GPE\" or ent.label_ == \"LOC\":  # GPE includes countries and cities\n",
    "            masked_text = masked_text.replace(ent.text, \"[LOC]\")\n",
    "        else:\n",
    "            masked_text = masked_text.replace(ent.text, \"[MISC]\")\n",
    "    return masked_text\n",
    "\n",
    "# Process reviews\n",
    "for review in reviews:\n",
    "    print(f\"Original Review: {review}\")\n",
    "    masked_review = custom_ner_mask(review)\n",
    "    print(f\"NER Masked Review: {masked_review}\")\n",
    "    print(\"-\" * 100)\n"
   ]
  }
 ],
 "metadata": {
  "kernelspec": {
   "display_name": "spacy_env",
   "language": "python",
   "name": "python3"
  },
  "language_info": {
   "codemirror_mode": {
    "name": "ipython",
    "version": 3
   },
   "file_extension": ".py",
   "mimetype": "text/x-python",
   "name": "python",
   "nbconvert_exporter": "python",
   "pygments_lexer": "ipython3",
   "version": "3.9.20"
  }
 },
 "nbformat": 4,
 "nbformat_minor": 2
}
