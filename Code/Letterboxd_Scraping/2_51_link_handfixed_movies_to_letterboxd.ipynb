{
 "cells": [
  {
   "cell_type": "code",
   "execution_count": null,
   "metadata": {},
   "outputs": [],
   "source": [
    "import pandas as pd\n",
    "import re\n",
    "import os\n",
    "from bs4 import BeautifulSoup\n",
    "from letterboxdpy.movie import Movie\n",
    "from playwright.sync_api import sync_playwright\n",
    "import time\n",
    "from datetime import datetime\n",
    "from Utility.toolbox import find_repo_root\n",
    "\n",
    "root = find_repo_root()\n"
   ]
  },
  {
   "cell_type": "code",
   "execution_count": 29,
   "metadata": {},
   "outputs": [],
   "source": [
    "df = pd.read_csv(f\"{root}/Data/2020_trope_data/Hand_Edited_Machine_Missed_letterboxd_link.csv\")\n",
    "df_found = df.dropna()\n",
    "df_with_na = df[df.isna().any(axis=1)]\n",
    "df_with_na.to_csv(f\"{root}/Data/2020_trope_data/Remaining_Missing_letterboxd_link.csv\", index=False)"
   ]
  },
  {
   "cell_type": "code",
   "execution_count": 20,
   "metadata": {},
   "outputs": [
    {
     "data": {
      "text/plain": [
       "Index(['letterboxd_search', 'url'], dtype='object')"
      ]
     },
     "execution_count": 20,
     "metadata": {},
     "output_type": "execute_result"
    }
   ],
   "source": [
    "df_found.columns"
   ]
  },
  {
   "cell_type": "code",
   "execution_count": 21,
   "metadata": {},
   "outputs": [
    {
     "name": "stderr",
     "output_type": "stream",
     "text": [
      "C:\\Users\\fitsl\\AppData\\Local\\Temp\\ipykernel_31844\\3399136451.py:1: SettingWithCopyWarning: \n",
      "A value is trying to be set on a copy of a slice from a DataFrame.\n",
      "Try using .loc[row_indexer,col_indexer] = value instead\n",
      "\n",
      "See the caveats in the documentation: https://pandas.pydata.org/pandas-docs/stable/user_guide/indexing.html#returning-a-view-versus-a-copy\n",
      "  df_found['Movie'] = df_found['url'].apply(lambda x :Movie(x.split('film/')[1]))\n"
     ]
    }
   ],
   "source": [
    "df_found['Movie'] = df_found['url'].apply(lambda x :Movie(x.split('film/')[1]))"
   ]
  },
  {
   "cell_type": "code",
   "execution_count": 23,
   "metadata": {},
   "outputs": [
    {
     "name": "stderr",
     "output_type": "stream",
     "text": [
      "C:\\Users\\fitsl\\AppData\\Local\\Temp\\ipykernel_31844\\1298071451.py:1: SettingWithCopyWarning: \n",
      "A value is trying to be set on a copy of a slice from a DataFrame\n",
      "\n",
      "See the caveats in the documentation: https://pandas.pydata.org/pandas-docs/stable/user_guide/indexing.html#returning-a-view-versus-a-copy\n",
      "  df_found.drop(columns='url', inplace=True)\n"
     ]
    }
   ],
   "source": [
    "df_found.drop(columns='url', inplace=True)"
   ]
  },
  {
   "cell_type": "code",
   "execution_count": 24,
   "metadata": {},
   "outputs": [
    {
     "data": {
      "text/html": [
       "<div>\n",
       "<style scoped>\n",
       "    .dataframe tbody tr th:only-of-type {\n",
       "        vertical-align: middle;\n",
       "    }\n",
       "\n",
       "    .dataframe tbody tr th {\n",
       "        vertical-align: top;\n",
       "    }\n",
       "\n",
       "    .dataframe thead th {\n",
       "        text-align: right;\n",
       "    }\n",
       "</style>\n",
       "<table border=\"1\" class=\"dataframe\">\n",
       "  <thead>\n",
       "    <tr style=\"text-align: right;\">\n",
       "      <th></th>\n",
       "      <th>letterboxd_search</th>\n",
       "      <th>Movie</th>\n",
       "    </tr>\n",
       "  </thead>\n",
       "  <tbody>\n",
       "    <tr>\n",
       "      <th>0</th>\n",
       "      <td>https://letterboxd.com/search/A+Cinderella+Sto...</td>\n",
       "      <td>{\\n    \"title\": \"a-cinderella-story-once-upon-...</td>\n",
       "    </tr>\n",
       "    <tr>\n",
       "      <th>1</th>\n",
       "      <td>https://letterboxd.com/search/A+Night+to+Disme...</td>\n",
       "      <td>{\\n    \"title\": \"a-night-to-dismember/\",\\n    ...</td>\n",
       "    </tr>\n",
       "    <tr>\n",
       "      <th>2</th>\n",
       "      <td>https://letterboxd.com/search/Accidental+Hero+...</td>\n",
       "      <td>{\\n    \"title\": \"hero-1992/\",\\n    \"url\": \"htt...</td>\n",
       "    </tr>\n",
       "    <tr>\n",
       "      <th>3</th>\n",
       "      <td>https://letterboxd.com/search/Act+of+Violence+...</td>\n",
       "      <td>{\\n    \"title\": \"act-of-violence/\",\\n    \"url\"...</td>\n",
       "    </tr>\n",
       "    <tr>\n",
       "      <th>4</th>\n",
       "      <td>https://letterboxd.com/search/Agent+for+H.A.R....</td>\n",
       "      <td>{\\n    \"title\": \"agent-for-harm/\",\\n    \"url\":...</td>\n",
       "    </tr>\n",
       "    <tr>\n",
       "      <th>...</th>\n",
       "      <td>...</td>\n",
       "      <td>...</td>\n",
       "    </tr>\n",
       "    <tr>\n",
       "      <th>197</th>\n",
       "      <td>https://letterboxd.com/search/The+Day+Time+End...</td>\n",
       "      <td>{\\n    \"title\": \"the-day-time-ended/\",\\n    \"u...</td>\n",
       "    </tr>\n",
       "    <tr>\n",
       "      <th>211</th>\n",
       "      <td>https://letterboxd.com/search/The+Men+Who+Trea...</td>\n",
       "      <td>{\\n    \"title\": \"the-men-who-tread-on-the-tige...</td>\n",
       "    </tr>\n",
       "    <tr>\n",
       "      <th>212</th>\n",
       "      <td>https://letterboxd.com/search/The+Opposite+of+...</td>\n",
       "      <td>{\\n    \"title\": \"the-opposite-of-sex/\",\\n    \"...</td>\n",
       "    </tr>\n",
       "    <tr>\n",
       "      <th>227</th>\n",
       "      <td>https://letterboxd.com/search/Top+Gun:+Maveric...</td>\n",
       "      <td>{\\n    \"title\": \"top-gun-maverick/\",\\n    \"url...</td>\n",
       "    </tr>\n",
       "    <tr>\n",
       "      <th>247</th>\n",
       "      <td>https://letterboxd.com/search/Zontar:+The+Thin...</td>\n",
       "      <td>{\\n    \"title\": \"zontar-the-thing-from-venus/\"...</td>\n",
       "    </tr>\n",
       "  </tbody>\n",
       "</table>\n",
       "<p>86 rows × 2 columns</p>\n",
       "</div>"
      ],
      "text/plain": [
       "                                     letterboxd_search  \\\n",
       "0    https://letterboxd.com/search/A+Cinderella+Sto...   \n",
       "1    https://letterboxd.com/search/A+Night+to+Disme...   \n",
       "2    https://letterboxd.com/search/Accidental+Hero+...   \n",
       "3    https://letterboxd.com/search/Act+of+Violence+...   \n",
       "4    https://letterboxd.com/search/Agent+for+H.A.R....   \n",
       "..                                                 ...   \n",
       "197  https://letterboxd.com/search/The+Day+Time+End...   \n",
       "211  https://letterboxd.com/search/The+Men+Who+Trea...   \n",
       "212  https://letterboxd.com/search/The+Opposite+of+...   \n",
       "227  https://letterboxd.com/search/Top+Gun:+Maveric...   \n",
       "247  https://letterboxd.com/search/Zontar:+The+Thin...   \n",
       "\n",
       "                                                 Movie  \n",
       "0    {\\n    \"title\": \"a-cinderella-story-once-upon-...  \n",
       "1    {\\n    \"title\": \"a-night-to-dismember/\",\\n    ...  \n",
       "2    {\\n    \"title\": \"hero-1992/\",\\n    \"url\": \"htt...  \n",
       "3    {\\n    \"title\": \"act-of-violence/\",\\n    \"url\"...  \n",
       "4    {\\n    \"title\": \"agent-for-harm/\",\\n    \"url\":...  \n",
       "..                                                 ...  \n",
       "197  {\\n    \"title\": \"the-day-time-ended/\",\\n    \"u...  \n",
       "211  {\\n    \"title\": \"the-men-who-tread-on-the-tige...  \n",
       "212  {\\n    \"title\": \"the-opposite-of-sex/\",\\n    \"...  \n",
       "227  {\\n    \"title\": \"top-gun-maverick/\",\\n    \"url...  \n",
       "247  {\\n    \"title\": \"zontar-the-thing-from-venus/\"...  \n",
       "\n",
       "[86 rows x 2 columns]"
      ]
     },
     "execution_count": 24,
     "metadata": {},
     "output_type": "execute_result"
    }
   ],
   "source": [
    "df_found"
   ]
  },
  {
   "cell_type": "code",
   "execution_count": 26,
   "metadata": {},
   "outputs": [],
   "source": [
    "output_file = f\"{root}/Data/2020_trope_data/HIT_letterboxd_link_movies.csv\"\n",
    "df_found.to_csv(output_file, mode='a', header=not pd.io.common.file_exists(output_file), index=False)\n"
   ]
  },
  {
   "cell_type": "code",
   "execution_count": null,
   "metadata": {},
   "outputs": [
    {
     "data": {
      "text/html": [
       "<div>\n",
       "<style scoped>\n",
       "    .dataframe tbody tr th:only-of-type {\n",
       "        vertical-align: middle;\n",
       "    }\n",
       "\n",
       "    .dataframe tbody tr th {\n",
       "        vertical-align: top;\n",
       "    }\n",
       "\n",
       "    .dataframe thead th {\n",
       "        text-align: right;\n",
       "    }\n",
       "</style>\n",
       "<table border=\"1\" class=\"dataframe\">\n",
       "  <thead>\n",
       "    <tr style=\"text-align: right;\">\n",
       "      <th></th>\n",
       "      <th>letterboxd_search</th>\n",
       "      <th>Movie</th>\n",
       "    </tr>\n",
       "  </thead>\n",
       "  <tbody>\n",
       "    <tr>\n",
       "      <th>0</th>\n",
       "      <td>https://letterboxd.com/search/ABCs+of+Death+2+...</td>\n",
       "      <td>{\\n    \"title\": \"abcs-of-death-2\",\\n    \"url\":...</td>\n",
       "    </tr>\n",
       "    <tr>\n",
       "      <th>1</th>\n",
       "      <td>https://letterboxd.com/search/A+Beautiful+Day+...</td>\n",
       "      <td>{\\n    \"title\": \"a-beautiful-day-in-the-neighb...</td>\n",
       "    </tr>\n",
       "    <tr>\n",
       "      <th>2</th>\n",
       "      <td>https://letterboxd.com/search/A+Beautiful+Mind...</td>\n",
       "      <td>{\\n    \"title\": \"a-beautiful-mind\",\\n    \"url\"...</td>\n",
       "    </tr>\n",
       "    <tr>\n",
       "      <th>3</th>\n",
       "      <td>https://letterboxd.com/search/A+Better+Tomorro...</td>\n",
       "      <td>{\\n    \"title\": \"a-better-tomorrow\",\\n    \"url...</td>\n",
       "    </tr>\n",
       "    <tr>\n",
       "      <th>4</th>\n",
       "      <td>https://letterboxd.com/search/A+Birder's+Guide...</td>\n",
       "      <td>{\\n    \"title\": \"a-birders-guide-to-everything...</td>\n",
       "    </tr>\n",
       "    <tr>\n",
       "      <th>...</th>\n",
       "      <td>...</td>\n",
       "      <td>...</td>\n",
       "    </tr>\n",
       "    <tr>\n",
       "      <th>10587</th>\n",
       "      <td>https://letterboxd.com/search/The+Day+Time+End...</td>\n",
       "      <td>{\\n    \"title\": \"the-day-time-ended/\",\\n    \"u...</td>\n",
       "    </tr>\n",
       "    <tr>\n",
       "      <th>10588</th>\n",
       "      <td>https://letterboxd.com/search/The+Men+Who+Trea...</td>\n",
       "      <td>{\\n    \"title\": \"the-men-who-tread-on-the-tige...</td>\n",
       "    </tr>\n",
       "    <tr>\n",
       "      <th>10589</th>\n",
       "      <td>https://letterboxd.com/search/The+Opposite+of+...</td>\n",
       "      <td>{\\n    \"title\": \"the-opposite-of-sex/\",\\n    \"...</td>\n",
       "    </tr>\n",
       "    <tr>\n",
       "      <th>10590</th>\n",
       "      <td>https://letterboxd.com/search/Top+Gun:+Maveric...</td>\n",
       "      <td>{\\n    \"title\": \"top-gun-maverick/\",\\n    \"url...</td>\n",
       "    </tr>\n",
       "    <tr>\n",
       "      <th>10591</th>\n",
       "      <td>https://letterboxd.com/search/Zontar:+The+Thin...</td>\n",
       "      <td>{\\n    \"title\": \"zontar-the-thing-from-venus/\"...</td>\n",
       "    </tr>\n",
       "  </tbody>\n",
       "</table>\n",
       "<p>10592 rows × 2 columns</p>\n",
       "</div>"
      ],
      "text/plain": [
       "                                       letterboxd_search  \\\n",
       "0      https://letterboxd.com/search/ABCs+of+Death+2+...   \n",
       "1      https://letterboxd.com/search/A+Beautiful+Day+...   \n",
       "2      https://letterboxd.com/search/A+Beautiful+Mind...   \n",
       "3      https://letterboxd.com/search/A+Better+Tomorro...   \n",
       "4      https://letterboxd.com/search/A+Birder's+Guide...   \n",
       "...                                                  ...   \n",
       "10587  https://letterboxd.com/search/The+Day+Time+End...   \n",
       "10588  https://letterboxd.com/search/The+Men+Who+Trea...   \n",
       "10589  https://letterboxd.com/search/The+Opposite+of+...   \n",
       "10590  https://letterboxd.com/search/Top+Gun:+Maveric...   \n",
       "10591  https://letterboxd.com/search/Zontar:+The+Thin...   \n",
       "\n",
       "                                                   Movie  \n",
       "0      {\\n    \"title\": \"abcs-of-death-2\",\\n    \"url\":...  \n",
       "1      {\\n    \"title\": \"a-beautiful-day-in-the-neighb...  \n",
       "2      {\\n    \"title\": \"a-beautiful-mind\",\\n    \"url\"...  \n",
       "3      {\\n    \"title\": \"a-better-tomorrow\",\\n    \"url...  \n",
       "4      {\\n    \"title\": \"a-birders-guide-to-everything...  \n",
       "...                                                  ...  \n",
       "10587  {\\n    \"title\": \"the-day-time-ended/\",\\n    \"u...  \n",
       "10588  {\\n    \"title\": \"the-men-who-tread-on-the-tige...  \n",
       "10589  {\\n    \"title\": \"the-opposite-of-sex/\",\\n    \"...  \n",
       "10590  {\\n    \"title\": \"top-gun-maverick/\",\\n    \"url...  \n",
       "10591  {\\n    \"title\": \"zontar-the-thing-from-venus/\"...  \n",
       "\n",
       "[10592 rows x 2 columns]"
      ]
     },
     "execution_count": 28,
     "metadata": {},
     "output_type": "execute_result"
    }
   ],
   "source": [
    "df = pd.read_csv(output_file)"
   ]
  }
 ],
 "metadata": {
  "kernelspec": {
   "display_name": "FJK_1",
   "language": "python",
   "name": "python3"
  },
  "language_info": {
   "codemirror_mode": {
    "name": "ipython",
    "version": 3
   },
   "file_extension": ".py",
   "mimetype": "text/x-python",
   "name": "python",
   "nbconvert_exporter": "python",
   "pygments_lexer": "ipython3",
   "version": "3.13.0"
  }
 },
 "nbformat": 4,
 "nbformat_minor": 2
}
