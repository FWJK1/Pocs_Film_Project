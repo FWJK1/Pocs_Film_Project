{
 "cells": [
  {
   "cell_type": "code",
   "execution_count": 68,
   "metadata": {},
   "outputs": [],
   "source": [
    "from collections import defaultdict\n",
    "\n",
    "f = open(\"C:/Users/jbro0/OneDrive/Desktop/College_Stuff/PoCSVerse/Project/Github Stuff/Pocs_Film_Project/Data/movies-vs-tropes.csv\")\n",
    "tropes_dict = defaultdict(list)\n",
    "for line in f:\n",
    "    trope_string = line.split(\";\")[1] ### Find tropes associated with movie\n",
    "    indiv_tropes = trope_string.split(\",\") ### Seperate into individual tropes\n",
    "    movie = line.split(\";\")[0]\n",
    "    for trope in indiv_tropes:\n",
    "        tropes_dict[trope].append(movie)\n",
    "\n",
    "f.close()"
   ]
  },
  {
   "cell_type": "code",
   "execution_count": null,
   "metadata": {},
   "outputs": [],
   "source": [
    "for trope in list(tropes_dict.keys()): ### Make values lists \n",
    "    movies = tropes_dict[trope]\n",
    "    tropes_dict[trope] = movies\n",
    "    "
   ]
  },
  {
   "cell_type": "code",
   "execution_count": 75,
   "metadata": {},
   "outputs": [],
   "source": [
    "alien_movies = tropes_dict[\"VasquezAlwaysDies\"] ### Test a trope and find associated movies, including years and IMDB IDs\n",
    "years = []\n",
    "imdb_ids = []\n",
    "for thing in alien_movies:\n",
    "    with open(\"C:/Users/jbro0/OneDrive/Desktop/College_Stuff/PoCSVerse/Project/Github Stuff/Pocs_Film_Project/Data/tropes_imdb_year.csv\", \"r\") as file:\n",
    "        for line in file:\n",
    "            title = (line.split(\",\")[0]).replace(\" \", \"\")\n",
    "            if title == thing:\n",
    "                years.append(line.split(\",\")[-2]) \n",
    "                imdb_ids.append(line.split(\",\")[-1])"
   ]
  },
  {
   "cell_type": "code",
   "execution_count": 74,
   "metadata": {},
   "outputs": [
    {
     "name": "stdout",
     "output_type": "stream",
     "text": [
      "['ShockingDark', 'Sharknado2TheSecondOne', 'TheDragonFighter', 'SWAT', 'AlienResurrection', 'Slither', 'BurningAmbition', 'TheReef', 'StarshipTroopers3Marauder', 'Avatar', 'BlackChristmas1974', 'TheCollector', 'Leprechaun4InSpace', 'EscapeRoom', 'NewJackCity', 'FastAndFurious6', 'ResidentEvilRetribution', 'MacheteKills', 'AssaultOnPrecinct132005', 'DeepRising', 'MoonZeroTwo', 'FastFive', 'ANightmareOnElmStreet3DreamWarriors', 'Solo', 'Annihilation2018', 'TheAvengingQuartet', 'RamboFirstBloodPartII', 'SharkNight', 'AlienVsPredator', 'DreamingTheReality', 'IronAngels', 'Carnosaur', 'BeautyInvestigator', 'TheCave', 'TheStreetfighter', 'ResidentEvil', 'HomeAlone', 'StarshipTroopers', 'StarshipTroopers2HeroOfTheFederation', 'TheMatrixRevolutions', 'FreddysDeadTheFinalNightmare', 'TheRezort', 'BoyEatsGirl', 'WolfCreek', 'RogueOne', 'ANightmareOnElmStreet4TheDreamMaster', 'Prometheus', 'Abominable', 'MadMaxFuryRoad', 'SoldierBoyz', 'GhostsOfMars', 'Exam', 'Machete', 'Feast', 'Leviathan1989', 'HaloNightfall', 'TheStreetFighter', 'BattleLosAngeles', 'Alien3', 'Mindhunters', 'Sharknado', 'TheDescentPart2', 'Terminator2JudgmentDay', 'TwentyEightWeeksLater', 'YoureNext', 'ChoppingMall', 'MadMax2TheRoadWarrior', 'WhatHappenedToMonday', 'TheHungerGamesMockingjay', 'KillerAngels', 'TheDescent', 'PrincessMadam', 'Battleship', 'ResidentEvilTheFinalChapter', 'Aliens', 'SmokinAces', 'Underwater', 'Alien', 'JurassicWorld', 'AliensVsPredatorRequiem', 'SilentHill']\n",
      "['1989', '2014', '1990', '2024.0', '1997', '2006', '1989.0', '2010.0', '2008', '2009', '2009', '1996', '2019', '2019', '1991.0', '2013.0', '2012', '2013', '1976', '1998.0', '1969.0', '2011.0', '1987', '2024', '1993.0', '1985.0', '2011.0', '2004.0', '1991.0', '2004.0', '1993.0', '1992', '2005', '1975', '2002.0', '1990.0', '1997', '2004', '2003.0', '2022', '2015', '2005', '2005', '2016', '1988.0', '2012.0', '2019.0', '2015.0', '1995', '2001', '2009', '2010', '2005.0', '2014', '2009', '2011.0', '1992.0', '2004', '2013.0', '2009.0', '1991.0', '', '', '', '1981', '2017', '2015', '1989', '2005', '1989', '2012.0', '2016', '1986', '2006.0', '2020', '2024', '2025', '2007', '2006']\n",
      "['0098321\\n', '3062074\\n', '0099416\\n', '32852585\\n', '0118583\\n', '0439815\\n', '0097776\\n', '1320291\\n', '0844760\\n', '0499549\\n', '0844479\\n', '0116861\\n', '5886046\\n', '5886046\\n', '0102526\\n', '1905041\\n', '1855325\\n', '2002718\\n', '0074156\\n', '0118956\\n', '0064691\\n', '1596343\\n', '0093629\\n', '21209876\\n', '0103744\\n', '0089880\\n', '1633356\\n', '0370263\\n', '0102435\\n', '0338139\\n', '0106521\\n', '0104861\\n', '0402901\\n', '0073092\\n', '0120804\\n', '0099785\\n', '0120201\\n', '0367093\\n', '0242653\\n', '26951162\\n', '3923662\\n', '0415679\\n', '0416315\\n', '3748528\\n', '0095742\\n', '1446714\\n', '6324278\\n', '1392190\\n', '0114489\\n', '0228333\\n', '1258197\\n', '0985694\\n', '0426459\\n', '3804114\\n', '0891592\\n', '1217613\\n', '0103644\\n', '0297284\\n', '2724064\\n', '1073105\\n', '0103064\\n', '33745468\\n', '1853739\\n', '0090837\\n', '0082694\\n', '1536537\\n', '1951266\\n', '0098298\\n', '0435625\\n', '0099883\\n', '1440129\\n', '2592614\\n', '0090605\\n', '0475394\\n', '5774060\\n', '18412256\\n', '31036941\\n', '0758730\\n', '0384537\\n']\n"
     ]
    }
   ],
   "source": [
    "print(alien_movies)\n",
    "print(years)\n",
    "print(imdb_ids)"
   ]
  },
  {
   "cell_type": "code",
   "execution_count": 84,
   "metadata": {},
   "outputs": [
    {
     "name": "stdout",
     "output_type": "stream",
     "text": [
      "40689\n",
      "40689\n"
     ]
    }
   ],
   "source": [
    "tropes = list(tropes_dict.keys())\n",
    "associated_movies = list(tropes_dict.values())\n",
    "print(len(tropes))\n",
    "print(len(associated_movies))\n",
    "\n"
   ]
  },
  {
   "cell_type": "code",
   "execution_count": 88,
   "metadata": {},
   "outputs": [],
   "source": [
    "import csv\n",
    "dict_list = list(tropes_dict.items())\n",
    "with open(\"C:/Users/jbro0/OneDrive/Desktop/College_Stuff/PoCSVerse/Project/Github Stuff/Pocs_Film_Project/Data/tropes_to_movies.csv\", 'w', newline='') as file:\n",
    "    writer = csv.writer(file)\n",
    "    writer.writerows(dict_list)"
   ]
  }
 ],
 "metadata": {
  "kernelspec": {
   "display_name": "base",
   "language": "python",
   "name": "python3"
  },
  "language_info": {
   "codemirror_mode": {
    "name": "ipython",
    "version": 3
   },
   "file_extension": ".py",
   "mimetype": "text/x-python",
   "name": "python",
   "nbconvert_exporter": "python",
   "pygments_lexer": "ipython3",
   "version": "3.12.4"
  }
 },
 "nbformat": 4,
 "nbformat_minor": 2
}
