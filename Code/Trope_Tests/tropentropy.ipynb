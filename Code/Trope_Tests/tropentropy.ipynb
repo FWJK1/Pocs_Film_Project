{
 "cells": [
  {
   "cell_type": "code",
   "execution_count": 1,
   "metadata": {},
   "outputs": [],
   "source": [
    "import os\n",
    "def find_repo_root(startpath):\n",
    "    current_path = os.path.abspath(startpath) # Path started on\n",
    "    while True:\n",
    "        if os.path.isdir(os.path.join(current_path, '.git')) or os.path.isfile(os.path.join(current_path, 'README.md')): # If on git path, return it\n",
    "            return current_path\n",
    "        \n",
    "        parent_path = os.path.dirname(current_path)\n",
    "\n",
    "        if parent_path == current_path: # If current path is parent path, stop \n",
    "            break\n",
    "        current_path = parent_path # Set current path to parent path, to check if git path again\n",
    "    return None # If an issue arises \n",
    "root = find_repo_root(os.getcwd())\n",
    "        "
   ]
  },
  {
   "cell_type": "code",
   "execution_count": 2,
   "metadata": {},
   "outputs": [
    {
     "data": {
      "text/html": [
       "<div>\n",
       "<style scoped>\n",
       "    .dataframe tbody tr th:only-of-type {\n",
       "        vertical-align: middle;\n",
       "    }\n",
       "\n",
       "    .dataframe tbody tr th {\n",
       "        vertical-align: top;\n",
       "    }\n",
       "\n",
       "    .dataframe thead th {\n",
       "        text-align: right;\n",
       "    }\n",
       "</style>\n",
       "<table border=\"1\" class=\"dataframe\">\n",
       "  <thead>\n",
       "    <tr style=\"text-align: right;\">\n",
       "      <th></th>\n",
       "      <th>Trope</th>\n",
       "      <th>Associated_Movies</th>\n",
       "      <th>Number_movies</th>\n",
       "      <th>Probability</th>\n",
       "    </tr>\n",
       "  </thead>\n",
       "  <tbody>\n",
       "    <tr>\n",
       "      <th>0</th>\n",
       "      <td>ABNegative</td>\n",
       "      <td>['Andhadhun', 'Blood Work', 'Bruce Almighty', ...</td>\n",
       "      <td>10</td>\n",
       "      <td>0.000019</td>\n",
       "    </tr>\n",
       "    <tr>\n",
       "      <th>1</th>\n",
       "      <td>ABirthdayNotABreak</td>\n",
       "      <td>['Batman Begins', 'Beast', 'Big Game', 'Creatu...</td>\n",
       "      <td>13</td>\n",
       "      <td>0.000025</td>\n",
       "    </tr>\n",
       "    <tr>\n",
       "      <th>2</th>\n",
       "      <td>ABloodyMess</td>\n",
       "      <td>['Carry on Behind', 'Cloud Atlas', 'Cornered',...</td>\n",
       "      <td>12</td>\n",
       "      <td>0.000023</td>\n",
       "    </tr>\n",
       "    <tr>\n",
       "      <th>3</th>\n",
       "      <td>ABoyAGirlAndABabyFamily</td>\n",
       "      <td>['Honey, I Blew Up the Kid', 'The Addams Famil...</td>\n",
       "      <td>3</td>\n",
       "      <td>0.000006</td>\n",
       "    </tr>\n",
       "    <tr>\n",
       "      <th>4</th>\n",
       "      <td>ABoyAndHisX</td>\n",
       "      <td>['Air Bud', 'Alpha', 'Bumblebee', 'Fido', 'Fly...</td>\n",
       "      <td>13</td>\n",
       "      <td>0.000025</td>\n",
       "    </tr>\n",
       "  </tbody>\n",
       "</table>\n",
       "</div>"
      ],
      "text/plain": [
       "                     Trope                                  Associated_Movies  \\\n",
       "0               ABNegative  ['Andhadhun', 'Blood Work', 'Bruce Almighty', ...   \n",
       "1       ABirthdayNotABreak  ['Batman Begins', 'Beast', 'Big Game', 'Creatu...   \n",
       "2              ABloodyMess  ['Carry on Behind', 'Cloud Atlas', 'Cornered',...   \n",
       "3  ABoyAGirlAndABabyFamily  ['Honey, I Blew Up the Kid', 'The Addams Famil...   \n",
       "4              ABoyAndHisX  ['Air Bud', 'Alpha', 'Bumblebee', 'Fido', 'Fly...   \n",
       "\n",
       "   Number_movies  Probability  \n",
       "0             10     0.000019  \n",
       "1             13     0.000025  \n",
       "2             12     0.000023  \n",
       "3              3     0.000006  \n",
       "4             13     0.000025  "
      ]
     },
     "execution_count": 2,
     "metadata": {},
     "output_type": "execute_result"
    }
   ],
   "source": [
    "import pandas as pd\n",
    "df = pd.read_csv(f\"{root}/Data/liteweight/2020_genre_counts_by_trope.csv\", index_col=0) # Make dataframe out of genre-trope csv, without unnamed column, \n",
    "df = df[[\"Trope\", \"Associated_Movies\", \"Number_movies\"]] # Drop all columns except for the specified ones\n",
    "total_movies = sum(df[\"Number_movies\"]) \n",
    "df[\"Probability\"] = df[\"Number_movies\"] / total_movies # Create new column with probability of trope being in a given movie\n",
    "df.head()\n"
   ]
  },
  {
   "cell_type": "code",
   "execution_count": 5,
   "metadata": {},
   "outputs": [
    {
     "data": {
      "text/html": [
       "<div>\n",
       "<style scoped>\n",
       "    .dataframe tbody tr th:only-of-type {\n",
       "        vertical-align: middle;\n",
       "    }\n",
       "\n",
       "    .dataframe tbody tr th {\n",
       "        vertical-align: top;\n",
       "    }\n",
       "\n",
       "    .dataframe thead th {\n",
       "        text-align: right;\n",
       "    }\n",
       "</style>\n",
       "<table border=\"1\" class=\"dataframe\">\n",
       "  <thead>\n",
       "    <tr style=\"text-align: right;\">\n",
       "      <th></th>\n",
       "      <th>Trope</th>\n",
       "      <th>Number_movies</th>\n",
       "      <th>Probability</th>\n",
       "    </tr>\n",
       "  </thead>\n",
       "  <tbody>\n",
       "    <tr>\n",
       "      <th>62</th>\n",
       "      <td>AIIsACrapshoot</td>\n",
       "      <td>86.0</td>\n",
       "      <td>0.000165</td>\n",
       "    </tr>\n",
       "    <tr>\n",
       "      <th>316</th>\n",
       "      <td>ActionSurvivor</td>\n",
       "      <td>166.0</td>\n",
       "      <td>0.000318</td>\n",
       "    </tr>\n",
       "    <tr>\n",
       "      <th>414</th>\n",
       "      <td>AdmiringTheAbomination</td>\n",
       "      <td>30.0</td>\n",
       "      <td>0.000058</td>\n",
       "    </tr>\n",
       "    <tr>\n",
       "      <th>560</th>\n",
       "      <td>AlienBlood</td>\n",
       "      <td>63.0</td>\n",
       "      <td>0.000121</td>\n",
       "    </tr>\n",
       "    <tr>\n",
       "      <th>571</th>\n",
       "      <td>AlienSky</td>\n",
       "      <td>37.0</td>\n",
       "      <td>0.000071</td>\n",
       "    </tr>\n",
       "  </tbody>\n",
       "</table>\n",
       "</div>"
      ],
      "text/plain": [
       "                      Trope  Number_movies  Probability\n",
       "62           AIIsACrapshoot           86.0     0.000165\n",
       "316          ActionSurvivor          166.0     0.000318\n",
       "414  AdmiringTheAbomination           30.0     0.000058\n",
       "560              AlienBlood           63.0     0.000121\n",
       "571                AlienSky           37.0     0.000071"
      ]
     },
     "execution_count": 5,
     "metadata": {},
     "output_type": "execute_result"
    }
   ],
   "source": [
    "# This is code for Alien specifically, should be adapted for any tropeogram\n",
    "movie_tropes = pd.read_csv(f\"{root}/Code/Alien Stuff/Alien Tropes - CodeTest.tsv\", delimiter='\\t')\n",
    "movie_tropes[\"Trope\"] = movie_tropes[\"Trope\"].apply(lambda x: x.replace(\" \", \"\")) # Remove spaces from tropes\n",
    "movie_tropes = df.where(df[\"Trope\"].isin(movie_tropes[\"Trope\"])) # Filter out anything not in movie\n",
    "movie_tropes.dropna(inplace = True) # Remove everything filtered out\n",
    "movie_tropes.drop(\"Associated_Movies\", axis = 1, inplace = True) # Drop extra column for readability\n",
    "movie_tropes.head()\n"
   ]
  },
  {
   "cell_type": "code",
   "execution_count": 3,
   "metadata": {},
   "outputs": [],
   "source": [
    "import numpy as np \n",
    "def H(list_of_probs): # Shannon entropy, sum over each trope in the movie. Other definitions of entropy pending\n",
    "    entropy = 0\n",
    "    for prob in list_of_probs:\n",
    "        if prob == 0:\n",
    "            pass\n",
    "        else:\n",
    "            entropy -= prob * np.log10(prob)\n",
    "    return entropy"
   ]
  },
  {
   "cell_type": "code",
   "execution_count": 27,
   "metadata": {},
   "outputs": [
    {
     "data": {
      "text/html": [
       "<div>\n",
       "<style scoped>\n",
       "    .dataframe tbody tr th:only-of-type {\n",
       "        vertical-align: middle;\n",
       "    }\n",
       "\n",
       "    .dataframe tbody tr th {\n",
       "        vertical-align: top;\n",
       "    }\n",
       "\n",
       "    .dataframe thead th {\n",
       "        text-align: right;\n",
       "    }\n",
       "</style>\n",
       "<table border=\"1\" class=\"dataframe\">\n",
       "  <thead>\n",
       "    <tr style=\"text-align: right;\">\n",
       "      <th></th>\n",
       "      <th>Trope</th>\n",
       "      <th>Number_movies</th>\n",
       "      <th>Probability</th>\n",
       "    </tr>\n",
       "  </thead>\n",
       "  <tbody>\n",
       "    <tr>\n",
       "      <th>12145</th>\n",
       "      <td>KarmaHoudini</td>\n",
       "      <td>961.0</td>\n",
       "      <td>0.001844</td>\n",
       "    </tr>\n",
       "    <tr>\n",
       "      <th>22231</th>\n",
       "      <td>TheCameo</td>\n",
       "      <td>937.0</td>\n",
       "      <td>0.001798</td>\n",
       "    </tr>\n",
       "    <tr>\n",
       "      <th>1432</th>\n",
       "      <td>AssholeVictim</td>\n",
       "      <td>889.0</td>\n",
       "      <td>0.001705</td>\n",
       "    </tr>\n",
       "    <tr>\n",
       "      <th>2897</th>\n",
       "      <td>BrickJoke</td>\n",
       "      <td>835.0</td>\n",
       "      <td>0.001602</td>\n",
       "    </tr>\n",
       "    <tr>\n",
       "      <th>11944</th>\n",
       "      <td>JerkWithAHeartOfGold</td>\n",
       "      <td>754.0</td>\n",
       "      <td>0.001446</td>\n",
       "    </tr>\n",
       "    <tr>\n",
       "      <th>6846</th>\n",
       "      <td>EvenEvilHasStandards</td>\n",
       "      <td>636.0</td>\n",
       "      <td>0.001220</td>\n",
       "    </tr>\n",
       "    <tr>\n",
       "      <th>22970</th>\n",
       "      <td>TheReasonYouSuckSpeech</td>\n",
       "      <td>629.0</td>\n",
       "      <td>0.001207</td>\n",
       "    </tr>\n",
       "    <tr>\n",
       "      <th>3106</th>\n",
       "      <td>ButtMonkey</td>\n",
       "      <td>627.0</td>\n",
       "      <td>0.001203</td>\n",
       "    </tr>\n",
       "    <tr>\n",
       "      <th>2494</th>\n",
       "      <td>BlatantLies</td>\n",
       "      <td>602.0</td>\n",
       "      <td>0.001155</td>\n",
       "    </tr>\n",
       "    <tr>\n",
       "      <th>15543</th>\n",
       "      <td>NotSoDifferent</td>\n",
       "      <td>587.0</td>\n",
       "      <td>0.001126</td>\n",
       "    </tr>\n",
       "  </tbody>\n",
       "</table>\n",
       "</div>"
      ],
      "text/plain": [
       "                        Trope  Number_movies  Probability\n",
       "12145            KarmaHoudini          961.0     0.001844\n",
       "22231                TheCameo          937.0     0.001798\n",
       "1432            AssholeVictim          889.0     0.001705\n",
       "2897                BrickJoke          835.0     0.001602\n",
       "11944    JerkWithAHeartOfGold          754.0     0.001446\n",
       "6846     EvenEvilHasStandards          636.0     0.001220\n",
       "22970  TheReasonYouSuckSpeech          629.0     0.001207\n",
       "3106               ButtMonkey          627.0     0.001203\n",
       "2494              BlatantLies          602.0     0.001155\n",
       "15543          NotSoDifferent          587.0     0.001126"
      ]
     },
     "execution_count": 27,
     "metadata": {},
     "output_type": "execute_result"
    }
   ],
   "source": [
    "import csv\n",
    "def find_tropes(movie):\n",
    "    with open(f\"{root}/Data/movies-vs-tropes.csv\") as file: # Pick out a movie and returns a lists of tropes\n",
    "        reader = csv.reader(file)\n",
    "        for line in reader:\n",
    "            line = list(line)\n",
    "            if line[0].split(\";\")[0] == movie: # Deal with formatting, search lines of the csv until the movie is found\n",
    "                film = line[0].split(\";\")[0]\n",
    "                trope_1 = line[0].split(\";\")[1]\n",
    "                line.pop(0)\n",
    "                line.append(trope_1)\n",
    "                return line\n",
    "            else: pass\n",
    "    return None # Error if no movie found  \n",
    "movie = \"TheDictator\" # Find tropes associated with a given movie \n",
    "tropes = find_tropes(movie)\n",
    "movie_tropes = df.where(df[\"Trope\"].isin(tropes)) # Filter out df\n",
    "movie_tropes.dropna(inplace = True) # Remove everything filtered out\n",
    "movie_tropes.drop(\"Associated_Movies\", axis = 1, inplace = True) # Drop extra column for readability\n",
    "movie_tropes.sort_values(by='Number_movies', ascending=False, inplace=True)\n",
    "movie_tropes.sort_values(by='Number_movies', ascending=False, inplace=True)\n",
    "\n",
    "movie_tropes.head(15)\n",
    "\n",
    "cutoff_movie = movie_tropes[movie_tropes['Number_movies'] < 1000]\n",
    "cutoff_movie.head(10)"
   ]
  },
  {
   "cell_type": "code",
   "execution_count": 28,
   "metadata": {},
   "outputs": [
    {
     "name": "stdout",
     "output_type": "stream",
     "text": [
      "0.1613820290943652\n"
     ]
    }
   ],
   "source": [
    "entropy = H(cutoff_movie[\"Probability\"]) # This is for baseline entropy, NOT genre dependent\n",
    "print(entropy)\n",
    "# Sort of a measure of how unexpected a movie is, higher value for lesser used tropes, test more popular films "
   ]
  },
  {
   "cell_type": "code",
   "execution_count": 9,
   "metadata": {},
   "outputs": [],
   "source": [
    "# To do - Identify genre at each time stamp and use it to find entropy values at each time stamp\n",
    "# Ex. Entropy for 'Chestburster' is likely much higher if it's within a Romance movie\n",
    "# Make probability a function of genre, genre is a function of time, so entropy is a function of time\n",
    "trope_genredf = pd.read_csv(f\"{root}/Data/liteweight/2020_genre_counts_by_trope.csv\")\n",
    "trope_genredf.head()\n",
    "genre = \"Action\" # This will wind up being replaced by the genre at a given timestamp\n",
    "# Need to access total number of movies for each genre "
   ]
  },
  {
   "cell_type": "code",
   "execution_count": null,
   "metadata": {},
   "outputs": [
    {
     "name": "stdout",
     "output_type": "stream",
     "text": [
      "161\n"
     ]
    }
   ],
   "source": [
    "# Find total number of movies for each genre\n",
    "# Use other models of entropy?\n",
    "def find_number_of_genre(genre): # Finds number of movies associated with each genre\n",
    "    movies = [] \n",
    "    with open(f\"{root}/Data/movies-vs-tropes.csv\") as file:\n",
    "        reader = csv.reader(file)\n",
    "        reader.__next__() # Skip first line\n",
    "        for line in reader:\n",
    "            movies.append(line[0])\n",
    "    movies = [movie.split(\";\")[0].lower() for movie in movies] # Get all movies used in entropy calculation\n",
    "    imdb_df = pd.read_csv(f'{root}/Data/IMBD_Dataframe.csv') # Match with IMDB data\n",
    "    imdb_df['name'] = imdb_df['name'].apply(lambda x: str(x)) # Turn movie column into strings with no spaces\n",
    "    imdb_df['name'] = imdb_df['name'].str.replace(\" \", \"\")\n",
    "    imdb_df['name'] = imdb_df['name'].apply(lambda x:x.lower())\n",
    "    imdb_df = imdb_df[imdb_df['name'].isin(movies)] # So far this is a script to cut out all movies NOT included in the tropes data\n",
    "    # Past this point is finding the genre\n",
    "    imdb_df['genre'] = imdb_df['genre'].apply(lambda x:x.replace(\"[\", '').replace(']', '')) # String formatting, SHOULD BE REDONE WITH string.translate\n",
    "    imdb_df['genre'] = imdb_df['genre'].apply(lambda x:x.replace(\"'\", \"\"))\n",
    "    imdb_df['genre'] = imdb_df['genre'].apply(lambda x:list(x.split(\",\"))) # Turn genre section into list\n",
    "    def contains_genre(list_):\n",
    "        if genre in list_:\n",
    "            return 1\n",
    "        else:\n",
    "            return 0\n",
    "    imdb_df['contained?'] = imdb_df['genre'].apply(lambda x:contains_genre(x))\n",
    "    return sum(imdb_df['contained?'])\n"
   ]
  },
  {
   "cell_type": "code",
   "execution_count": null,
   "metadata": {},
   "outputs": [
    {
     "name": "stdout",
     "output_type": "stream",
     "text": [
      "7.797482239838537\n"
     ]
    }
   ],
   "source": [
    "# Instead of using total movies, use the number of movies tagged with specific genre, then the probability becomes the associated movies / number found from function\n",
    "# This should take less than a minute to run\n",
    "def genrentropy(movie, genre):\n",
    "    genre_dependednt_df = pd.read_csv(f\"{root}/Data/liteweight/2020_genre_counts_by_trope.csv\", index_col=0) # This was opened earlier but for a different purpose\n",
    "    genre_dependednt_df['Probability'] = genre_dependednt_df[genre] / find_number_of_genre(genre) # Add probability   \n",
    "    genre_dependednt_df = genre_dependednt_df.where(genre_dependednt_df['Probability'] != 0).dropna() # Remove all zeros so that entropy is well-defined\n",
    "    tropes = find_tropes(movie)\n",
    "    genre_dependednt_df = genre_dependednt_df.where(genre_dependednt_df[\"Trope\"].isin(tropes)) # Keep in only the tropes from movie\n",
    "    genre_dependednt_df.dropna(inplace = True) # Remove everything filtered out\n",
    "    genre_dependednt_df = genre_dependednt_df[['Trope', genre, 'Probability']]\n",
    "    #genre_dependednt_df.head()\n",
    "    genre_entropy = H(genre_dependednt_df['Probability'])\n",
    "    return genre_entropy\n",
    "genrentropy_ = genrentropy('Jumanji', 'Action')"
   ]
  },
  {
   "cell_type": "code",
   "execution_count": 151,
   "metadata": {},
   "outputs": [],
   "source": [
    "genrestring = 'Action,Adult,Adventure,Animation,Biography,Comedy,Crime,Documentary,Drama,Family,Fantasy,Film-Noir,Game-Show,History,Horror,Music,Musical,Mystery,News,Romance,Sci-Fi,Short,Sport,Thriller,War,Western'\n",
    "genre_list = genrestring.split(',') # Including this because I didn't feel like opening another df globally just for column names\n",
    "genrentropy_values =[]\n",
    "for genre in genre_list:\n",
    "    genrentropy_values.append(genrentropy('GoodWillHunting', genre))\n",
    "# Takes a few minutes, if error in movie title, should be recognized within 10s"
   ]
  },
  {
   "cell_type": "code",
   "execution_count": 153,
   "metadata": {},
   "outputs": [
    {
     "data": {
      "application/vnd.plotly.v1+json": {
       "config": {
        "plotlyServerURL": "https://plot.ly"
       },
       "data": [
        {
         "alignmentgroup": "True",
         "hovertemplate": "Genre=%{x}<br>Entropy=%{y}<extra></extra>",
         "legendgroup": "",
         "marker": {
          "color": "#636efa",
          "pattern": {
           "shape": ""
          }
         },
         "name": "",
         "offsetgroup": "",
         "orientation": "v",
         "showlegend": false,
         "textposition": "auto",
         "type": "bar",
         "x": [
          "Action",
          "Adult",
          "Adventure",
          "Animation",
          "Biography",
          "Comedy",
          "Crime",
          "Documentary",
          "Drama",
          "Family",
          "Fantasy",
          "Film-Noir",
          "Game-Show",
          "History",
          "Horror",
          "Music",
          "Musical",
          "Mystery",
          "News",
          "Romance",
          "Sci-Fi",
          "Short",
          "Sport",
          "Thriller",
          "War",
          "Western"
         ],
         "xaxis": "x",
         "y": [
          2.870218871364717,
          0.037564374728998824,
          5.4893606726749855,
          1.683157967383292,
          3.0521306135881674,
          3.0476761192462174,
          3.6398541714641035,
          1.22919950075282,
          2.70758051353951,
          6.676890309314166,
          7.235861853916488,
          3.325578134708452,
          0,
          5.12218219473172,
          2.4109923504828035,
          5.818297800197587,
          4.509928754558173,
          6.472811593990671,
          0,
          8.221322642351906,
          7.281548525368132,
          1.5356971741617362,
          5.912086060165118,
          5.242689384142146,
          5.471474276882826,
          2.8213734996471764
         ],
         "yaxis": "y"
        }
       ],
       "layout": {
        "barmode": "relative",
        "legend": {
         "tracegroupgap": 0
        },
        "template": {
         "data": {
          "bar": [
           {
            "error_x": {
             "color": "#2a3f5f"
            },
            "error_y": {
             "color": "#2a3f5f"
            },
            "marker": {
             "line": {
              "color": "#E5ECF6",
              "width": 0.5
             },
             "pattern": {
              "fillmode": "overlay",
              "size": 10,
              "solidity": 0.2
             }
            },
            "type": "bar"
           }
          ],
          "barpolar": [
           {
            "marker": {
             "line": {
              "color": "#E5ECF6",
              "width": 0.5
             },
             "pattern": {
              "fillmode": "overlay",
              "size": 10,
              "solidity": 0.2
             }
            },
            "type": "barpolar"
           }
          ],
          "carpet": [
           {
            "aaxis": {
             "endlinecolor": "#2a3f5f",
             "gridcolor": "white",
             "linecolor": "white",
             "minorgridcolor": "white",
             "startlinecolor": "#2a3f5f"
            },
            "baxis": {
             "endlinecolor": "#2a3f5f",
             "gridcolor": "white",
             "linecolor": "white",
             "minorgridcolor": "white",
             "startlinecolor": "#2a3f5f"
            },
            "type": "carpet"
           }
          ],
          "choropleth": [
           {
            "colorbar": {
             "outlinewidth": 0,
             "ticks": ""
            },
            "type": "choropleth"
           }
          ],
          "contour": [
           {
            "colorbar": {
             "outlinewidth": 0,
             "ticks": ""
            },
            "colorscale": [
             [
              0,
              "#0d0887"
             ],
             [
              0.1111111111111111,
              "#46039f"
             ],
             [
              0.2222222222222222,
              "#7201a8"
             ],
             [
              0.3333333333333333,
              "#9c179e"
             ],
             [
              0.4444444444444444,
              "#bd3786"
             ],
             [
              0.5555555555555556,
              "#d8576b"
             ],
             [
              0.6666666666666666,
              "#ed7953"
             ],
             [
              0.7777777777777778,
              "#fb9f3a"
             ],
             [
              0.8888888888888888,
              "#fdca26"
             ],
             [
              1,
              "#f0f921"
             ]
            ],
            "type": "contour"
           }
          ],
          "contourcarpet": [
           {
            "colorbar": {
             "outlinewidth": 0,
             "ticks": ""
            },
            "type": "contourcarpet"
           }
          ],
          "heatmap": [
           {
            "colorbar": {
             "outlinewidth": 0,
             "ticks": ""
            },
            "colorscale": [
             [
              0,
              "#0d0887"
             ],
             [
              0.1111111111111111,
              "#46039f"
             ],
             [
              0.2222222222222222,
              "#7201a8"
             ],
             [
              0.3333333333333333,
              "#9c179e"
             ],
             [
              0.4444444444444444,
              "#bd3786"
             ],
             [
              0.5555555555555556,
              "#d8576b"
             ],
             [
              0.6666666666666666,
              "#ed7953"
             ],
             [
              0.7777777777777778,
              "#fb9f3a"
             ],
             [
              0.8888888888888888,
              "#fdca26"
             ],
             [
              1,
              "#f0f921"
             ]
            ],
            "type": "heatmap"
           }
          ],
          "heatmapgl": [
           {
            "colorbar": {
             "outlinewidth": 0,
             "ticks": ""
            },
            "colorscale": [
             [
              0,
              "#0d0887"
             ],
             [
              0.1111111111111111,
              "#46039f"
             ],
             [
              0.2222222222222222,
              "#7201a8"
             ],
             [
              0.3333333333333333,
              "#9c179e"
             ],
             [
              0.4444444444444444,
              "#bd3786"
             ],
             [
              0.5555555555555556,
              "#d8576b"
             ],
             [
              0.6666666666666666,
              "#ed7953"
             ],
             [
              0.7777777777777778,
              "#fb9f3a"
             ],
             [
              0.8888888888888888,
              "#fdca26"
             ],
             [
              1,
              "#f0f921"
             ]
            ],
            "type": "heatmapgl"
           }
          ],
          "histogram": [
           {
            "marker": {
             "pattern": {
              "fillmode": "overlay",
              "size": 10,
              "solidity": 0.2
             }
            },
            "type": "histogram"
           }
          ],
          "histogram2d": [
           {
            "colorbar": {
             "outlinewidth": 0,
             "ticks": ""
            },
            "colorscale": [
             [
              0,
              "#0d0887"
             ],
             [
              0.1111111111111111,
              "#46039f"
             ],
             [
              0.2222222222222222,
              "#7201a8"
             ],
             [
              0.3333333333333333,
              "#9c179e"
             ],
             [
              0.4444444444444444,
              "#bd3786"
             ],
             [
              0.5555555555555556,
              "#d8576b"
             ],
             [
              0.6666666666666666,
              "#ed7953"
             ],
             [
              0.7777777777777778,
              "#fb9f3a"
             ],
             [
              0.8888888888888888,
              "#fdca26"
             ],
             [
              1,
              "#f0f921"
             ]
            ],
            "type": "histogram2d"
           }
          ],
          "histogram2dcontour": [
           {
            "colorbar": {
             "outlinewidth": 0,
             "ticks": ""
            },
            "colorscale": [
             [
              0,
              "#0d0887"
             ],
             [
              0.1111111111111111,
              "#46039f"
             ],
             [
              0.2222222222222222,
              "#7201a8"
             ],
             [
              0.3333333333333333,
              "#9c179e"
             ],
             [
              0.4444444444444444,
              "#bd3786"
             ],
             [
              0.5555555555555556,
              "#d8576b"
             ],
             [
              0.6666666666666666,
              "#ed7953"
             ],
             [
              0.7777777777777778,
              "#fb9f3a"
             ],
             [
              0.8888888888888888,
              "#fdca26"
             ],
             [
              1,
              "#f0f921"
             ]
            ],
            "type": "histogram2dcontour"
           }
          ],
          "mesh3d": [
           {
            "colorbar": {
             "outlinewidth": 0,
             "ticks": ""
            },
            "type": "mesh3d"
           }
          ],
          "parcoords": [
           {
            "line": {
             "colorbar": {
              "outlinewidth": 0,
              "ticks": ""
             }
            },
            "type": "parcoords"
           }
          ],
          "pie": [
           {
            "automargin": true,
            "type": "pie"
           }
          ],
          "scatter": [
           {
            "fillpattern": {
             "fillmode": "overlay",
             "size": 10,
             "solidity": 0.2
            },
            "type": "scatter"
           }
          ],
          "scatter3d": [
           {
            "line": {
             "colorbar": {
              "outlinewidth": 0,
              "ticks": ""
             }
            },
            "marker": {
             "colorbar": {
              "outlinewidth": 0,
              "ticks": ""
             }
            },
            "type": "scatter3d"
           }
          ],
          "scattercarpet": [
           {
            "marker": {
             "colorbar": {
              "outlinewidth": 0,
              "ticks": ""
             }
            },
            "type": "scattercarpet"
           }
          ],
          "scattergeo": [
           {
            "marker": {
             "colorbar": {
              "outlinewidth": 0,
              "ticks": ""
             }
            },
            "type": "scattergeo"
           }
          ],
          "scattergl": [
           {
            "marker": {
             "colorbar": {
              "outlinewidth": 0,
              "ticks": ""
             }
            },
            "type": "scattergl"
           }
          ],
          "scattermapbox": [
           {
            "marker": {
             "colorbar": {
              "outlinewidth": 0,
              "ticks": ""
             }
            },
            "type": "scattermapbox"
           }
          ],
          "scatterpolar": [
           {
            "marker": {
             "colorbar": {
              "outlinewidth": 0,
              "ticks": ""
             }
            },
            "type": "scatterpolar"
           }
          ],
          "scatterpolargl": [
           {
            "marker": {
             "colorbar": {
              "outlinewidth": 0,
              "ticks": ""
             }
            },
            "type": "scatterpolargl"
           }
          ],
          "scatterternary": [
           {
            "marker": {
             "colorbar": {
              "outlinewidth": 0,
              "ticks": ""
             }
            },
            "type": "scatterternary"
           }
          ],
          "surface": [
           {
            "colorbar": {
             "outlinewidth": 0,
             "ticks": ""
            },
            "colorscale": [
             [
              0,
              "#0d0887"
             ],
             [
              0.1111111111111111,
              "#46039f"
             ],
             [
              0.2222222222222222,
              "#7201a8"
             ],
             [
              0.3333333333333333,
              "#9c179e"
             ],
             [
              0.4444444444444444,
              "#bd3786"
             ],
             [
              0.5555555555555556,
              "#d8576b"
             ],
             [
              0.6666666666666666,
              "#ed7953"
             ],
             [
              0.7777777777777778,
              "#fb9f3a"
             ],
             [
              0.8888888888888888,
              "#fdca26"
             ],
             [
              1,
              "#f0f921"
             ]
            ],
            "type": "surface"
           }
          ],
          "table": [
           {
            "cells": {
             "fill": {
              "color": "#EBF0F8"
             },
             "line": {
              "color": "white"
             }
            },
            "header": {
             "fill": {
              "color": "#C8D4E3"
             },
             "line": {
              "color": "white"
             }
            },
            "type": "table"
           }
          ]
         },
         "layout": {
          "annotationdefaults": {
           "arrowcolor": "#2a3f5f",
           "arrowhead": 0,
           "arrowwidth": 1
          },
          "autotypenumbers": "strict",
          "coloraxis": {
           "colorbar": {
            "outlinewidth": 0,
            "ticks": ""
           }
          },
          "colorscale": {
           "diverging": [
            [
             0,
             "#8e0152"
            ],
            [
             0.1,
             "#c51b7d"
            ],
            [
             0.2,
             "#de77ae"
            ],
            [
             0.3,
             "#f1b6da"
            ],
            [
             0.4,
             "#fde0ef"
            ],
            [
             0.5,
             "#f7f7f7"
            ],
            [
             0.6,
             "#e6f5d0"
            ],
            [
             0.7,
             "#b8e186"
            ],
            [
             0.8,
             "#7fbc41"
            ],
            [
             0.9,
             "#4d9221"
            ],
            [
             1,
             "#276419"
            ]
           ],
           "sequential": [
            [
             0,
             "#0d0887"
            ],
            [
             0.1111111111111111,
             "#46039f"
            ],
            [
             0.2222222222222222,
             "#7201a8"
            ],
            [
             0.3333333333333333,
             "#9c179e"
            ],
            [
             0.4444444444444444,
             "#bd3786"
            ],
            [
             0.5555555555555556,
             "#d8576b"
            ],
            [
             0.6666666666666666,
             "#ed7953"
            ],
            [
             0.7777777777777778,
             "#fb9f3a"
            ],
            [
             0.8888888888888888,
             "#fdca26"
            ],
            [
             1,
             "#f0f921"
            ]
           ],
           "sequentialminus": [
            [
             0,
             "#0d0887"
            ],
            [
             0.1111111111111111,
             "#46039f"
            ],
            [
             0.2222222222222222,
             "#7201a8"
            ],
            [
             0.3333333333333333,
             "#9c179e"
            ],
            [
             0.4444444444444444,
             "#bd3786"
            ],
            [
             0.5555555555555556,
             "#d8576b"
            ],
            [
             0.6666666666666666,
             "#ed7953"
            ],
            [
             0.7777777777777778,
             "#fb9f3a"
            ],
            [
             0.8888888888888888,
             "#fdca26"
            ],
            [
             1,
             "#f0f921"
            ]
           ]
          },
          "colorway": [
           "#636efa",
           "#EF553B",
           "#00cc96",
           "#ab63fa",
           "#FFA15A",
           "#19d3f3",
           "#FF6692",
           "#B6E880",
           "#FF97FF",
           "#FECB52"
          ],
          "font": {
           "color": "#2a3f5f"
          },
          "geo": {
           "bgcolor": "white",
           "lakecolor": "white",
           "landcolor": "#E5ECF6",
           "showlakes": true,
           "showland": true,
           "subunitcolor": "white"
          },
          "hoverlabel": {
           "align": "left"
          },
          "hovermode": "closest",
          "mapbox": {
           "style": "light"
          },
          "paper_bgcolor": "white",
          "plot_bgcolor": "#E5ECF6",
          "polar": {
           "angularaxis": {
            "gridcolor": "white",
            "linecolor": "white",
            "ticks": ""
           },
           "bgcolor": "#E5ECF6",
           "radialaxis": {
            "gridcolor": "white",
            "linecolor": "white",
            "ticks": ""
           }
          },
          "scene": {
           "xaxis": {
            "backgroundcolor": "#E5ECF6",
            "gridcolor": "white",
            "gridwidth": 2,
            "linecolor": "white",
            "showbackground": true,
            "ticks": "",
            "zerolinecolor": "white"
           },
           "yaxis": {
            "backgroundcolor": "#E5ECF6",
            "gridcolor": "white",
            "gridwidth": 2,
            "linecolor": "white",
            "showbackground": true,
            "ticks": "",
            "zerolinecolor": "white"
           },
           "zaxis": {
            "backgroundcolor": "#E5ECF6",
            "gridcolor": "white",
            "gridwidth": 2,
            "linecolor": "white",
            "showbackground": true,
            "ticks": "",
            "zerolinecolor": "white"
           }
          },
          "shapedefaults": {
           "line": {
            "color": "#2a3f5f"
           }
          },
          "ternary": {
           "aaxis": {
            "gridcolor": "white",
            "linecolor": "white",
            "ticks": ""
           },
           "baxis": {
            "gridcolor": "white",
            "linecolor": "white",
            "ticks": ""
           },
           "bgcolor": "#E5ECF6",
           "caxis": {
            "gridcolor": "white",
            "linecolor": "white",
            "ticks": ""
           }
          },
          "title": {
           "x": 0.05
          },
          "xaxis": {
           "automargin": true,
           "gridcolor": "white",
           "linecolor": "white",
           "ticks": "",
           "title": {
            "standoff": 15
           },
           "zerolinecolor": "white",
           "zerolinewidth": 2
          },
          "yaxis": {
           "automargin": true,
           "gridcolor": "white",
           "linecolor": "white",
           "ticks": "",
           "title": {
            "standoff": 15
           },
           "zerolinecolor": "white",
           "zerolinewidth": 2
          }
         }
        },
        "title": {
         "text": "Genre-based entropy for Good Will Hunting"
        },
        "xaxis": {
         "anchor": "y",
         "domain": [
          0,
          1
         ],
         "title": {
          "text": "Genre"
         }
        },
        "yaxis": {
         "anchor": "x",
         "domain": [
          0,
          1
         ],
         "title": {
          "text": "Entropy"
         }
        }
       }
      }
     },
     "metadata": {},
     "output_type": "display_data"
    }
   ],
   "source": [
    "import plotly.express as px\n",
    "plot_df = pd.DataFrame({'Genre':genre_list, 'Entropy':genrentropy_values})\n",
    "fig = px.bar(plot_df, x = 'Genre', y = 'Entropy', title = 'Genre-based entropy for Good Will Hunting')\n",
    "fig.show()\n"
   ]
  },
  {
   "cell_type": "code",
   "execution_count": 150,
   "metadata": {},
   "outputs": [
    {
     "name": "stdout",
     "output_type": "stream",
     "text": [
      "None\n"
     ]
    }
   ],
   "source": [
    "up = find_tropes('TheEmojiMovie')\n",
    "print(up)"
   ]
  }
 ],
 "metadata": {
  "kernelspec": {
   "display_name": "base",
   "language": "python",
   "name": "python3"
  },
  "language_info": {
   "codemirror_mode": {
    "name": "ipython",
    "version": 3
   },
   "file_extension": ".py",
   "mimetype": "text/x-python",
   "name": "python",
   "nbconvert_exporter": "python",
   "pygments_lexer": "ipython3",
   "version": "3.12.4"
  }
 },
 "nbformat": 4,
 "nbformat_minor": 2
}
